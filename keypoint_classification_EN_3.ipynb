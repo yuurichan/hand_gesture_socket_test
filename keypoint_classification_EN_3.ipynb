{
 "cells": [
  {
   "cell_type": "code",
   "execution_count": 1,
   "metadata": {
    "id": "igMyGnjE9hEp"
   },
   "outputs": [],
   "source": [
    "import csv\n",
    "\n",
    "import numpy as np\n",
    "import tensorflow as tf\n",
    "from sklearn.model_selection import train_test_split\n",
    "\n",
    "RANDOM_SEED = 42"
   ]
  },
  {
   "cell_type": "code",
   "execution_count": 2,
   "metadata": {},
   "outputs": [
    {
     "data": {
      "text/plain": [
       "'2.13.0'"
      ]
     },
     "execution_count": 2,
     "metadata": {},
     "output_type": "execute_result"
    }
   ],
   "source": [
    "tf.__version__"
   ]
  },
  {
   "cell_type": "markdown",
   "metadata": {
    "id": "t2HDvhIu9hEr"
   },
   "source": [
    "# Specify each path"
   ]
  },
  {
   "cell_type": "code",
   "execution_count": 3,
   "metadata": {
    "id": "9NvZP2Zn9hEy"
   },
   "outputs": [],
   "source": [
    "dataset = 'model/keypoint_classifier/keypoint.csv'\n",
    "model_save_path = 'model/keypoint_classifier/keypoint_classifier.keras'\n",
    "tflite_save_path = 'model/keypoint_classifier/keypoint_classifier.tflite'"
   ]
  },
  {
   "cell_type": "markdown",
   "metadata": {
    "id": "s5oMH7x19hEz"
   },
   "source": [
    "# Set number of classes"
   ]
  },
  {
   "cell_type": "code",
   "execution_count": 4,
   "metadata": {
    "id": "du4kodXL9hEz"
   },
   "outputs": [],
   "source": [
    "NUM_CLASSES = 10"
   ]
  },
  {
   "cell_type": "markdown",
   "metadata": {
    "id": "XjnL0uso9hEz"
   },
   "source": [
    "# Dataset reading\n"
   ]
  },
  {
   "cell_type": "markdown",
   "metadata": {},
   "source": [
    "## Giá trị của dữ liệu"
   ]
  },
  {
   "cell_type": "code",
   "execution_count": 5,
   "metadata": {
    "id": "QT5ZqtEz9hE0"
   },
   "outputs": [],
   "source": [
    "X_dataset = np.loadtxt(dataset, delimiter=',', dtype='float32', usecols=list(range(1, (21 * 2) + 1)))"
   ]
  },
  {
   "cell_type": "markdown",
   "metadata": {},
   "source": [
    "## Nhãn của dữ liệu"
   ]
  },
  {
   "cell_type": "code",
   "execution_count": 6,
   "metadata": {
    "id": "QmoKFsp49hE0"
   },
   "outputs": [],
   "source": [
    "y_dataset = np.loadtxt(dataset, delimiter=',', dtype='int32', usecols=(0))"
   ]
  },
  {
   "cell_type": "markdown",
   "metadata": {},
   "source": [
    "## Chia tập dữ liệu"
   ]
  },
  {
   "cell_type": "code",
   "execution_count": 7,
   "metadata": {
    "id": "xQU7JTZ_9hE0"
   },
   "outputs": [],
   "source": [
    "X_train, X_test, y_train, y_test = train_test_split(X_dataset, y_dataset, train_size=0.75, random_state=RANDOM_SEED)"
   ]
  },
  {
   "cell_type": "markdown",
   "metadata": {
    "id": "mxK_lETT9hE0"
   },
   "source": [
    "# Model building"
   ]
  },
  {
   "cell_type": "code",
   "execution_count": 8,
   "metadata": {
    "id": "vHBmUf1t9hE1"
   },
   "outputs": [],
   "source": [
    "model = tf.keras.models.Sequential([\n",
    "    tf.keras.layers.Input((21 * 2, )),\n",
    "    tf.keras.layers.Dropout(0.2),\n",
    "    tf.keras.layers.Dense(20, activation='relu'),\n",
    "    tf.keras.layers.Dropout(0.4),\n",
    "    tf.keras.layers.Dense(10, activation='relu'),\n",
    "    tf.keras.layers.Dense(NUM_CLASSES, activation='softmax')\n",
    "])"
   ]
  },
  {
   "cell_type": "code",
   "execution_count": 9,
   "metadata": {
    "colab": {
     "base_uri": "https://localhost:8080/"
    },
    "id": "ypqky9tc9hE1",
    "outputId": "5db082bb-30e3-4110-bf63-a1ee777ecd46"
   },
   "outputs": [
    {
     "name": "stdout",
     "output_type": "stream",
     "text": [
      "Model: \"sequential\"\n",
      "_________________________________________________________________\n",
      " Layer (type)                Output Shape              Param #   \n",
      "=================================================================\n",
      " dropout (Dropout)           (None, 42)                0         \n",
      "                                                                 \n",
      " dense (Dense)               (None, 20)                860       \n",
      "                                                                 \n",
      " dropout_1 (Dropout)         (None, 20)                0         \n",
      "                                                                 \n",
      " dense_1 (Dense)             (None, 10)                210       \n",
      "                                                                 \n",
      " dense_2 (Dense)             (None, 10)                110       \n",
      "                                                                 \n",
      "=================================================================\n",
      "Total params: 1180 (4.61 KB)\n",
      "Trainable params: 1180 (4.61 KB)\n",
      "Non-trainable params: 0 (0.00 Byte)\n",
      "_________________________________________________________________\n"
     ]
    }
   ],
   "source": [
    "model.summary()  # tf.keras.utils.plot_model(model, show_shapes=True)"
   ]
  },
  {
   "cell_type": "code",
   "execution_count": 10,
   "metadata": {
    "id": "MbMjOflQ9hE1"
   },
   "outputs": [],
   "source": [
    "# Model checkpoint callback\n",
    "cp_callback = tf.keras.callbacks.ModelCheckpoint(\n",
    "    model_save_path, verbose=1, save_weights_only=False)\n",
    "# Callback for early stopping\n",
    "es_callback = tf.keras.callbacks.EarlyStopping(patience=20, verbose=1)"
   ]
  },
  {
   "cell_type": "code",
   "execution_count": 11,
   "metadata": {
    "id": "c3Dac0M_9hE2"
   },
   "outputs": [],
   "source": [
    "# Model compilation\n",
    "model.compile(\n",
    "    optimizer='adam',\n",
    "    loss='sparse_categorical_crossentropy',\n",
    "    metrics=['accuracy']\n",
    ")"
   ]
  },
  {
   "cell_type": "markdown",
   "metadata": {
    "id": "7XI0j1Iu9hE2"
   },
   "source": [
    "# Model training"
   ]
  },
  {
   "cell_type": "code",
   "execution_count": 12,
   "metadata": {
    "colab": {
     "base_uri": "https://localhost:8080/"
    },
    "id": "WirBl-JE9hE3",
    "outputId": "71b30ca2-8294-4d9d-8aa2-800d90d399de",
    "scrolled": true
   },
   "outputs": [
    {
     "name": "stdout",
     "output_type": "stream",
     "text": [
      "Epoch 1/1000\n",
      "70/91 [======================>.......] - ETA: 0s - loss: 2.2514 - accuracy: 0.1296 \n",
      "Epoch 1: saving model to model/keypoint_classifier\\keypoint_classifier.keras\n",
      "91/91 [==============================] - 1s 2ms/step - loss: 2.2034 - accuracy: 0.1479 - val_loss: 1.9265 - val_accuracy: 0.1924\n",
      "Epoch 2/1000\n",
      "82/91 [==========================>...] - ETA: 0s - loss: 1.7994 - accuracy: 0.3254\n",
      "Epoch 2: saving model to model/keypoint_classifier\\keypoint_classifier.keras\n",
      "91/91 [==============================] - 0s 1ms/step - loss: 1.7775 - accuracy: 0.3330 - val_loss: 1.4550 - val_accuracy: 0.4953\n",
      "Epoch 3/1000\n",
      "81/91 [=========================>....] - ETA: 0s - loss: 1.4187 - accuracy: 0.4523\n",
      "Epoch 3: saving model to model/keypoint_classifier\\keypoint_classifier.keras\n",
      "91/91 [==============================] - 0s 999us/step - loss: 1.4028 - accuracy: 0.4597 - val_loss: 1.0536 - val_accuracy: 0.6929\n",
      "Epoch 4/1000\n",
      "81/91 [=========================>....] - ETA: 0s - loss: 1.1513 - accuracy: 0.5358\n",
      "Epoch 4: saving model to model/keypoint_classifier\\keypoint_classifier.keras\n",
      "91/91 [==============================] - 0s 992us/step - loss: 1.1431 - accuracy: 0.5383 - val_loss: 0.8201 - val_accuracy: 0.7412\n",
      "Epoch 5/1000\n",
      "80/91 [=========================>....] - ETA: 0s - loss: 1.0178 - accuracy: 0.5777\n",
      "Epoch 5: saving model to model/keypoint_classifier\\keypoint_classifier.keras\n",
      "91/91 [==============================] - 0s 989us/step - loss: 1.0125 - accuracy: 0.5794 - val_loss: 0.6894 - val_accuracy: 0.7562\n",
      "Epoch 6/1000\n",
      "85/91 [===========================>..] - ETA: 0s - loss: 0.9028 - accuracy: 0.6396\n",
      "Epoch 6: saving model to model/keypoint_classifier\\keypoint_classifier.keras\n",
      "91/91 [==============================] - 0s 969us/step - loss: 0.9029 - accuracy: 0.6394 - val_loss: 0.5621 - val_accuracy: 0.8626\n",
      "Epoch 7/1000\n",
      "86/91 [===========================>..] - ETA: 0s - loss: 0.8179 - accuracy: 0.6761\n",
      "Epoch 7: saving model to model/keypoint_classifier\\keypoint_classifier.keras\n",
      "91/91 [==============================] - 0s 970us/step - loss: 0.8153 - accuracy: 0.6769 - val_loss: 0.4582 - val_accuracy: 0.8703\n",
      "Epoch 8/1000\n",
      "87/91 [===========================>..] - ETA: 0s - loss: 0.7405 - accuracy: 0.7031\n",
      "Epoch 8: saving model to model/keypoint_classifier\\keypoint_classifier.keras\n",
      "91/91 [==============================] - 0s 944us/step - loss: 0.7414 - accuracy: 0.7021 - val_loss: 0.3956 - val_accuracy: 0.8825\n",
      "Epoch 9/1000\n",
      "87/91 [===========================>..] - ETA: 0s - loss: 0.7023 - accuracy: 0.7138\n",
      "Epoch 9: saving model to model/keypoint_classifier\\keypoint_classifier.keras\n",
      "91/91 [==============================] - 0s 953us/step - loss: 0.7015 - accuracy: 0.7142 - val_loss: 0.3551 - val_accuracy: 0.8906\n",
      "Epoch 10/1000\n",
      "89/91 [============================>.] - ETA: 0s - loss: 0.6601 - accuracy: 0.7290\n",
      "Epoch 10: saving model to model/keypoint_classifier\\keypoint_classifier.keras\n",
      "91/91 [==============================] - 0s 961us/step - loss: 0.6600 - accuracy: 0.7290 - val_loss: 0.3290 - val_accuracy: 0.8983\n",
      "Epoch 11/1000\n",
      "84/91 [==========================>...] - ETA: 0s - loss: 0.6349 - accuracy: 0.7413\n",
      "Epoch 11: saving model to model/keypoint_classifier\\keypoint_classifier.keras\n",
      "91/91 [==============================] - 0s 983us/step - loss: 0.6344 - accuracy: 0.7415 - val_loss: 0.3048 - val_accuracy: 0.8970\n",
      "Epoch 12/1000\n",
      "86/91 [===========================>..] - ETA: 0s - loss: 0.6174 - accuracy: 0.7473\n",
      "Epoch 12: saving model to model/keypoint_classifier\\keypoint_classifier.keras\n",
      "91/91 [==============================] - 0s 956us/step - loss: 0.6174 - accuracy: 0.7469 - val_loss: 0.2893 - val_accuracy: 0.8945\n",
      "Epoch 13/1000\n",
      "85/91 [===========================>..] - ETA: 0s - loss: 0.6039 - accuracy: 0.7528\n",
      "Epoch 13: saving model to model/keypoint_classifier\\keypoint_classifier.keras\n",
      "91/91 [==============================] - 0s 956us/step - loss: 0.6002 - accuracy: 0.7539 - val_loss: 0.2720 - val_accuracy: 0.9113\n",
      "Epoch 14/1000\n",
      "87/91 [===========================>..] - ETA: 0s - loss: 0.5788 - accuracy: 0.7630\n",
      "Epoch 14: saving model to model/keypoint_classifier\\keypoint_classifier.keras\n",
      "91/91 [==============================] - 0s 947us/step - loss: 0.5771 - accuracy: 0.7640 - val_loss: 0.2661 - val_accuracy: 0.9321\n",
      "Epoch 15/1000\n",
      "85/91 [===========================>..] - ETA: 0s - loss: 0.5633 - accuracy: 0.7694\n",
      "Epoch 15: saving model to model/keypoint_classifier\\keypoint_classifier.keras\n",
      "91/91 [==============================] - 0s 967us/step - loss: 0.5635 - accuracy: 0.7697 - val_loss: 0.2537 - val_accuracy: 0.9367\n",
      "Epoch 16/1000\n",
      "84/91 [==========================>...] - ETA: 0s - loss: 0.5570 - accuracy: 0.7691\n",
      "Epoch 16: saving model to model/keypoint_classifier\\keypoint_classifier.keras\n",
      "91/91 [==============================] - 0s 973us/step - loss: 0.5581 - accuracy: 0.7684 - val_loss: 0.2338 - val_accuracy: 0.9222\n",
      "Epoch 17/1000\n",
      "86/91 [===========================>..] - ETA: 0s - loss: 0.5428 - accuracy: 0.7780\n",
      "Epoch 17: saving model to model/keypoint_classifier\\keypoint_classifier.keras\n",
      "91/91 [==============================] - 0s 974us/step - loss: 0.5433 - accuracy: 0.7775 - val_loss: 0.2284 - val_accuracy: 0.9261\n",
      "Epoch 18/1000\n",
      "86/91 [===========================>..] - ETA: 0s - loss: 0.5325 - accuracy: 0.7831\n",
      "Epoch 18: saving model to model/keypoint_classifier\\keypoint_classifier.keras\n",
      "91/91 [==============================] - 0s 956us/step - loss: 0.5309 - accuracy: 0.7838 - val_loss: 0.2211 - val_accuracy: 0.9243\n",
      "Epoch 19/1000\n",
      "85/91 [===========================>..] - ETA: 0s - loss: 0.5246 - accuracy: 0.7859\n",
      "Epoch 19: saving model to model/keypoint_classifier\\keypoint_classifier.keras\n",
      "91/91 [==============================] - 0s 986us/step - loss: 0.5271 - accuracy: 0.7850 - val_loss: 0.2148 - val_accuracy: 0.9414\n",
      "Epoch 20/1000\n",
      "87/91 [===========================>..] - ETA: 0s - loss: 0.5254 - accuracy: 0.7844\n",
      "Epoch 20: saving model to model/keypoint_classifier\\keypoint_classifier.keras\n",
      "91/91 [==============================] - 0s 956us/step - loss: 0.5260 - accuracy: 0.7837 - val_loss: 0.2116 - val_accuracy: 0.9484\n",
      "Epoch 21/1000\n",
      "87/91 [===========================>..] - ETA: 0s - loss: 0.5054 - accuracy: 0.7928\n",
      "Epoch 21: saving model to model/keypoint_classifier\\keypoint_classifier.keras\n",
      "91/91 [==============================] - 0s 956us/step - loss: 0.5066 - accuracy: 0.7921 - val_loss: 0.2006 - val_accuracy: 0.9375\n",
      "Epoch 22/1000\n",
      "86/91 [===========================>..] - ETA: 0s - loss: 0.4967 - accuracy: 0.7951\n",
      "Epoch 22: saving model to model/keypoint_classifier\\keypoint_classifier.keras\n",
      "91/91 [==============================] - 0s 976us/step - loss: 0.4949 - accuracy: 0.7961 - val_loss: 0.1955 - val_accuracy: 0.9629\n",
      "Epoch 23/1000\n",
      "84/91 [==========================>...] - ETA: 0s - loss: 0.4933 - accuracy: 0.8015\n",
      "Epoch 23: saving model to model/keypoint_classifier\\keypoint_classifier.keras\n",
      "91/91 [==============================] - 0s 958us/step - loss: 0.4931 - accuracy: 0.8024 - val_loss: 0.1942 - val_accuracy: 0.9640\n",
      "Epoch 24/1000\n",
      "86/91 [===========================>..] - ETA: 0s - loss: 0.4881 - accuracy: 0.8057\n",
      "Epoch 24: saving model to model/keypoint_classifier\\keypoint_classifier.keras\n",
      "91/91 [==============================] - 0s 940us/step - loss: 0.4881 - accuracy: 0.8061 - val_loss: 0.1875 - val_accuracy: 0.9582\n",
      "Epoch 25/1000\n",
      "87/91 [===========================>..] - ETA: 0s - loss: 0.4849 - accuracy: 0.8054\n",
      "Epoch 25: saving model to model/keypoint_classifier\\keypoint_classifier.keras\n",
      "91/91 [==============================] - 0s 933us/step - loss: 0.4836 - accuracy: 0.8062 - val_loss: 0.1789 - val_accuracy: 0.9652\n",
      "Epoch 26/1000\n",
      "86/91 [===========================>..] - ETA: 0s - loss: 0.4752 - accuracy: 0.8087\n",
      "Epoch 26: saving model to model/keypoint_classifier\\keypoint_classifier.keras\n",
      "91/91 [==============================] - 0s 956us/step - loss: 0.4773 - accuracy: 0.8080 - val_loss: 0.1749 - val_accuracy: 0.9580\n",
      "Epoch 27/1000\n",
      "86/91 [===========================>..] - ETA: 0s - loss: 0.4742 - accuracy: 0.8092\n",
      "Epoch 27: saving model to model/keypoint_classifier\\keypoint_classifier.keras\n",
      "91/91 [==============================] - 0s 969us/step - loss: 0.4727 - accuracy: 0.8090 - val_loss: 0.1734 - val_accuracy: 0.9551\n",
      "Epoch 28/1000\n",
      "85/91 [===========================>..] - ETA: 0s - loss: 0.4641 - accuracy: 0.8184\n",
      "Epoch 28: saving model to model/keypoint_classifier\\keypoint_classifier.keras\n",
      "91/91 [==============================] - 0s 973us/step - loss: 0.4632 - accuracy: 0.8193 - val_loss: 0.1714 - val_accuracy: 0.9681\n",
      "Epoch 29/1000\n",
      "87/91 [===========================>..] - ETA: 0s - loss: 0.4503 - accuracy: 0.8234\n",
      "Epoch 29: saving model to model/keypoint_classifier\\keypoint_classifier.keras\n",
      "91/91 [==============================] - 0s 956us/step - loss: 0.4501 - accuracy: 0.8226 - val_loss: 0.1648 - val_accuracy: 0.9507\n",
      "Epoch 30/1000\n",
      "86/91 [===========================>..] - ETA: 0s - loss: 0.4571 - accuracy: 0.8200\n",
      "Epoch 30: saving model to model/keypoint_classifier\\keypoint_classifier.keras\n",
      "91/91 [==============================] - 0s 978us/step - loss: 0.4555 - accuracy: 0.8211 - val_loss: 0.1660 - val_accuracy: 0.9712\n",
      "Epoch 31/1000\n",
      "86/91 [===========================>..] - ETA: 0s - loss: 0.4554 - accuracy: 0.8202\n",
      "Epoch 31: saving model to model/keypoint_classifier\\keypoint_classifier.keras\n",
      "91/91 [==============================] - 0s 1ms/step - loss: 0.4518 - accuracy: 0.8223 - val_loss: 0.1588 - val_accuracy: 0.9608\n",
      "Epoch 32/1000\n",
      "86/91 [===========================>..] - ETA: 0s - loss: 0.4458 - accuracy: 0.8227\n",
      "Epoch 32: saving model to model/keypoint_classifier\\keypoint_classifier.keras\n",
      "91/91 [==============================] - 0s 961us/step - loss: 0.4452 - accuracy: 0.8227 - val_loss: 0.1567 - val_accuracy: 0.9627\n",
      "Epoch 33/1000\n",
      "85/91 [===========================>..] - ETA: 0s - loss: 0.4382 - accuracy: 0.8246\n",
      "Epoch 33: saving model to model/keypoint_classifier\\keypoint_classifier.keras\n",
      "91/91 [==============================] - 0s 956us/step - loss: 0.4382 - accuracy: 0.8253 - val_loss: 0.1586 - val_accuracy: 0.9559\n",
      "Epoch 34/1000\n",
      "84/91 [==========================>...] - ETA: 0s - loss: 0.4272 - accuracy: 0.8277\n",
      "Epoch 34: saving model to model/keypoint_classifier\\keypoint_classifier.keras\n",
      "91/91 [==============================] - 0s 978us/step - loss: 0.4275 - accuracy: 0.8283 - val_loss: 0.1581 - val_accuracy: 0.9595\n",
      "Epoch 35/1000\n",
      "82/91 [==========================>...] - ETA: 0s - loss: 0.4361 - accuracy: 0.8288\n",
      "Epoch 35: saving model to model/keypoint_classifier\\keypoint_classifier.keras\n",
      "91/91 [==============================] - 0s 979us/step - loss: 0.4384 - accuracy: 0.8275 - val_loss: 0.1537 - val_accuracy: 0.9627\n",
      "Epoch 36/1000\n",
      "88/91 [============================>.] - ETA: 0s - loss: 0.4325 - accuracy: 0.8287\n",
      "Epoch 36: saving model to model/keypoint_classifier\\keypoint_classifier.keras\n",
      "91/91 [==============================] - 0s 959us/step - loss: 0.4329 - accuracy: 0.8288 - val_loss: 0.1504 - val_accuracy: 0.9619\n",
      "Epoch 37/1000\n",
      "81/91 [=========================>....] - ETA: 0s - loss: 0.4341 - accuracy: 0.8327\n",
      "Epoch 37: saving model to model/keypoint_classifier\\keypoint_classifier.keras\n",
      "91/91 [==============================] - 0s 1ms/step - loss: 0.4310 - accuracy: 0.8315 - val_loss: 0.1481 - val_accuracy: 0.9640\n",
      "Epoch 38/1000\n",
      "87/91 [===========================>..] - ETA: 0s - loss: 0.4276 - accuracy: 0.8271\n",
      "Epoch 38: saving model to model/keypoint_classifier\\keypoint_classifier.keras\n",
      "91/91 [==============================] - 0s 968us/step - loss: 0.4273 - accuracy: 0.8281 - val_loss: 0.1433 - val_accuracy: 0.9712\n",
      "Epoch 39/1000\n",
      "88/91 [============================>.] - ETA: 0s - loss: 0.4260 - accuracy: 0.8276\n",
      "Epoch 39: saving model to model/keypoint_classifier\\keypoint_classifier.keras\n",
      "91/91 [==============================] - 0s 956us/step - loss: 0.4248 - accuracy: 0.8278 - val_loss: 0.1450 - val_accuracy: 0.9660\n",
      "Epoch 40/1000\n",
      "81/91 [=========================>....] - ETA: 0s - loss: 0.4299 - accuracy: 0.8286\n",
      "Epoch 40: saving model to model/keypoint_classifier\\keypoint_classifier.keras\n",
      "91/91 [==============================] - 0s 989us/step - loss: 0.4297 - accuracy: 0.8293 - val_loss: 0.1431 - val_accuracy: 0.9728\n",
      "Epoch 41/1000\n",
      "84/91 [==========================>...] - ETA: 0s - loss: 0.4169 - accuracy: 0.8374\n",
      "Epoch 41: saving model to model/keypoint_classifier\\keypoint_classifier.keras\n",
      "91/91 [==============================] - 0s 967us/step - loss: 0.4171 - accuracy: 0.8374 - val_loss: 0.1350 - val_accuracy: 0.9704\n",
      "Epoch 42/1000\n",
      "86/91 [===========================>..] - ETA: 0s - loss: 0.4168 - accuracy: 0.8357\n",
      "Epoch 42: saving model to model/keypoint_classifier\\keypoint_classifier.keras\n",
      "91/91 [==============================] - 0s 956us/step - loss: 0.4158 - accuracy: 0.8359 - val_loss: 0.1347 - val_accuracy: 0.9748\n",
      "Epoch 43/1000\n",
      "85/91 [===========================>..] - ETA: 0s - loss: 0.4061 - accuracy: 0.8393\n",
      "Epoch 43: saving model to model/keypoint_classifier\\keypoint_classifier.keras\n",
      "91/91 [==============================] - 0s 956us/step - loss: 0.4045 - accuracy: 0.8398 - val_loss: 0.1316 - val_accuracy: 0.9676\n",
      "Epoch 44/1000\n",
      "85/91 [===========================>..] - ETA: 0s - loss: 0.4041 - accuracy: 0.8406\n",
      "Epoch 44: saving model to model/keypoint_classifier\\keypoint_classifier.keras\n",
      "91/91 [==============================] - 0s 944us/step - loss: 0.4061 - accuracy: 0.8396 - val_loss: 0.1337 - val_accuracy: 0.9673\n",
      "Epoch 45/1000\n",
      "85/91 [===========================>..] - ETA: 0s - loss: 0.4105 - accuracy: 0.8370\n",
      "Epoch 45: saving model to model/keypoint_classifier\\keypoint_classifier.keras\n",
      "91/91 [==============================] - 0s 978us/step - loss: 0.4115 - accuracy: 0.8362 - val_loss: 0.1303 - val_accuracy: 0.9710\n",
      "Epoch 46/1000\n",
      "86/91 [===========================>..] - ETA: 0s - loss: 0.4017 - accuracy: 0.8447\n",
      "Epoch 46: saving model to model/keypoint_classifier\\keypoint_classifier.keras\n",
      "91/91 [==============================] - 0s 964us/step - loss: 0.4020 - accuracy: 0.8445 - val_loss: 0.1294 - val_accuracy: 0.9684\n",
      "Epoch 47/1000\n",
      "86/91 [===========================>..] - ETA: 0s - loss: 0.4139 - accuracy: 0.8399\n",
      "Epoch 47: saving model to model/keypoint_classifier\\keypoint_classifier.keras\n",
      "91/91 [==============================] - 0s 956us/step - loss: 0.4149 - accuracy: 0.8395 - val_loss: 0.1292 - val_accuracy: 0.9754\n",
      "Epoch 48/1000\n",
      "83/91 [==========================>...] - ETA: 0s - loss: 0.4107 - accuracy: 0.8408\n",
      "Epoch 48: saving model to model/keypoint_classifier\\keypoint_classifier.keras\n",
      "91/91 [==============================] - 0s 978us/step - loss: 0.4093 - accuracy: 0.8417 - val_loss: 0.1285 - val_accuracy: 0.9816\n",
      "Epoch 49/1000\n",
      "87/91 [===========================>..] - ETA: 0s - loss: 0.3956 - accuracy: 0.8440\n",
      "Epoch 49: saving model to model/keypoint_classifier\\keypoint_classifier.keras\n",
      "91/91 [==============================] - 0s 950us/step - loss: 0.3962 - accuracy: 0.8435 - val_loss: 0.1315 - val_accuracy: 0.9805\n",
      "Epoch 50/1000\n",
      "82/91 [==========================>...] - ETA: 0s - loss: 0.3984 - accuracy: 0.8445\n",
      "Epoch 50: saving model to model/keypoint_classifier\\keypoint_classifier.keras\n",
      "91/91 [==============================] - 0s 978us/step - loss: 0.4005 - accuracy: 0.8443 - val_loss: 0.1266 - val_accuracy: 0.9754\n",
      "Epoch 51/1000\n",
      "85/91 [===========================>..] - ETA: 0s - loss: 0.3918 - accuracy: 0.8451\n",
      "Epoch 51: saving model to model/keypoint_classifier\\keypoint_classifier.keras\n",
      "91/91 [==============================] - 0s 968us/step - loss: 0.3903 - accuracy: 0.8459 - val_loss: 0.1350 - val_accuracy: 0.9697\n",
      "Epoch 52/1000\n",
      "85/91 [===========================>..] - ETA: 0s - loss: 0.4017 - accuracy: 0.8430\n",
      "Epoch 52: saving model to model/keypoint_classifier\\keypoint_classifier.keras\n",
      "91/91 [==============================] - 0s 956us/step - loss: 0.4011 - accuracy: 0.8440 - val_loss: 0.1211 - val_accuracy: 0.9759\n",
      "Epoch 53/1000\n",
      "83/91 [==========================>...] - ETA: 0s - loss: 0.3989 - accuracy: 0.8438\n",
      "Epoch 53: saving model to model/keypoint_classifier\\keypoint_classifier.keras\n",
      "91/91 [==============================] - 0s 956us/step - loss: 0.3979 - accuracy: 0.8442 - val_loss: 0.1236 - val_accuracy: 0.9829\n",
      "Epoch 54/1000\n",
      "85/91 [===========================>..] - ETA: 0s - loss: 0.3946 - accuracy: 0.8450\n",
      "Epoch 54: saving model to model/keypoint_classifier\\keypoint_classifier.keras\n",
      "91/91 [==============================] - 0s 989us/step - loss: 0.3971 - accuracy: 0.8440 - val_loss: 0.1221 - val_accuracy: 0.9712\n",
      "Epoch 55/1000\n",
      "87/91 [===========================>..] - ETA: 0s - loss: 0.3838 - accuracy: 0.8549\n",
      "Epoch 55: saving model to model/keypoint_classifier\\keypoint_classifier.keras\n",
      "91/91 [==============================] - 0s 952us/step - loss: 0.3840 - accuracy: 0.8549 - val_loss: 0.1204 - val_accuracy: 0.9870\n",
      "Epoch 56/1000\n",
      "87/91 [===========================>..] - ETA: 0s - loss: 0.3786 - accuracy: 0.8529\n",
      "Epoch 56: saving model to model/keypoint_classifier\\keypoint_classifier.keras\n",
      "91/91 [==============================] - 0s 958us/step - loss: 0.3796 - accuracy: 0.8525 - val_loss: 0.1127 - val_accuracy: 0.9738\n",
      "Epoch 57/1000\n",
      "88/91 [============================>.] - ETA: 0s - loss: 0.3881 - accuracy: 0.8499\n",
      "Epoch 57: saving model to model/keypoint_classifier\\keypoint_classifier.keras\n",
      "91/91 [==============================] - 0s 956us/step - loss: 0.3909 - accuracy: 0.8489 - val_loss: 0.1168 - val_accuracy: 0.9715\n",
      "Epoch 58/1000\n",
      "88/91 [============================>.] - ETA: 0s - loss: 0.3827 - accuracy: 0.8493\n",
      "Epoch 58: saving model to model/keypoint_classifier\\keypoint_classifier.keras\n",
      "91/91 [==============================] - 0s 955us/step - loss: 0.3815 - accuracy: 0.8498 - val_loss: 0.1117 - val_accuracy: 0.9808\n",
      "Epoch 59/1000\n",
      "82/91 [==========================>...] - ETA: 0s - loss: 0.3936 - accuracy: 0.8470\n",
      "Epoch 59: saving model to model/keypoint_classifier\\keypoint_classifier.keras\n",
      "91/91 [==============================] - 0s 978us/step - loss: 0.3932 - accuracy: 0.8470 - val_loss: 0.1135 - val_accuracy: 0.9704\n",
      "Epoch 60/1000\n",
      "86/91 [===========================>..] - ETA: 0s - loss: 0.3892 - accuracy: 0.8492\n",
      "Epoch 60: saving model to model/keypoint_classifier\\keypoint_classifier.keras\n",
      "91/91 [==============================] - 0s 956us/step - loss: 0.3908 - accuracy: 0.8482 - val_loss: 0.1195 - val_accuracy: 0.9678\n",
      "Epoch 61/1000\n",
      "84/91 [==========================>...] - ETA: 0s - loss: 0.3852 - accuracy: 0.8436\n",
      "Epoch 61: saving model to model/keypoint_classifier\\keypoint_classifier.keras\n",
      "91/91 [==============================] - 0s 967us/step - loss: 0.3869 - accuracy: 0.8439 - val_loss: 0.1162 - val_accuracy: 0.9735\n",
      "Epoch 62/1000\n",
      "81/91 [=========================>....] - ETA: 0s - loss: 0.3869 - accuracy: 0.8526\n",
      "Epoch 62: saving model to model/keypoint_classifier\\keypoint_classifier.keras\n",
      "91/91 [==============================] - 0s 978us/step - loss: 0.3871 - accuracy: 0.8516 - val_loss: 0.1087 - val_accuracy: 0.9831\n",
      "Epoch 63/1000\n",
      "87/91 [===========================>..] - ETA: 0s - loss: 0.3787 - accuracy: 0.8525\n",
      "Epoch 63: saving model to model/keypoint_classifier\\keypoint_classifier.keras\n",
      "91/91 [==============================] - 0s 956us/step - loss: 0.3771 - accuracy: 0.8524 - val_loss: 0.1088 - val_accuracy: 0.9811\n",
      "Epoch 64/1000\n",
      "85/91 [===========================>..] - ETA: 0s - loss: 0.3780 - accuracy: 0.8519\n",
      "Epoch 64: saving model to model/keypoint_classifier\\keypoint_classifier.keras\n",
      "91/91 [==============================] - 0s 965us/step - loss: 0.3779 - accuracy: 0.8516 - val_loss: 0.1128 - val_accuracy: 0.9741\n",
      "Epoch 65/1000\n",
      "83/91 [==========================>...] - ETA: 0s - loss: 0.3887 - accuracy: 0.8496\n",
      "Epoch 65: saving model to model/keypoint_classifier\\keypoint_classifier.keras\n",
      "91/91 [==============================] - 0s 967us/step - loss: 0.3877 - accuracy: 0.8505 - val_loss: 0.1095 - val_accuracy: 0.9907\n",
      "Epoch 66/1000\n",
      "86/91 [===========================>..] - ETA: 0s - loss: 0.3588 - accuracy: 0.8617\n",
      "Epoch 66: saving model to model/keypoint_classifier\\keypoint_classifier.keras\n",
      "91/91 [==============================] - 0s 978us/step - loss: 0.3604 - accuracy: 0.8609 - val_loss: 0.1118 - val_accuracy: 0.9790\n",
      "Epoch 67/1000\n",
      "65/91 [====================>.........] - ETA: 0s - loss: 0.3720 - accuracy: 0.8590\n",
      "Epoch 67: saving model to model/keypoint_classifier\\keypoint_classifier.keras\n",
      "91/91 [==============================] - 0s 1ms/step - loss: 0.3636 - accuracy: 0.8636 - val_loss: 0.1044 - val_accuracy: 0.9735\n",
      "Epoch 68/1000\n",
      "86/91 [===========================>..] - ETA: 0s - loss: 0.3612 - accuracy: 0.8622\n",
      "Epoch 68: saving model to model/keypoint_classifier\\keypoint_classifier.keras\n",
      "91/91 [==============================] - 0s 944us/step - loss: 0.3616 - accuracy: 0.8618 - val_loss: 0.1078 - val_accuracy: 0.9715\n",
      "Epoch 69/1000\n",
      "85/91 [===========================>..] - ETA: 0s - loss: 0.3653 - accuracy: 0.8614\n",
      "Epoch 69: saving model to model/keypoint_classifier\\keypoint_classifier.keras\n",
      "91/91 [==============================] - 0s 951us/step - loss: 0.3682 - accuracy: 0.8602 - val_loss: 0.1069 - val_accuracy: 0.9746\n",
      "Epoch 70/1000\n",
      "87/91 [===========================>..] - ETA: 0s - loss: 0.3790 - accuracy: 0.8557\n",
      "Epoch 70: saving model to model/keypoint_classifier\\keypoint_classifier.keras\n",
      "91/91 [==============================] - 0s 944us/step - loss: 0.3777 - accuracy: 0.8565 - val_loss: 0.1084 - val_accuracy: 0.9728\n",
      "Epoch 71/1000\n",
      "87/91 [===========================>..] - ETA: 0s - loss: 0.3696 - accuracy: 0.8565\n",
      "Epoch 71: saving model to model/keypoint_classifier\\keypoint_classifier.keras\n",
      "91/91 [==============================] - 0s 956us/step - loss: 0.3694 - accuracy: 0.8566 - val_loss: 0.1010 - val_accuracy: 0.9733\n",
      "Epoch 72/1000\n",
      "87/91 [===========================>..] - ETA: 0s - loss: 0.3694 - accuracy: 0.8605\n",
      "Epoch 72: saving model to model/keypoint_classifier\\keypoint_classifier.keras\n",
      "91/91 [==============================] - 0s 944us/step - loss: 0.3706 - accuracy: 0.8608 - val_loss: 0.1061 - val_accuracy: 0.9735\n",
      "Epoch 73/1000\n",
      "87/91 [===========================>..] - ETA: 0s - loss: 0.3655 - accuracy: 0.8583\n",
      "Epoch 73: saving model to model/keypoint_classifier\\keypoint_classifier.keras\n",
      "91/91 [==============================] - 0s 956us/step - loss: 0.3647 - accuracy: 0.8589 - val_loss: 0.1040 - val_accuracy: 0.9704\n",
      "Epoch 74/1000\n",
      "88/91 [============================>.] - ETA: 0s - loss: 0.3765 - accuracy: 0.8578\n",
      "Epoch 74: saving model to model/keypoint_classifier\\keypoint_classifier.keras\n",
      "91/91 [==============================] - 0s 956us/step - loss: 0.3792 - accuracy: 0.8564 - val_loss: 0.0983 - val_accuracy: 0.9743\n",
      "Epoch 75/1000\n",
      "86/91 [===========================>..] - ETA: 0s - loss: 0.3629 - accuracy: 0.8587\n",
      "Epoch 75: saving model to model/keypoint_classifier\\keypoint_classifier.keras\n",
      "91/91 [==============================] - 0s 967us/step - loss: 0.3644 - accuracy: 0.8585 - val_loss: 0.1081 - val_accuracy: 0.9743\n",
      "Epoch 76/1000\n",
      "86/91 [===========================>..] - ETA: 0s - loss: 0.3636 - accuracy: 0.8616\n",
      "Epoch 76: saving model to model/keypoint_classifier\\keypoint_classifier.keras\n",
      "91/91 [==============================] - 0s 944us/step - loss: 0.3623 - accuracy: 0.8619 - val_loss: 0.0952 - val_accuracy: 0.9756\n",
      "Epoch 77/1000\n",
      "87/91 [===========================>..] - ETA: 0s - loss: 0.3540 - accuracy: 0.8646\n",
      "Epoch 77: saving model to model/keypoint_classifier\\keypoint_classifier.keras\n",
      "91/91 [==============================] - 0s 989us/step - loss: 0.3555 - accuracy: 0.8645 - val_loss: 0.0992 - val_accuracy: 0.9787\n",
      "Epoch 78/1000\n",
      "86/91 [===========================>..] - ETA: 0s - loss: 0.3702 - accuracy: 0.8579\n",
      "Epoch 78: saving model to model/keypoint_classifier\\keypoint_classifier.keras\n",
      "91/91 [==============================] - 0s 968us/step - loss: 0.3669 - accuracy: 0.8592 - val_loss: 0.1017 - val_accuracy: 0.9704\n",
      "Epoch 79/1000\n",
      "82/91 [==========================>...] - ETA: 0s - loss: 0.3644 - accuracy: 0.8582\n",
      "Epoch 79: saving model to model/keypoint_classifier\\keypoint_classifier.keras\n",
      "91/91 [==============================] - 0s 973us/step - loss: 0.3643 - accuracy: 0.8585 - val_loss: 0.1005 - val_accuracy: 0.9777\n",
      "Epoch 80/1000\n",
      "88/91 [============================>.] - ETA: 0s - loss: 0.3606 - accuracy: 0.8613\n",
      "Epoch 80: saving model to model/keypoint_classifier\\keypoint_classifier.keras\n",
      "91/91 [==============================] - 0s 956us/step - loss: 0.3599 - accuracy: 0.8615 - val_loss: 0.0946 - val_accuracy: 0.9834\n",
      "Epoch 81/1000\n",
      "89/91 [============================>.] - ETA: 0s - loss: 0.3550 - accuracy: 0.8671\n",
      "Epoch 81: saving model to model/keypoint_classifier\\keypoint_classifier.keras\n",
      "91/91 [==============================] - 0s 967us/step - loss: 0.3555 - accuracy: 0.8666 - val_loss: 0.0968 - val_accuracy: 0.9953\n",
      "Epoch 82/1000\n",
      "88/91 [============================>.] - ETA: 0s - loss: 0.3629 - accuracy: 0.8603\n",
      "Epoch 82: saving model to model/keypoint_classifier\\keypoint_classifier.keras\n",
      "91/91 [==============================] - 0s 956us/step - loss: 0.3621 - accuracy: 0.8604 - val_loss: 0.1034 - val_accuracy: 0.9759\n",
      "Epoch 83/1000\n",
      "88/91 [============================>.] - ETA: 0s - loss: 0.3625 - accuracy: 0.8612\n",
      "Epoch 83: saving model to model/keypoint_classifier\\keypoint_classifier.keras\n",
      "91/91 [==============================] - 0s 971us/step - loss: 0.3622 - accuracy: 0.8609 - val_loss: 0.0991 - val_accuracy: 0.9787\n",
      "Epoch 84/1000\n",
      "89/91 [============================>.] - ETA: 0s - loss: 0.3582 - accuracy: 0.8646\n",
      "Epoch 84: saving model to model/keypoint_classifier\\keypoint_classifier.keras\n",
      "91/91 [==============================] - 0s 956us/step - loss: 0.3579 - accuracy: 0.8653 - val_loss: 0.0941 - val_accuracy: 0.9751\n",
      "Epoch 85/1000\n",
      "88/91 [============================>.] - ETA: 0s - loss: 0.3717 - accuracy: 0.8600\n",
      "Epoch 85: saving model to model/keypoint_classifier\\keypoint_classifier.keras\n",
      "91/91 [==============================] - 0s 978us/step - loss: 0.3719 - accuracy: 0.8599 - val_loss: 0.0972 - val_accuracy: 0.9754\n",
      "Epoch 86/1000\n",
      "87/91 [===========================>..] - ETA: 0s - loss: 0.3587 - accuracy: 0.8644\n",
      "Epoch 86: saving model to model/keypoint_classifier\\keypoint_classifier.keras\n",
      "91/91 [==============================] - 0s 967us/step - loss: 0.3582 - accuracy: 0.8646 - val_loss: 0.0941 - val_accuracy: 0.9920\n",
      "Epoch 87/1000\n",
      "86/91 [===========================>..] - ETA: 0s - loss: 0.3529 - accuracy: 0.8626\n",
      "Epoch 87: saving model to model/keypoint_classifier\\keypoint_classifier.keras\n",
      "91/91 [==============================] - 0s 967us/step - loss: 0.3528 - accuracy: 0.8623 - val_loss: 0.0947 - val_accuracy: 0.9730\n",
      "Epoch 88/1000\n",
      "87/91 [===========================>..] - ETA: 0s - loss: 0.3442 - accuracy: 0.8688\n",
      "Epoch 88: saving model to model/keypoint_classifier\\keypoint_classifier.keras\n",
      "91/91 [==============================] - 0s 956us/step - loss: 0.3446 - accuracy: 0.8690 - val_loss: 0.0948 - val_accuracy: 0.9948\n",
      "Epoch 89/1000\n",
      "89/91 [============================>.] - ETA: 0s - loss: 0.3675 - accuracy: 0.8623\n",
      "Epoch 89: saving model to model/keypoint_classifier\\keypoint_classifier.keras\n",
      "91/91 [==============================] - 0s 944us/step - loss: 0.3673 - accuracy: 0.8623 - val_loss: 0.0920 - val_accuracy: 0.9780\n",
      "Epoch 90/1000\n",
      "85/91 [===========================>..] - ETA: 0s - loss: 0.3650 - accuracy: 0.8633\n",
      "Epoch 90: saving model to model/keypoint_classifier\\keypoint_classifier.keras\n",
      "91/91 [==============================] - 0s 978us/step - loss: 0.3629 - accuracy: 0.8635 - val_loss: 0.0931 - val_accuracy: 0.9946\n",
      "Epoch 91/1000\n",
      "88/91 [============================>.] - ETA: 0s - loss: 0.3638 - accuracy: 0.8600\n",
      "Epoch 91: saving model to model/keypoint_classifier\\keypoint_classifier.keras\n",
      "91/91 [==============================] - 0s 978us/step - loss: 0.3640 - accuracy: 0.8606 - val_loss: 0.0948 - val_accuracy: 0.9813\n",
      "Epoch 92/1000\n",
      "89/91 [============================>.] - ETA: 0s - loss: 0.3519 - accuracy: 0.8659\n",
      "Epoch 92: saving model to model/keypoint_classifier\\keypoint_classifier.keras\n",
      "91/91 [==============================] - 0s 945us/step - loss: 0.3533 - accuracy: 0.8658 - val_loss: 0.0938 - val_accuracy: 0.9790\n",
      "Epoch 93/1000\n",
      "88/91 [============================>.] - ETA: 0s - loss: 0.3706 - accuracy: 0.8602\n",
      "Epoch 93: saving model to model/keypoint_classifier\\keypoint_classifier.keras\n",
      "91/91 [==============================] - 0s 956us/step - loss: 0.3697 - accuracy: 0.8602 - val_loss: 0.0900 - val_accuracy: 0.9977\n",
      "Epoch 94/1000\n",
      "88/91 [============================>.] - ETA: 0s - loss: 0.3635 - accuracy: 0.8625\n",
      "Epoch 94: saving model to model/keypoint_classifier\\keypoint_classifier.keras\n",
      "91/91 [==============================] - 0s 944us/step - loss: 0.3639 - accuracy: 0.8624 - val_loss: 0.0917 - val_accuracy: 0.9824\n",
      "Epoch 95/1000\n",
      "85/91 [===========================>..] - ETA: 0s - loss: 0.3460 - accuracy: 0.8711\n",
      "Epoch 95: saving model to model/keypoint_classifier\\keypoint_classifier.keras\n",
      "91/91 [==============================] - 0s 1ms/step - loss: 0.3478 - accuracy: 0.8702 - val_loss: 0.0925 - val_accuracy: 0.9831\n",
      "Epoch 96/1000\n",
      "84/91 [==========================>...] - ETA: 0s - loss: 0.3609 - accuracy: 0.8623\n",
      "Epoch 96: saving model to model/keypoint_classifier\\keypoint_classifier.keras\n",
      "91/91 [==============================] - 0s 975us/step - loss: 0.3599 - accuracy: 0.8636 - val_loss: 0.0924 - val_accuracy: 0.9977\n",
      "Epoch 97/1000\n",
      "86/91 [===========================>..] - ETA: 0s - loss: 0.3584 - accuracy: 0.8638\n",
      "Epoch 97: saving model to model/keypoint_classifier\\keypoint_classifier.keras\n",
      "91/91 [==============================] - 0s 989us/step - loss: 0.3575 - accuracy: 0.8639 - val_loss: 0.0886 - val_accuracy: 0.9876\n",
      "Epoch 98/1000\n",
      "84/91 [==========================>...] - ETA: 0s - loss: 0.3446 - accuracy: 0.8670\n",
      "Epoch 98: saving model to model/keypoint_classifier\\keypoint_classifier.keras\n",
      "91/91 [==============================] - 0s 989us/step - loss: 0.3474 - accuracy: 0.8670 - val_loss: 0.0916 - val_accuracy: 0.9984\n",
      "Epoch 99/1000\n",
      "87/91 [===========================>..] - ETA: 0s - loss: 0.3482 - accuracy: 0.8679\n",
      "Epoch 99: saving model to model/keypoint_classifier\\keypoint_classifier.keras\n",
      "91/91 [==============================] - 0s 968us/step - loss: 0.3474 - accuracy: 0.8687 - val_loss: 0.0911 - val_accuracy: 0.9798\n",
      "Epoch 100/1000\n",
      "87/91 [===========================>..] - ETA: 0s - loss: 0.3472 - accuracy: 0.8680\n",
      "Epoch 100: saving model to model/keypoint_classifier\\keypoint_classifier.keras\n",
      "91/91 [==============================] - 0s 944us/step - loss: 0.3482 - accuracy: 0.8681 - val_loss: 0.0899 - val_accuracy: 0.9878\n",
      "Epoch 101/1000\n",
      "88/91 [============================>.] - ETA: 0s - loss: 0.3451 - accuracy: 0.8654\n",
      "Epoch 101: saving model to model/keypoint_classifier\\keypoint_classifier.keras\n",
      "91/91 [==============================] - 0s 956us/step - loss: 0.3449 - accuracy: 0.8653 - val_loss: 0.0917 - val_accuracy: 0.9852\n",
      "Epoch 102/1000\n",
      "83/91 [==========================>...] - ETA: 0s - loss: 0.3427 - accuracy: 0.8702\n",
      "Epoch 102: saving model to model/keypoint_classifier\\keypoint_classifier.keras\n",
      "91/91 [==============================] - 0s 978us/step - loss: 0.3401 - accuracy: 0.8715 - val_loss: 0.0849 - val_accuracy: 0.9844\n",
      "Epoch 103/1000\n",
      "84/91 [==========================>...] - ETA: 0s - loss: 0.3464 - accuracy: 0.8668\n",
      "Epoch 103: saving model to model/keypoint_classifier\\keypoint_classifier.keras\n",
      "91/91 [==============================] - 0s 956us/step - loss: 0.3490 - accuracy: 0.8675 - val_loss: 0.0895 - val_accuracy: 0.9787\n",
      "Epoch 104/1000\n",
      "84/91 [==========================>...] - ETA: 0s - loss: 0.3518 - accuracy: 0.8712\n",
      "Epoch 104: saving model to model/keypoint_classifier\\keypoint_classifier.keras\n",
      "91/91 [==============================] - 0s 967us/step - loss: 0.3522 - accuracy: 0.8706 - val_loss: 0.0891 - val_accuracy: 0.9761\n",
      "Epoch 105/1000\n",
      "83/91 [==========================>...] - ETA: 0s - loss: 0.3391 - accuracy: 0.8742\n",
      "Epoch 105: saving model to model/keypoint_classifier\\keypoint_classifier.keras\n",
      "91/91 [==============================] - 0s 973us/step - loss: 0.3391 - accuracy: 0.8750 - val_loss: 0.0862 - val_accuracy: 0.9935\n",
      "Epoch 106/1000\n",
      "85/91 [===========================>..] - ETA: 0s - loss: 0.3541 - accuracy: 0.8680\n",
      "Epoch 106: saving model to model/keypoint_classifier\\keypoint_classifier.keras\n",
      "91/91 [==============================] - 0s 967us/step - loss: 0.3554 - accuracy: 0.8678 - val_loss: 0.0869 - val_accuracy: 0.9821\n",
      "Epoch 107/1000\n",
      "87/91 [===========================>..] - ETA: 0s - loss: 0.3446 - accuracy: 0.8695\n",
      "Epoch 107: saving model to model/keypoint_classifier\\keypoint_classifier.keras\n",
      "91/91 [==============================] - 0s 956us/step - loss: 0.3465 - accuracy: 0.8683 - val_loss: 0.0878 - val_accuracy: 0.9901\n",
      "Epoch 108/1000\n",
      "85/91 [===========================>..] - ETA: 0s - loss: 0.3492 - accuracy: 0.8683\n",
      "Epoch 108: saving model to model/keypoint_classifier\\keypoint_classifier.keras\n",
      "91/91 [==============================] - 0s 964us/step - loss: 0.3481 - accuracy: 0.8688 - val_loss: 0.0884 - val_accuracy: 0.9738\n",
      "Epoch 109/1000\n",
      "84/91 [==========================>...] - ETA: 0s - loss: 0.3509 - accuracy: 0.8677\n",
      "Epoch 109: saving model to model/keypoint_classifier\\keypoint_classifier.keras\n",
      "91/91 [==============================] - 0s 980us/step - loss: 0.3491 - accuracy: 0.8685 - val_loss: 0.0877 - val_accuracy: 0.9943\n",
      "Epoch 110/1000\n",
      "85/91 [===========================>..] - ETA: 0s - loss: 0.3380 - accuracy: 0.8702\n",
      "Epoch 110: saving model to model/keypoint_classifier\\keypoint_classifier.keras\n",
      "91/91 [==============================] - 0s 978us/step - loss: 0.3392 - accuracy: 0.8700 - val_loss: 0.0852 - val_accuracy: 0.9933\n",
      "Epoch 111/1000\n",
      "87/91 [===========================>..] - ETA: 0s - loss: 0.3376 - accuracy: 0.8748\n",
      "Epoch 111: saving model to model/keypoint_classifier\\keypoint_classifier.keras\n",
      "91/91 [==============================] - 0s 956us/step - loss: 0.3389 - accuracy: 0.8746 - val_loss: 0.0862 - val_accuracy: 0.9912\n",
      "Epoch 112/1000\n",
      "79/91 [=========================>....] - ETA: 0s - loss: 0.3304 - accuracy: 0.8805\n",
      "Epoch 112: saving model to model/keypoint_classifier\\keypoint_classifier.keras\n",
      "91/91 [==============================] - 0s 1ms/step - loss: 0.3275 - accuracy: 0.8803 - val_loss: 0.0796 - val_accuracy: 0.9977\n",
      "Epoch 113/1000\n",
      "85/91 [===========================>..] - ETA: 0s - loss: 0.3441 - accuracy: 0.8670\n",
      "Epoch 113: saving model to model/keypoint_classifier\\keypoint_classifier.keras\n",
      "91/91 [==============================] - 0s 967us/step - loss: 0.3424 - accuracy: 0.8683 - val_loss: 0.0827 - val_accuracy: 0.9785\n",
      "Epoch 114/1000\n",
      "86/91 [===========================>..] - ETA: 0s - loss: 0.3466 - accuracy: 0.8720\n",
      "Epoch 114: saving model to model/keypoint_classifier\\keypoint_classifier.keras\n",
      "91/91 [==============================] - 0s 956us/step - loss: 0.3481 - accuracy: 0.8711 - val_loss: 0.0877 - val_accuracy: 0.9933\n",
      "Epoch 115/1000\n",
      "86/91 [===========================>..] - ETA: 0s - loss: 0.3290 - accuracy: 0.8765\n",
      "Epoch 115: saving model to model/keypoint_classifier\\keypoint_classifier.keras\n",
      "91/91 [==============================] - 0s 950us/step - loss: 0.3295 - accuracy: 0.8763 - val_loss: 0.0837 - val_accuracy: 0.9894\n",
      "Epoch 116/1000\n",
      "86/91 [===========================>..] - ETA: 0s - loss: 0.3261 - accuracy: 0.8780\n",
      "Epoch 116: saving model to model/keypoint_classifier\\keypoint_classifier.keras\n",
      "91/91 [==============================] - 0s 947us/step - loss: 0.3273 - accuracy: 0.8771 - val_loss: 0.0858 - val_accuracy: 0.9979\n",
      "Epoch 117/1000\n",
      "85/91 [===========================>..] - ETA: 0s - loss: 0.3494 - accuracy: 0.8676\n",
      "Epoch 117: saving model to model/keypoint_classifier\\keypoint_classifier.keras\n",
      "91/91 [==============================] - 0s 978us/step - loss: 0.3472 - accuracy: 0.8693 - val_loss: 0.0836 - val_accuracy: 0.9964\n",
      "Epoch 118/1000\n",
      "84/91 [==========================>...] - ETA: 0s - loss: 0.3359 - accuracy: 0.8766\n",
      "Epoch 118: saving model to model/keypoint_classifier\\keypoint_classifier.keras\n",
      "91/91 [==============================] - 0s 978us/step - loss: 0.3374 - accuracy: 0.8757 - val_loss: 0.0839 - val_accuracy: 0.9839\n",
      "Epoch 119/1000\n",
      "85/91 [===========================>..] - ETA: 0s - loss: 0.3409 - accuracy: 0.8754\n",
      "Epoch 119: saving model to model/keypoint_classifier\\keypoint_classifier.keras\n",
      "91/91 [==============================] - 0s 978us/step - loss: 0.3408 - accuracy: 0.8752 - val_loss: 0.0816 - val_accuracy: 0.9899\n",
      "Epoch 120/1000\n",
      "84/91 [==========================>...] - ETA: 0s - loss: 0.3348 - accuracy: 0.8751\n",
      "Epoch 120: saving model to model/keypoint_classifier\\keypoint_classifier.keras\n",
      "91/91 [==============================] - 0s 967us/step - loss: 0.3347 - accuracy: 0.8741 - val_loss: 0.0859 - val_accuracy: 0.9974\n",
      "Epoch 121/1000\n",
      "86/91 [===========================>..] - ETA: 0s - loss: 0.3304 - accuracy: 0.8729\n",
      "Epoch 121: saving model to model/keypoint_classifier\\keypoint_classifier.keras\n",
      "91/91 [==============================] - 0s 967us/step - loss: 0.3319 - accuracy: 0.8727 - val_loss: 0.0836 - val_accuracy: 0.9974\n",
      "Epoch 122/1000\n",
      "86/91 [===========================>..] - ETA: 0s - loss: 0.3282 - accuracy: 0.8790\n",
      "Epoch 122: saving model to model/keypoint_classifier\\keypoint_classifier.keras\n",
      "91/91 [==============================] - 0s 944us/step - loss: 0.3268 - accuracy: 0.8797 - val_loss: 0.0788 - val_accuracy: 0.9984\n",
      "Epoch 123/1000\n",
      "84/91 [==========================>...] - ETA: 0s - loss: 0.3393 - accuracy: 0.8751\n",
      "Epoch 123: saving model to model/keypoint_classifier\\keypoint_classifier.keras\n",
      "91/91 [==============================] - 0s 972us/step - loss: 0.3372 - accuracy: 0.8762 - val_loss: 0.0831 - val_accuracy: 0.9935\n",
      "Epoch 124/1000\n",
      "83/91 [==========================>...] - ETA: 0s - loss: 0.3286 - accuracy: 0.8757\n",
      "Epoch 124: saving model to model/keypoint_classifier\\keypoint_classifier.keras\n",
      "91/91 [==============================] - 0s 989us/step - loss: 0.3276 - accuracy: 0.8765 - val_loss: 0.0853 - val_accuracy: 0.9982\n",
      "Epoch 125/1000\n",
      "85/91 [===========================>..] - ETA: 0s - loss: 0.3316 - accuracy: 0.8757\n",
      "Epoch 125: saving model to model/keypoint_classifier\\keypoint_classifier.keras\n",
      "91/91 [==============================] - 0s 965us/step - loss: 0.3315 - accuracy: 0.8762 - val_loss: 0.0812 - val_accuracy: 0.9886\n",
      "Epoch 126/1000\n",
      "87/91 [===========================>..] - ETA: 0s - loss: 0.3358 - accuracy: 0.8720\n",
      "Epoch 126: saving model to model/keypoint_classifier\\keypoint_classifier.keras\n",
      "91/91 [==============================] - 0s 989us/step - loss: 0.3352 - accuracy: 0.8719 - val_loss: 0.0820 - val_accuracy: 0.9979\n",
      "Epoch 127/1000\n",
      "87/91 [===========================>..] - ETA: 0s - loss: 0.3251 - accuracy: 0.8769\n",
      "Epoch 127: saving model to model/keypoint_classifier\\keypoint_classifier.keras\n",
      "91/91 [==============================] - 0s 944us/step - loss: 0.3265 - accuracy: 0.8765 - val_loss: 0.0767 - val_accuracy: 0.9953\n",
      "Epoch 128/1000\n",
      "85/91 [===========================>..] - ETA: 0s - loss: 0.3325 - accuracy: 0.8753\n",
      "Epoch 128: saving model to model/keypoint_classifier\\keypoint_classifier.keras\n",
      "91/91 [==============================] - 0s 967us/step - loss: 0.3354 - accuracy: 0.8753 - val_loss: 0.0837 - val_accuracy: 0.9953\n",
      "Epoch 129/1000\n",
      "85/91 [===========================>..] - ETA: 0s - loss: 0.3290 - accuracy: 0.8774\n",
      "Epoch 129: saving model to model/keypoint_classifier\\keypoint_classifier.keras\n",
      "91/91 [==============================] - 0s 968us/step - loss: 0.3287 - accuracy: 0.8783 - val_loss: 0.0814 - val_accuracy: 0.9785\n",
      "Epoch 130/1000\n",
      "86/91 [===========================>..] - ETA: 0s - loss: 0.3296 - accuracy: 0.8756\n",
      "Epoch 130: saving model to model/keypoint_classifier\\keypoint_classifier.keras\n",
      "91/91 [==============================] - 0s 989us/step - loss: 0.3302 - accuracy: 0.8751 - val_loss: 0.0765 - val_accuracy: 0.9984\n",
      "Epoch 131/1000\n",
      "86/91 [===========================>..] - ETA: 0s - loss: 0.3304 - accuracy: 0.8786\n",
      "Epoch 131: saving model to model/keypoint_classifier\\keypoint_classifier.keras\n",
      "91/91 [==============================] - 0s 963us/step - loss: 0.3292 - accuracy: 0.8789 - val_loss: 0.0786 - val_accuracy: 0.9907\n",
      "Epoch 132/1000\n",
      "85/91 [===========================>..] - ETA: 0s - loss: 0.3435 - accuracy: 0.8729\n",
      "Epoch 132: saving model to model/keypoint_classifier\\keypoint_classifier.keras\n",
      "91/91 [==============================] - 0s 963us/step - loss: 0.3438 - accuracy: 0.8725 - val_loss: 0.0827 - val_accuracy: 0.9977\n",
      "Epoch 133/1000\n",
      "84/91 [==========================>...] - ETA: 0s - loss: 0.3375 - accuracy: 0.8719\n",
      "Epoch 133: saving model to model/keypoint_classifier\\keypoint_classifier.keras\n",
      "91/91 [==============================] - 0s 978us/step - loss: 0.3344 - accuracy: 0.8735 - val_loss: 0.0853 - val_accuracy: 0.9974\n",
      "Epoch 134/1000\n",
      "88/91 [============================>.] - ETA: 0s - loss: 0.3264 - accuracy: 0.8796\n",
      "Epoch 134: saving model to model/keypoint_classifier\\keypoint_classifier.keras\n",
      "91/91 [==============================] - 0s 947us/step - loss: 0.3260 - accuracy: 0.8804 - val_loss: 0.0773 - val_accuracy: 0.9938\n",
      "Epoch 135/1000\n",
      "87/91 [===========================>..] - ETA: 0s - loss: 0.3264 - accuracy: 0.8801\n",
      "Epoch 135: saving model to model/keypoint_classifier\\keypoint_classifier.keras\n",
      "91/91 [==============================] - 0s 944us/step - loss: 0.3249 - accuracy: 0.8804 - val_loss: 0.0777 - val_accuracy: 0.9948\n",
      "Epoch 136/1000\n",
      "86/91 [===========================>..] - ETA: 0s - loss: 0.3263 - accuracy: 0.8805\n",
      "Epoch 136: saving model to model/keypoint_classifier\\keypoint_classifier.keras\n",
      "91/91 [==============================] - 0s 956us/step - loss: 0.3249 - accuracy: 0.8805 - val_loss: 0.0748 - val_accuracy: 0.9984\n",
      "Epoch 137/1000\n",
      "84/91 [==========================>...] - ETA: 0s - loss: 0.3371 - accuracy: 0.8730\n",
      "Epoch 137: saving model to model/keypoint_classifier\\keypoint_classifier.keras\n",
      "91/91 [==============================] - 0s 978us/step - loss: 0.3357 - accuracy: 0.8741 - val_loss: 0.0802 - val_accuracy: 0.9987\n",
      "Epoch 138/1000\n",
      "83/91 [==========================>...] - ETA: 0s - loss: 0.3312 - accuracy: 0.8748\n",
      "Epoch 138: saving model to model/keypoint_classifier\\keypoint_classifier.keras\n",
      "91/91 [==============================] - 0s 978us/step - loss: 0.3291 - accuracy: 0.8758 - val_loss: 0.0760 - val_accuracy: 0.9987\n",
      "Epoch 139/1000\n",
      "86/91 [===========================>..] - ETA: 0s - loss: 0.3293 - accuracy: 0.8747\n",
      "Epoch 139: saving model to model/keypoint_classifier\\keypoint_classifier.keras\n",
      "91/91 [==============================] - 0s 956us/step - loss: 0.3288 - accuracy: 0.8748 - val_loss: 0.0717 - val_accuracy: 0.9987\n",
      "Epoch 140/1000\n",
      "84/91 [==========================>...] - ETA: 0s - loss: 0.3255 - accuracy: 0.8779\n",
      "Epoch 140: saving model to model/keypoint_classifier\\keypoint_classifier.keras\n",
      "91/91 [==============================] - 0s 944us/step - loss: 0.3239 - accuracy: 0.8787 - val_loss: 0.0757 - val_accuracy: 0.9982\n",
      "Epoch 141/1000\n",
      "87/91 [===========================>..] - ETA: 0s - loss: 0.3236 - accuracy: 0.8781\n",
      "Epoch 141: saving model to model/keypoint_classifier\\keypoint_classifier.keras\n",
      "91/91 [==============================] - 0s 956us/step - loss: 0.3240 - accuracy: 0.8778 - val_loss: 0.0807 - val_accuracy: 0.9977\n",
      "Epoch 142/1000\n",
      "85/91 [===========================>..] - ETA: 0s - loss: 0.3202 - accuracy: 0.8801\n",
      "Epoch 142: saving model to model/keypoint_classifier\\keypoint_classifier.keras\n",
      "91/91 [==============================] - 0s 967us/step - loss: 0.3192 - accuracy: 0.8797 - val_loss: 0.0791 - val_accuracy: 0.9982\n",
      "Epoch 143/1000\n",
      "77/91 [========================>.....] - ETA: 0s - loss: 0.3250 - accuracy: 0.8803\n",
      "Epoch 143: saving model to model/keypoint_classifier\\keypoint_classifier.keras\n",
      "91/91 [==============================] - 0s 1ms/step - loss: 0.3302 - accuracy: 0.8792 - val_loss: 0.0737 - val_accuracy: 0.9990\n",
      "Epoch 144/1000\n",
      "85/91 [===========================>..] - ETA: 0s - loss: 0.3073 - accuracy: 0.8863\n",
      "Epoch 144: saving model to model/keypoint_classifier\\keypoint_classifier.keras\n",
      "91/91 [==============================] - 0s 956us/step - loss: 0.3079 - accuracy: 0.8866 - val_loss: 0.0776 - val_accuracy: 0.9987\n",
      "Epoch 145/1000\n",
      "85/91 [===========================>..] - ETA: 0s - loss: 0.3355 - accuracy: 0.8758\n",
      "Epoch 145: saving model to model/keypoint_classifier\\keypoint_classifier.keras\n",
      "91/91 [==============================] - 0s 965us/step - loss: 0.3313 - accuracy: 0.8772 - val_loss: 0.0742 - val_accuracy: 0.9982\n",
      "Epoch 146/1000\n",
      "85/91 [===========================>..] - ETA: 0s - loss: 0.3210 - accuracy: 0.8819\n",
      "Epoch 146: saving model to model/keypoint_classifier\\keypoint_classifier.keras\n",
      "91/91 [==============================] - 0s 985us/step - loss: 0.3216 - accuracy: 0.8815 - val_loss: 0.0751 - val_accuracy: 0.9969\n",
      "Epoch 147/1000\n",
      "83/91 [==========================>...] - ETA: 0s - loss: 0.3261 - accuracy: 0.8721\n",
      "Epoch 147: saving model to model/keypoint_classifier\\keypoint_classifier.keras\n",
      "91/91 [==============================] - 0s 970us/step - loss: 0.3297 - accuracy: 0.8719 - val_loss: 0.0732 - val_accuracy: 0.9982\n",
      "Epoch 148/1000\n",
      "87/91 [===========================>..] - ETA: 0s - loss: 0.3174 - accuracy: 0.8799\n",
      "Epoch 148: saving model to model/keypoint_classifier\\keypoint_classifier.keras\n",
      "91/91 [==============================] - 0s 969us/step - loss: 0.3165 - accuracy: 0.8802 - val_loss: 0.0733 - val_accuracy: 0.9992\n",
      "Epoch 149/1000\n",
      "84/91 [==========================>...] - ETA: 0s - loss: 0.3236 - accuracy: 0.8781\n",
      "Epoch 149: saving model to model/keypoint_classifier\\keypoint_classifier.keras\n",
      "91/91 [==============================] - 0s 967us/step - loss: 0.3219 - accuracy: 0.8791 - val_loss: 0.0759 - val_accuracy: 0.9974\n",
      "Epoch 150/1000\n",
      "85/91 [===========================>..] - ETA: 0s - loss: 0.3212 - accuracy: 0.8801\n",
      "Epoch 150: saving model to model/keypoint_classifier\\keypoint_classifier.keras\n",
      "91/91 [==============================] - 0s 960us/step - loss: 0.3218 - accuracy: 0.8793 - val_loss: 0.0732 - val_accuracy: 0.9987\n",
      "Epoch 151/1000\n",
      "81/91 [=========================>....] - ETA: 0s - loss: 0.3166 - accuracy: 0.8771\n",
      "Epoch 151: saving model to model/keypoint_classifier\\keypoint_classifier.keras\n",
      "91/91 [==============================] - 0s 990us/step - loss: 0.3170 - accuracy: 0.8773 - val_loss: 0.0738 - val_accuracy: 0.9995\n",
      "Epoch 152/1000\n",
      "76/91 [========================>.....] - ETA: 0s - loss: 0.3229 - accuracy: 0.8779\n",
      "Epoch 152: saving model to model/keypoint_classifier\\keypoint_classifier.keras\n",
      "91/91 [==============================] - 0s 1ms/step - loss: 0.3212 - accuracy: 0.8796 - val_loss: 0.0747 - val_accuracy: 0.9977\n",
      "Epoch 153/1000\n",
      "83/91 [==========================>...] - ETA: 0s - loss: 0.3256 - accuracy: 0.8808\n",
      "Epoch 153: saving model to model/keypoint_classifier\\keypoint_classifier.keras\n",
      "91/91 [==============================] - 0s 985us/step - loss: 0.3237 - accuracy: 0.8816 - val_loss: 0.0776 - val_accuracy: 0.9984\n",
      "Epoch 154/1000\n",
      "85/91 [===========================>..] - ETA: 0s - loss: 0.3238 - accuracy: 0.8813\n",
      "Epoch 154: saving model to model/keypoint_classifier\\keypoint_classifier.keras\n",
      "91/91 [==============================] - 0s 978us/step - loss: 0.3211 - accuracy: 0.8816 - val_loss: 0.0757 - val_accuracy: 0.9873\n",
      "Epoch 155/1000\n",
      "82/91 [==========================>...] - ETA: 0s - loss: 0.3258 - accuracy: 0.8758\n",
      "Epoch 155: saving model to model/keypoint_classifier\\keypoint_classifier.keras\n",
      "91/91 [==============================] - 0s 989us/step - loss: 0.3228 - accuracy: 0.8770 - val_loss: 0.0693 - val_accuracy: 0.9990\n",
      "Epoch 156/1000\n",
      "85/91 [===========================>..] - ETA: 0s - loss: 0.3176 - accuracy: 0.8801\n",
      "Epoch 156: saving model to model/keypoint_classifier\\keypoint_classifier.keras\n",
      "91/91 [==============================] - 0s 974us/step - loss: 0.3200 - accuracy: 0.8783 - val_loss: 0.0808 - val_accuracy: 0.9982\n",
      "Epoch 157/1000\n",
      "87/91 [===========================>..] - ETA: 0s - loss: 0.3160 - accuracy: 0.8845\n",
      "Epoch 157: saving model to model/keypoint_classifier\\keypoint_classifier.keras\n",
      "91/91 [==============================] - 0s 978us/step - loss: 0.3169 - accuracy: 0.8846 - val_loss: 0.0710 - val_accuracy: 0.9977\n",
      "Epoch 158/1000\n",
      "86/91 [===========================>..] - ETA: 0s - loss: 0.3322 - accuracy: 0.8743\n",
      "Epoch 158: saving model to model/keypoint_classifier\\keypoint_classifier.keras\n",
      "91/91 [==============================] - 0s 967us/step - loss: 0.3310 - accuracy: 0.8746 - val_loss: 0.0778 - val_accuracy: 0.9982\n",
      "Epoch 159/1000\n",
      "83/91 [==========================>...] - ETA: 0s - loss: 0.3254 - accuracy: 0.8781\n",
      "Epoch 159: saving model to model/keypoint_classifier\\keypoint_classifier.keras\n",
      "91/91 [==============================] - 0s 967us/step - loss: 0.3278 - accuracy: 0.8772 - val_loss: 0.0768 - val_accuracy: 0.9987\n",
      "Epoch 160/1000\n",
      "86/91 [===========================>..] - ETA: 0s - loss: 0.3185 - accuracy: 0.8785\n",
      "Epoch 160: saving model to model/keypoint_classifier\\keypoint_classifier.keras\n",
      "91/91 [==============================] - 0s 967us/step - loss: 0.3184 - accuracy: 0.8789 - val_loss: 0.0713 - val_accuracy: 0.9987\n",
      "Epoch 161/1000\n",
      "87/91 [===========================>..] - ETA: 0s - loss: 0.3207 - accuracy: 0.8777\n",
      "Epoch 161: saving model to model/keypoint_classifier\\keypoint_classifier.keras\n",
      "91/91 [==============================] - 0s 956us/step - loss: 0.3205 - accuracy: 0.8779 - val_loss: 0.0690 - val_accuracy: 0.9979\n",
      "Epoch 162/1000\n",
      "84/91 [==========================>...] - ETA: 0s - loss: 0.3236 - accuracy: 0.8790\n",
      "Epoch 162: saving model to model/keypoint_classifier\\keypoint_classifier.keras\n",
      "91/91 [==============================] - 0s 978us/step - loss: 0.3208 - accuracy: 0.8808 - val_loss: 0.0754 - val_accuracy: 0.9977\n",
      "Epoch 163/1000\n",
      "87/91 [===========================>..] - ETA: 0s - loss: 0.3172 - accuracy: 0.8816\n",
      "Epoch 163: saving model to model/keypoint_classifier\\keypoint_classifier.keras\n",
      "91/91 [==============================] - 0s 956us/step - loss: 0.3180 - accuracy: 0.8808 - val_loss: 0.0755 - val_accuracy: 0.9990\n",
      "Epoch 164/1000\n",
      "80/91 [=========================>....] - ETA: 0s - loss: 0.3242 - accuracy: 0.8782\n",
      "Epoch 164: saving model to model/keypoint_classifier\\keypoint_classifier.keras\n",
      "91/91 [==============================] - 0s 1ms/step - loss: 0.3227 - accuracy: 0.8789 - val_loss: 0.0752 - val_accuracy: 0.9979\n",
      "Epoch 165/1000\n",
      "79/91 [=========================>....] - ETA: 0s - loss: 0.3161 - accuracy: 0.8783\n",
      "Epoch 165: saving model to model/keypoint_classifier\\keypoint_classifier.keras\n",
      "91/91 [==============================] - 0s 1ms/step - loss: 0.3175 - accuracy: 0.8776 - val_loss: 0.0766 - val_accuracy: 0.9984\n",
      "Epoch 166/1000\n",
      "86/91 [===========================>..] - ETA: 0s - loss: 0.3147 - accuracy: 0.8818\n",
      "Epoch 166: saving model to model/keypoint_classifier\\keypoint_classifier.keras\n",
      "91/91 [==============================] - 0s 956us/step - loss: 0.3169 - accuracy: 0.8815 - val_loss: 0.0753 - val_accuracy: 0.9987\n",
      "Epoch 167/1000\n",
      "80/91 [=========================>....] - ETA: 0s - loss: 0.3128 - accuracy: 0.8824\n",
      "Epoch 167: saving model to model/keypoint_classifier\\keypoint_classifier.keras\n",
      "91/91 [==============================] - 0s 1ms/step - loss: 0.3135 - accuracy: 0.8825 - val_loss: 0.0769 - val_accuracy: 0.9971\n",
      "Epoch 168/1000\n",
      "87/91 [===========================>..] - ETA: 0s - loss: 0.3171 - accuracy: 0.8791\n",
      "Epoch 168: saving model to model/keypoint_classifier\\keypoint_classifier.keras\n",
      "91/91 [==============================] - 0s 967us/step - loss: 0.3179 - accuracy: 0.8787 - val_loss: 0.0705 - val_accuracy: 0.9995\n",
      "Epoch 169/1000\n",
      "87/91 [===========================>..] - ETA: 0s - loss: 0.3204 - accuracy: 0.8791\n",
      "Epoch 169: saving model to model/keypoint_classifier\\keypoint_classifier.keras\n",
      "91/91 [==============================] - 0s 967us/step - loss: 0.3201 - accuracy: 0.8791 - val_loss: 0.0749 - val_accuracy: 0.9971\n",
      "Epoch 170/1000\n",
      "86/91 [===========================>..] - ETA: 0s - loss: 0.3022 - accuracy: 0.8864\n",
      "Epoch 170: saving model to model/keypoint_classifier\\keypoint_classifier.keras\n",
      "91/91 [==============================] - 0s 944us/step - loss: 0.3038 - accuracy: 0.8853 - val_loss: 0.0735 - val_accuracy: 0.9979\n",
      "Epoch 171/1000\n",
      "79/91 [=========================>....] - ETA: 0s - loss: 0.3131 - accuracy: 0.8845\n",
      "Epoch 171: saving model to model/keypoint_classifier\\keypoint_classifier.keras\n",
      "91/91 [==============================] - 0s 989us/step - loss: 0.3125 - accuracy: 0.8847 - val_loss: 0.0670 - val_accuracy: 0.9990\n",
      "Epoch 172/1000\n",
      "88/91 [============================>.] - ETA: 0s - loss: 0.3195 - accuracy: 0.8822\n",
      "Epoch 172: saving model to model/keypoint_classifier\\keypoint_classifier.keras\n",
      "91/91 [==============================] - 0s 944us/step - loss: 0.3178 - accuracy: 0.8828 - val_loss: 0.0728 - val_accuracy: 0.9979\n",
      "Epoch 173/1000\n",
      "82/91 [==========================>...] - ETA: 0s - loss: 0.3280 - accuracy: 0.8793\n",
      "Epoch 173: saving model to model/keypoint_classifier\\keypoint_classifier.keras\n",
      "91/91 [==============================] - 0s 997us/step - loss: 0.3313 - accuracy: 0.8783 - val_loss: 0.0742 - val_accuracy: 0.9969\n",
      "Epoch 174/1000\n",
      "84/91 [==========================>...] - ETA: 0s - loss: 0.3188 - accuracy: 0.8812\n",
      "Epoch 174: saving model to model/keypoint_classifier\\keypoint_classifier.keras\n",
      "91/91 [==============================] - 0s 967us/step - loss: 0.3198 - accuracy: 0.8805 - val_loss: 0.0739 - val_accuracy: 0.9990\n",
      "Epoch 175/1000\n",
      "80/91 [=========================>....] - ETA: 0s - loss: 0.3246 - accuracy: 0.8745\n",
      "Epoch 175: saving model to model/keypoint_classifier\\keypoint_classifier.keras\n",
      "91/91 [==============================] - 0s 1000us/step - loss: 0.3217 - accuracy: 0.8773 - val_loss: 0.0689 - val_accuracy: 0.9995\n",
      "Epoch 176/1000\n",
      "84/91 [==========================>...] - ETA: 0s - loss: 0.3158 - accuracy: 0.8819\n",
      "Epoch 176: saving model to model/keypoint_classifier\\keypoint_classifier.keras\n",
      "91/91 [==============================] - 0s 978us/step - loss: 0.3141 - accuracy: 0.8815 - val_loss: 0.0747 - val_accuracy: 0.9987\n",
      "Epoch 177/1000\n",
      "86/91 [===========================>..] - ETA: 0s - loss: 0.3045 - accuracy: 0.8871\n",
      "Epoch 177: saving model to model/keypoint_classifier\\keypoint_classifier.keras\n",
      "91/91 [==============================] - 0s 978us/step - loss: 0.3050 - accuracy: 0.8867 - val_loss: 0.0788 - val_accuracy: 0.9826\n",
      "Epoch 178/1000\n",
      "83/91 [==========================>...] - ETA: 0s - loss: 0.3113 - accuracy: 0.8779\n",
      "Epoch 178: saving model to model/keypoint_classifier\\keypoint_classifier.keras\n",
      "91/91 [==============================] - 0s 980us/step - loss: 0.3118 - accuracy: 0.8789 - val_loss: 0.0756 - val_accuracy: 0.9979\n",
      "Epoch 179/1000\n",
      "84/91 [==========================>...] - ETA: 0s - loss: 0.3188 - accuracy: 0.8823\n",
      "Epoch 179: saving model to model/keypoint_classifier\\keypoint_classifier.keras\n",
      "91/91 [==============================] - 0s 978us/step - loss: 0.3163 - accuracy: 0.8835 - val_loss: 0.0777 - val_accuracy: 0.9979\n",
      "Epoch 180/1000\n",
      "82/91 [==========================>...] - ETA: 0s - loss: 0.3195 - accuracy: 0.8791\n",
      "Epoch 180: saving model to model/keypoint_classifier\\keypoint_classifier.keras\n",
      "91/91 [==============================] - 0s 995us/step - loss: 0.3173 - accuracy: 0.8802 - val_loss: 0.0752 - val_accuracy: 0.9990\n",
      "Epoch 181/1000\n",
      "86/91 [===========================>..] - ETA: 0s - loss: 0.3099 - accuracy: 0.8808\n",
      "Epoch 181: saving model to model/keypoint_classifier\\keypoint_classifier.keras\n",
      "91/91 [==============================] - 0s 944us/step - loss: 0.3129 - accuracy: 0.8802 - val_loss: 0.0755 - val_accuracy: 0.9984\n",
      "Epoch 182/1000\n",
      "86/91 [===========================>..] - ETA: 0s - loss: 0.3165 - accuracy: 0.8785\n",
      "Epoch 182: saving model to model/keypoint_classifier\\keypoint_classifier.keras\n",
      "91/91 [==============================] - 0s 956us/step - loss: 0.3165 - accuracy: 0.8781 - val_loss: 0.0780 - val_accuracy: 0.9982\n",
      "Epoch 183/1000\n",
      "88/91 [============================>.] - ETA: 0s - loss: 0.3132 - accuracy: 0.8812\n",
      "Epoch 183: saving model to model/keypoint_classifier\\keypoint_classifier.keras\n",
      "91/91 [==============================] - 0s 941us/step - loss: 0.3121 - accuracy: 0.8816 - val_loss: 0.0735 - val_accuracy: 0.9974\n",
      "Epoch 184/1000\n",
      "76/91 [========================>.....] - ETA: 0s - loss: 0.3235 - accuracy: 0.8814\n",
      "Epoch 184: saving model to model/keypoint_classifier\\keypoint_classifier.keras\n",
      "91/91 [==============================] - 0s 1ms/step - loss: 0.3214 - accuracy: 0.8821 - val_loss: 0.0770 - val_accuracy: 0.9979\n",
      "Epoch 185/1000\n",
      "88/91 [============================>.] - ETA: 0s - loss: 0.3113 - accuracy: 0.8808\n",
      "Epoch 185: saving model to model/keypoint_classifier\\keypoint_classifier.keras\n",
      "91/91 [==============================] - 0s 956us/step - loss: 0.3119 - accuracy: 0.8808 - val_loss: 0.0760 - val_accuracy: 0.9966\n",
      "Epoch 186/1000\n",
      "87/91 [===========================>..] - ETA: 0s - loss: 0.3144 - accuracy: 0.8837\n",
      "Epoch 186: saving model to model/keypoint_classifier\\keypoint_classifier.keras\n",
      "91/91 [==============================] - 0s 956us/step - loss: 0.3138 - accuracy: 0.8840 - val_loss: 0.0739 - val_accuracy: 0.9990\n",
      "Epoch 187/1000\n",
      "81/91 [=========================>....] - ETA: 0s - loss: 0.3117 - accuracy: 0.8838\n",
      "Epoch 187: saving model to model/keypoint_classifier\\keypoint_classifier.keras\n",
      "91/91 [==============================] - 0s 989us/step - loss: 0.3141 - accuracy: 0.8829 - val_loss: 0.0786 - val_accuracy: 0.9974\n",
      "Epoch 188/1000\n",
      "84/91 [==========================>...] - ETA: 0s - loss: 0.3038 - accuracy: 0.8800\n",
      "Epoch 188: saving model to model/keypoint_classifier\\keypoint_classifier.keras\n",
      "91/91 [==============================] - 0s 981us/step - loss: 0.3024 - accuracy: 0.8808 - val_loss: 0.0752 - val_accuracy: 0.9971\n",
      "Epoch 189/1000\n",
      "87/91 [===========================>..] - ETA: 0s - loss: 0.3132 - accuracy: 0.8826\n",
      "Epoch 189: saving model to model/keypoint_classifier\\keypoint_classifier.keras\n",
      "91/91 [==============================] - 0s 969us/step - loss: 0.3141 - accuracy: 0.8822 - val_loss: 0.0834 - val_accuracy: 0.9748\n",
      "Epoch 190/1000\n",
      "80/91 [=========================>....] - ETA: 0s - loss: 0.3142 - accuracy: 0.8848\n",
      "Epoch 190: saving model to model/keypoint_classifier\\keypoint_classifier.keras\n",
      "91/91 [==============================] - 0s 1ms/step - loss: 0.3159 - accuracy: 0.8835 - val_loss: 0.0852 - val_accuracy: 0.9715\n",
      "Epoch 191/1000\n",
      "86/91 [===========================>..] - ETA: 0s - loss: 0.3118 - accuracy: 0.8824\n",
      "Epoch 191: saving model to model/keypoint_classifier\\keypoint_classifier.keras\n",
      "91/91 [==============================] - 0s 956us/step - loss: 0.3110 - accuracy: 0.8823 - val_loss: 0.0727 - val_accuracy: 0.9982\n",
      "Epoch 191: early stopping\n"
     ]
    },
    {
     "data": {
      "text/plain": [
       "<keras.src.callbacks.History at 0x1b4e7e3f810>"
      ]
     },
     "execution_count": 12,
     "metadata": {},
     "output_type": "execute_result"
    }
   ],
   "source": [
    "model.fit(\n",
    "    X_train,\n",
    "    y_train,\n",
    "    epochs=1000,\n",
    "    batch_size=128,\n",
    "    validation_data=(X_test, y_test),\n",
    "    callbacks=[cp_callback, es_callback]\n",
    ")"
   ]
  },
  {
   "cell_type": "code",
   "execution_count": 13,
   "metadata": {
    "colab": {
     "base_uri": "https://localhost:8080/"
    },
    "id": "pxvb2Y299hE3",
    "outputId": "59eb3185-2e37-4b9e-bc9d-ab1b8ac29b7f"
   },
   "outputs": [
    {
     "name": "stdout",
     "output_type": "stream",
     "text": [
      "31/31 [==============================] - 0s 467us/step - loss: 0.0727 - accuracy: 0.9982\n"
     ]
    }
   ],
   "source": [
    "# Model evaluation\n",
    "val_loss, val_acc = model.evaluate(X_test, y_test, batch_size=128)"
   ]
  },
  {
   "cell_type": "code",
   "execution_count": 14,
   "metadata": {
    "id": "RBkmDeUW9hE4"
   },
   "outputs": [],
   "source": [
    "# Loading the saved model\n",
    "model = tf.keras.models.load_model(model_save_path)"
   ]
  },
  {
   "cell_type": "code",
   "execution_count": 15,
   "metadata": {
    "colab": {
     "base_uri": "https://localhost:8080/"
    },
    "id": "tFz9Tb0I9hE4",
    "outputId": "1c3b3528-54ae-4ee2-ab04-77429211cbef"
   },
   "outputs": [
    {
     "name": "stdout",
     "output_type": "stream",
     "text": [
      "1/1 [==============================] - 0s 41ms/step\n",
      "[2.3752262e-18 1.5305994e-09 0.0000000e+00 9.5709121e-01 6.3057421e-03\n",
      " 1.2632446e-06 2.1064891e-23 3.2484278e-02 7.2515013e-25 4.1174032e-03]\n",
      "3\n"
     ]
    }
   ],
   "source": [
    "# Inference test\n",
    "predict_result = model.predict(np.array([X_test[0]]))\n",
    "print(np.squeeze(predict_result))\n",
    "print(np.argmax(np.squeeze(predict_result)))"
   ]
  },
  {
   "cell_type": "markdown",
   "metadata": {
    "id": "S3U4yNWx9hE4"
   },
   "source": [
    "# Confusion matrix"
   ]
  },
  {
   "cell_type": "code",
   "execution_count": 16,
   "metadata": {
    "colab": {
     "base_uri": "https://localhost:8080/",
     "height": 582
    },
    "id": "AP1V6SCk9hE5",
    "outputId": "08e41a80-7a4a-4619-8125-ecc371368d19"
   },
   "outputs": [
    {
     "name": "stdout",
     "output_type": "stream",
     "text": [
      "121/121 [==============================] - 0s 317us/step\n"
     ]
    },
    {
     "data": {
      "image/png": "[encoded data removed]",
      "text/plain": [
       "<Figure size 700x600 with 2 Axes>"
      ]
     },
     "metadata": {},
     "output_type": "display_data"
    },
    {
     "name": "stdout",
     "output_type": "stream",
     "text": [
      "Classification Report\n",
      "              precision    recall  f1-score   support\n",
      "\n",
      "           0       1.00      1.00      1.00       367\n",
      "           1       1.00      1.00      1.00       287\n",
      "           2       1.00      1.00      1.00       278\n",
      "           3       1.00      1.00      1.00       336\n",
      "           4       0.99      1.00      1.00      1136\n",
      "           5       1.00      0.98      0.99       287\n",
      "           6       1.00      1.00      1.00       313\n",
      "           7       1.00      1.00      1.00       289\n",
      "           8       1.00      1.00      1.00       276\n",
      "           9       1.00      1.00      1.00       287\n",
      "\n",
      "    accuracy                           1.00      3856\n",
      "   macro avg       1.00      1.00      1.00      3856\n",
      "weighted avg       1.00      1.00      1.00      3856\n",
      "\n"
     ]
    }
   ],
   "source": [
    "import pandas as pd\n",
    "import seaborn as sns\n",
    "import matplotlib.pyplot as plt\n",
    "from sklearn.metrics import confusion_matrix, classification_report\n",
    "\n",
    "def print_confusion_matrix(y_true, y_pred, report=True):\n",
    "    labels = sorted(list(set(y_true)))\n",
    "    cmx_data = confusion_matrix(y_true, y_pred, labels=labels)\n",
    "    \n",
    "    df_cmx = pd.DataFrame(cmx_data, index=labels, columns=labels)\n",
    " \n",
    "    fig, ax = plt.subplots(figsize=(7, 6))\n",
    "    sns.heatmap(df_cmx, annot=True, fmt='g' ,square=False)\n",
    "    ax.set_ylim(len(set(y_true)), 0)\n",
    "    plt.show()\n",
    "    \n",
    "    if report:\n",
    "        print('Classification Report')\n",
    "        print(classification_report(y_test, y_pred))\n",
    "\n",
    "Y_pred = model.predict(X_test)\n",
    "y_pred = np.argmax(Y_pred, axis=1)\n",
    "\n",
    "print_confusion_matrix(y_test, y_pred)"
   ]
  },
  {
   "cell_type": "markdown",
   "metadata": {
    "id": "FNP6aqzc9hE5"
   },
   "source": [
    "# Convert to model for Tensorflow-Lite"
   ]
  },
  {
   "cell_type": "code",
   "execution_count": 17,
   "metadata": {
    "id": "ODjnYyld9hE6"
   },
   "outputs": [],
   "source": [
    "# Save as a model dedicated to inference\n",
    "# model.save(model_save_path, include_optimizer=False)\n",
    "model.save(model_save_path)"
   ]
  },
  {
   "cell_type": "code",
   "execution_count": 18,
   "metadata": {
    "colab": {
     "base_uri": "https://localhost:8080/"
    },
    "id": "zRfuK8Y59hE6",
    "outputId": "a4ca585c-b5d5-4244-8291-8674063209bb"
   },
   "outputs": [
    {
     "name": "stdout",
     "output_type": "stream",
     "text": [
      "INFO:tensorflow:Assets written to: C:\\Users\\Admin\\AppData\\Local\\Temp\\tmp9jlkxjj6\\assets\n"
     ]
    },
    {
     "name": "stderr",
     "output_type": "stream",
     "text": [
      "INFO:tensorflow:Assets written to: C:\\Users\\Admin\\AppData\\Local\\Temp\\tmp9jlkxjj6\\assets\n"
     ]
    },
    {
     "data": {
      "text/plain": [
       "6808"
      ]
     },
     "execution_count": 18,
     "metadata": {},
     "output_type": "execute_result"
    }
   ],
   "source": [
    "# Transform model (quantization)\n",
    "\n",
    "converter = tf.lite.TFLiteConverter.from_keras_model(model)\n",
    "converter.optimizations = [tf.lite.Optimize.DEFAULT]\n",
    "# converter.target_spec.supported_ops = [\n",
    "#                 tf.lite.OpsSet.TFLITE_BUILTINS,  # enable TensorFlow Lite ops.\n",
    "#                 tf.lite.OpsSet.SELECT_TF_OPS  # enable TensorFlow ops.\n",
    "#             ]\n",
    "tflite_quantized_model = converter.convert()\n",
    "\n",
    "open(tflite_save_path, 'wb').write(tflite_quantized_model)"
   ]
  },
  {
   "cell_type": "markdown",
   "metadata": {
    "id": "CHBPBXdx9hE6"
   },
   "source": [
    "# Inference test"
   ]
  },
  {
   "cell_type": "code",
   "execution_count": 19,
   "metadata": {
    "id": "mGAzLocO9hE7"
   },
   "outputs": [],
   "source": [
    "interpreter = tf.lite.Interpreter(model_path=tflite_save_path)\n",
    "interpreter.allocate_tensors()"
   ]
  },
  {
   "cell_type": "code",
   "execution_count": 20,
   "metadata": {
    "id": "oQuDK8YS9hE7"
   },
   "outputs": [],
   "source": [
    "# Get I / O tensor\n",
    "input_details = interpreter.get_input_details()\n",
    "output_details = interpreter.get_output_details()"
   ]
  },
  {
   "cell_type": "code",
   "execution_count": 21,
   "metadata": {
    "id": "2_ixAf_l9hE7"
   },
   "outputs": [],
   "source": [
    "interpreter.set_tensor(input_details[0]['index'], np.array([X_test[0]]))"
   ]
  },
  {
   "cell_type": "code",
   "execution_count": 22,
   "metadata": {
    "colab": {
     "base_uri": "https://localhost:8080/"
    },
    "id": "s4FoAnuc9hE7",
    "outputId": "91f18257-8d8b-4ef3-c558-e9b5f94fabbf",
    "scrolled": true
   },
   "outputs": [
    {
     "name": "stdout",
     "output_type": "stream",
     "text": [
      "CPU times: total: 0 ns\n",
      "Wall time: 0 ns\n"
     ]
    }
   ],
   "source": [
    "%%time\n",
    "# Inference implementation\n",
    "interpreter.invoke()\n",
    "tflite_results = interpreter.get_tensor(output_details[0]['index'])"
   ]
  },
  {
   "cell_type": "code",
   "execution_count": 23,
   "metadata": {
    "colab": {
     "base_uri": "https://localhost:8080/"
    },
    "id": "vONjp19J9hE8",
    "outputId": "77205e24-fd00-42c4-f7b6-e06e527c2cba"
   },
   "outputs": [
    {
     "name": "stdout",
     "output_type": "stream",
     "text": [
      "[2.3752355e-18 1.5305994e-09 0.0000000e+00 9.5709133e-01 6.3057304e-03\n",
      " 1.2632423e-06 2.1064970e-23 3.2484189e-02 7.2515294e-25 4.1174069e-03]\n",
      "3\n"
     ]
    }
   ],
   "source": [
    "print(np.squeeze(tflite_results))\n",
    "print(np.argmax(np.squeeze(tflite_results)))"
   ]
  }
 ],
 "metadata": {
  "accelerator": "GPU",
  "colab": {
   "collapsed_sections": [],
   "name": "keypoint_classification_EN.ipynb",
   "provenance": [],
   "toc_visible": true
  },
  "kernelspec": {
   "display_name": "Python 3 (ipykernel)",
   "language": "python",
   "name": "python3"
  },
  "language_info": {
   "codemirror_mode": {
    "name": "ipython",
    "version": 3
   },
   "file_extension": ".py",
   "mimetype": "text/x-python",
   "name": "python",
   "nbconvert_exporter": "python",
   "pygments_lexer": "ipython3",
   "version": "3.11.5"
  }
 },
 "nbformat": 4,
 "nbformat_minor": 4
}
