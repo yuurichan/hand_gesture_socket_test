{
 "cells": [
  {
   "cell_type": "code",
   "execution_count": 1,
   "metadata": {
    "id": "igMyGnjE9hEp"
   },
   "outputs": [],
   "source": [
    "import csv\n",
    "\n",
    "import numpy as np\n",
    "import tensorflow as tf\n",
    "from sklearn.model_selection import train_test_split\n",
    "\n",
    "RANDOM_SEED = 42"
   ]
  },
  {
   "cell_type": "markdown",
   "metadata": {
    "id": "t2HDvhIu9hEr"
   },
   "source": [
    "# Specify each path"
   ]
  },
  {
   "cell_type": "code",
   "execution_count": 2,
   "metadata": {
    "id": "9NvZP2Zn9hEy"
   },
   "outputs": [],
   "source": [
    "dataset = 'model/keypoint_classifier/keypoint.csv'\n",
    "model_save_path = 'model/keypoint_classifier/keypoint_classifier.hdf5'\n",
    "tflite_save_path = 'model/keypoint_classifier/keypoint_classifier.tflite'"
   ]
  },
  {
   "cell_type": "markdown",
   "metadata": {
    "id": "s5oMH7x19hEz"
   },
   "source": [
    "# Set number of classes"
   ]
  },
  {
   "cell_type": "code",
   "execution_count": 3,
   "metadata": {
    "id": "du4kodXL9hEz"
   },
   "outputs": [],
   "source": [
    "NUM_CLASSES = 6"
   ]
  },
  {
   "cell_type": "markdown",
   "metadata": {
    "id": "XjnL0uso9hEz"
   },
   "source": [
    "# Dataset reading\n"
   ]
  },
  {
   "cell_type": "markdown",
   "metadata": {},
   "source": [
    "## Giá trị của dữ liệu"
   ]
  },
  {
   "cell_type": "code",
   "execution_count": 4,
   "metadata": {
    "id": "QT5ZqtEz9hE0"
   },
   "outputs": [],
   "source": [
    "X_dataset = np.loadtxt(dataset, delimiter=',', dtype='float32', usecols=list(range(1, (21 * 2) + 1)))"
   ]
  },
  {
   "cell_type": "markdown",
   "metadata": {},
   "source": [
    "## Nhãn của dữ liệu"
   ]
  },
  {
   "cell_type": "code",
   "execution_count": 5,
   "metadata": {
    "id": "QmoKFsp49hE0"
   },
   "outputs": [],
   "source": [
    "y_dataset = np.loadtxt(dataset, delimiter=',', dtype='int32', usecols=(0))"
   ]
  },
  {
   "cell_type": "markdown",
   "metadata": {},
   "source": [
    "## Chia tập dữ liệu"
   ]
  },
  {
   "cell_type": "code",
   "execution_count": 6,
   "metadata": {
    "id": "xQU7JTZ_9hE0"
   },
   "outputs": [],
   "source": [
    "X_train, X_test, y_train, y_test = train_test_split(X_dataset, y_dataset, train_size=0.75, random_state=RANDOM_SEED)"
   ]
  },
  {
   "cell_type": "markdown",
   "metadata": {
    "id": "mxK_lETT9hE0"
   },
   "source": [
    "# Model building"
   ]
  },
  {
   "cell_type": "code",
   "execution_count": 7,
   "metadata": {
    "id": "vHBmUf1t9hE1"
   },
   "outputs": [],
   "source": [
    "model = tf.keras.models.Sequential([\n",
    "    tf.keras.layers.Input((21 * 2, )),\n",
    "    tf.keras.layers.Dropout(0.2),\n",
    "    tf.keras.layers.Dense(20, activation='relu'),\n",
    "    tf.keras.layers.Dropout(0.4),\n",
    "    tf.keras.layers.Dense(10, activation='relu'),\n",
    "    tf.keras.layers.Dense(NUM_CLASSES, activation='softmax')\n",
    "])"
   ]
  },
  {
   "cell_type": "code",
   "execution_count": 8,
   "metadata": {
    "colab": {
     "base_uri": "https://localhost:8080/"
    },
    "id": "ypqky9tc9hE1",
    "outputId": "5db082bb-30e3-4110-bf63-a1ee777ecd46"
   },
   "outputs": [
    {
     "name": "stdout",
     "output_type": "stream",
     "text": [
      "Model: \"sequential\"\n",
      "_________________________________________________________________\n",
      " Layer (type)                Output Shape              Param #   \n",
      "=================================================================\n",
      " dropout (Dropout)           (None, 42)                0         \n",
      "                                                                 \n",
      " dense (Dense)               (None, 20)                860       \n",
      "                                                                 \n",
      " dropout_1 (Dropout)         (None, 20)                0         \n",
      "                                                                 \n",
      " dense_1 (Dense)             (None, 10)                210       \n",
      "                                                                 \n",
      " dense_2 (Dense)             (None, 6)                 66        \n",
      "                                                                 \n",
      "=================================================================\n",
      "Total params: 1136 (4.44 KB)\n",
      "Trainable params: 1136 (4.44 KB)\n",
      "Non-trainable params: 0 (0.00 Byte)\n",
      "_________________________________________________________________\n"
     ]
    }
   ],
   "source": [
    "model.summary()  # tf.keras.utils.plot_model(model, show_shapes=True)"
   ]
  },
  {
   "cell_type": "code",
   "execution_count": 9,
   "metadata": {
    "id": "MbMjOflQ9hE1"
   },
   "outputs": [],
   "source": [
    "# Model checkpoint callback\n",
    "cp_callback = tf.keras.callbacks.ModelCheckpoint(\n",
    "    model_save_path, verbose=1, save_weights_only=False)\n",
    "# Callback for early stopping\n",
    "es_callback = tf.keras.callbacks.EarlyStopping(patience=20, verbose=1)"
   ]
  },
  {
   "cell_type": "code",
   "execution_count": 10,
   "metadata": {
    "id": "c3Dac0M_9hE2"
   },
   "outputs": [],
   "source": [
    "# Model compilation\n",
    "model.compile(\n",
    "    optimizer='adam',\n",
    "    loss='sparse_categorical_crossentropy',\n",
    "    metrics=['accuracy']\n",
    ")"
   ]
  },
  {
   "cell_type": "markdown",
   "metadata": {
    "id": "7XI0j1Iu9hE2"
   },
   "source": [
    "# Model training"
   ]
  },
  {
   "cell_type": "code",
   "execution_count": 11,
   "metadata": {
    "colab": {
     "base_uri": "https://localhost:8080/"
    },
    "id": "WirBl-JE9hE3",
    "outputId": "71b30ca2-8294-4d9d-8aa2-800d90d399de",
    "scrolled": true
   },
   "outputs": [
    {
     "name": "stdout",
     "output_type": "stream",
     "text": [
      "Epoch 1/1000\n",
      " 1/42 [..............................] - ETA: 10s - loss: 1.8053 - accuracy: 0.1484\n",
      "Epoch 1: saving model to model/keypoint_classifier\\keypoint_classifier.hdf5\n",
      "42/42 [==============================] - 0s 4ms/step - loss: 1.6438 - accuracy: 0.3500 - val_loss: 1.4441 - val_accuracy: 0.6218\n",
      "Epoch 2/1000\n",
      " 1/42 [..............................] - ETA: 0s - loss: 1.5165 - accuracy: 0.4297\n",
      "Epoch 2: saving model to model/keypoint_classifier\\keypoint_classifier.hdf5\n",
      "42/42 [==============================] - 0s 2ms/step - loss: 1.3111 - accuracy: 0.5697 - val_loss: 1.0260 - val_accuracy: 0.6021\n",
      "Epoch 3/1000\n",
      " 1/42 [..............................] - ETA: 0s - loss: 1.1093 - accuracy: 0.6875\n",
      "Epoch 3: saving model to model/keypoint_classifier\\keypoint_classifier.hdf5\n"
     ]
    },
    {
     "name": "stderr",
     "output_type": "stream",
     "text": [
      "E:\\Pycharm\\NLN\\venv\\lib\\site-packages\\keras\\src\\engine\\training.py:3000: UserWarning: You are saving your model as an HDF5 file via `model.save()`. This file format is considered legacy. We recommend using instead the native Keras format, e.g. `model.save('my_model.keras')`.\n",
      "  saving_api.save_model(\n"
     ]
    },
    {
     "name": "stdout",
     "output_type": "stream",
     "text": [
      "42/42 [==============================] - 0s 4ms/step - loss: 0.9685 - accuracy: 0.6185 - val_loss: 0.7145 - val_accuracy: 0.6438\n",
      "Epoch 4/1000\n",
      " 1/42 [..............................] - ETA: 0s - loss: 0.8018 - accuracy: 0.6641\n",
      "Epoch 4: saving model to model/keypoint_classifier\\keypoint_classifier.hdf5\n",
      "42/42 [==============================] - 0s 1ms/step - loss: 0.7821 - accuracy: 0.6525 - val_loss: 0.5914 - val_accuracy: 0.6792\n",
      "Epoch 5/1000\n",
      " 1/42 [..............................] - ETA: 0s - loss: 0.6994 - accuracy: 0.6797\n",
      "Epoch 5: saving model to model/keypoint_classifier\\keypoint_classifier.hdf5\n",
      "42/42 [==============================] - 0s 1ms/step - loss: 0.6728 - accuracy: 0.7048 - val_loss: 0.5124 - val_accuracy: 0.8599\n",
      "Epoch 6/1000\n",
      " 1/42 [..............................] - ETA: 0s - loss: 0.6943 - accuracy: 0.6250\n",
      "Epoch 6: saving model to model/keypoint_classifier\\keypoint_classifier.hdf5\n",
      "42/42 [==============================] - 0s 1ms/step - loss: 0.5998 - accuracy: 0.7401 - val_loss: 0.4660 - val_accuracy: 0.8374\n",
      "Epoch 7/1000\n",
      " 1/42 [..............................] - ETA: 0s - loss: 0.5339 - accuracy: 0.7656\n",
      "Epoch 7: saving model to model/keypoint_classifier\\keypoint_classifier.hdf5\n",
      "42/42 [==============================] - 0s 1ms/step - loss: 0.5539 - accuracy: 0.7544 - val_loss: 0.4057 - val_accuracy: 0.8430\n",
      "Epoch 8/1000\n",
      " 1/42 [..............................] - ETA: 0s - loss: 0.4874 - accuracy: 0.7812\n",
      "Epoch 8: saving model to model/keypoint_classifier\\keypoint_classifier.hdf5\n",
      "42/42 [==============================] - 0s 1ms/step - loss: 0.4989 - accuracy: 0.7739 - val_loss: 0.3523 - val_accuracy: 0.8413\n",
      "Epoch 9/1000\n",
      " 1/42 [..............................] - ETA: 0s - loss: 0.5029 - accuracy: 0.7812\n",
      "Epoch 9: saving model to model/keypoint_classifier\\keypoint_classifier.hdf5\n",
      "42/42 [==============================] - 0s 1ms/step - loss: 0.4625 - accuracy: 0.7857 - val_loss: 0.3221 - val_accuracy: 0.8424\n",
      "Epoch 10/1000\n",
      " 1/42 [..............................] - ETA: 0s - loss: 0.4803 - accuracy: 0.7812\n",
      "Epoch 10: saving model to model/keypoint_classifier\\keypoint_classifier.hdf5\n",
      "42/42 [==============================] - 0s 1ms/step - loss: 0.4358 - accuracy: 0.7881 - val_loss: 0.2890 - val_accuracy: 0.8424\n",
      "Epoch 11/1000\n",
      " 1/42 [..............................] - ETA: 0s - loss: 0.4000 - accuracy: 0.8359\n",
      "Epoch 11: saving model to model/keypoint_classifier\\keypoint_classifier.hdf5\n",
      "42/42 [==============================] - 0s 1ms/step - loss: 0.4220 - accuracy: 0.7962 - val_loss: 0.2710 - val_accuracy: 0.8430\n",
      "Epoch 12/1000\n",
      " 1/42 [..............................] - ETA: 0s - loss: 0.3717 - accuracy: 0.8047\n",
      "Epoch 12: saving model to model/keypoint_classifier\\keypoint_classifier.hdf5\n",
      "42/42 [==============================] - 0s 1ms/step - loss: 0.3959 - accuracy: 0.7973 - val_loss: 0.2591 - val_accuracy: 0.8402\n",
      "Epoch 13/1000\n",
      " 1/42 [..............................] - ETA: 0s - loss: 0.3289 - accuracy: 0.7969\n",
      "Epoch 13: saving model to model/keypoint_classifier\\keypoint_classifier.hdf5\n",
      "42/42 [==============================] - 0s 1ms/step - loss: 0.3826 - accuracy: 0.8077 - val_loss: 0.2461 - val_accuracy: 0.8430\n",
      "Epoch 14/1000\n",
      " 1/42 [..............................] - ETA: 0s - loss: 0.3881 - accuracy: 0.7891\n",
      "Epoch 14: saving model to model/keypoint_classifier\\keypoint_classifier.hdf5\n",
      "42/42 [==============================] - 0s 2ms/step - loss: 0.3659 - accuracy: 0.8165 - val_loss: 0.2385 - val_accuracy: 0.8385\n",
      "Epoch 15/1000\n",
      " 1/42 [..............................] - ETA: 0s - loss: 0.3623 - accuracy: 0.8438\n",
      "Epoch 15: saving model to model/keypoint_classifier\\keypoint_classifier.hdf5\n",
      "42/42 [==============================] - 0s 2ms/step - loss: 0.3624 - accuracy: 0.8095 - val_loss: 0.2387 - val_accuracy: 0.8402\n",
      "Epoch 16/1000\n",
      " 1/42 [..............................] - ETA: 0s - loss: 0.3259 - accuracy: 0.8281\n",
      "Epoch 16: saving model to model/keypoint_classifier\\keypoint_classifier.hdf5\n",
      "42/42 [==============================] - 0s 4ms/step - loss: 0.3494 - accuracy: 0.8189 - val_loss: 0.2343 - val_accuracy: 0.8413\n",
      "Epoch 17/1000\n",
      " 1/42 [..............................] - ETA: 0s - loss: 0.3559 - accuracy: 0.8125\n",
      "Epoch 17: saving model to model/keypoint_classifier\\keypoint_classifier.hdf5\n",
      "42/42 [==============================] - 0s 1ms/step - loss: 0.3490 - accuracy: 0.8182 - val_loss: 0.2305 - val_accuracy: 0.8604\n",
      "Epoch 18/1000\n",
      " 1/42 [..............................] - ETA: 0s - loss: 0.3391 - accuracy: 0.8125\n",
      "Epoch 18: saving model to model/keypoint_classifier\\keypoint_classifier.hdf5\n",
      "42/42 [==============================] - 0s 1ms/step - loss: 0.3457 - accuracy: 0.8227 - val_loss: 0.2280 - val_accuracy: 0.8633\n",
      "Epoch 19/1000\n",
      " 1/42 [..............................] - ETA: 0s - loss: 0.3716 - accuracy: 0.8047\n",
      "Epoch 19: saving model to model/keypoint_classifier\\keypoint_classifier.hdf5\n",
      "42/42 [==============================] - 0s 1ms/step - loss: 0.3439 - accuracy: 0.8185 - val_loss: 0.2259 - val_accuracy: 0.8407\n",
      "Epoch 20/1000\n",
      " 1/42 [..............................] - ETA: 0s - loss: 0.3900 - accuracy: 0.7734\n",
      "Epoch 20: saving model to model/keypoint_classifier\\keypoint_classifier.hdf5\n",
      "42/42 [==============================] - 0s 1ms/step - loss: 0.3351 - accuracy: 0.8227 - val_loss: 0.2237 - val_accuracy: 0.8610\n",
      "Epoch 21/1000\n",
      " 1/42 [..............................] - ETA: 0s - loss: 0.3053 - accuracy: 0.8516\n",
      "Epoch 21: saving model to model/keypoint_classifier\\keypoint_classifier.hdf5\n",
      "42/42 [==============================] - 0s 1ms/step - loss: 0.3440 - accuracy: 0.8255 - val_loss: 0.2215 - val_accuracy: 0.9116\n",
      "Epoch 22/1000\n",
      " 1/42 [..............................] - ETA: 0s - loss: 0.3597 - accuracy: 0.7812\n",
      "Epoch 22: saving model to model/keypoint_classifier\\keypoint_classifier.hdf5\n",
      "42/42 [==============================] - 0s 1ms/step - loss: 0.3272 - accuracy: 0.8354 - val_loss: 0.2184 - val_accuracy: 0.8486\n",
      "Epoch 23/1000\n",
      " 1/42 [..............................] - ETA: 0s - loss: 0.3443 - accuracy: 0.7812\n",
      "Epoch 23: saving model to model/keypoint_classifier\\keypoint_classifier.hdf5\n",
      "42/42 [==============================] - 0s 1ms/step - loss: 0.3184 - accuracy: 0.8367 - val_loss: 0.2167 - val_accuracy: 0.9043\n",
      "Epoch 24/1000\n",
      " 1/42 [..............................] - ETA: 0s - loss: 0.3024 - accuracy: 0.8594\n",
      "Epoch 24: saving model to model/keypoint_classifier\\keypoint_classifier.hdf5\n",
      "42/42 [==============================] - 0s 1ms/step - loss: 0.3138 - accuracy: 0.8399 - val_loss: 0.2137 - val_accuracy: 0.8841\n",
      "Epoch 25/1000\n",
      " 1/42 [..............................] - ETA: 0s - loss: 0.3021 - accuracy: 0.8906\n",
      "Epoch 25: saving model to model/keypoint_classifier\\keypoint_classifier.hdf5\n",
      "42/42 [==============================] - 0s 1ms/step - loss: 0.3136 - accuracy: 0.8424 - val_loss: 0.2118 - val_accuracy: 0.8897\n",
      "Epoch 26/1000\n",
      " 1/42 [..............................] - ETA: 0s - loss: 0.2798 - accuracy: 0.8672\n",
      "Epoch 26: saving model to model/keypoint_classifier\\keypoint_classifier.hdf5\n",
      "42/42 [==============================] - 0s 1ms/step - loss: 0.3034 - accuracy: 0.8512 - val_loss: 0.2080 - val_accuracy: 0.9285\n",
      "Epoch 27/1000\n",
      " 1/42 [..............................] - ETA: 0s - loss: 0.3470 - accuracy: 0.8359\n",
      "Epoch 27: saving model to model/keypoint_classifier\\keypoint_classifier.hdf5\n",
      "42/42 [==============================] - 0s 1ms/step - loss: 0.3042 - accuracy: 0.8471 - val_loss: 0.2000 - val_accuracy: 0.9150\n",
      "Epoch 28/1000\n",
      " 1/42 [..............................] - ETA: 0s - loss: 0.2179 - accuracy: 0.9141\n",
      "Epoch 28: saving model to model/keypoint_classifier\\keypoint_classifier.hdf5\n",
      "42/42 [==============================] - 0s 1ms/step - loss: 0.2939 - accuracy: 0.8593 - val_loss: 0.1959 - val_accuracy: 0.9178\n",
      "Epoch 29/1000\n",
      " 1/42 [..............................] - ETA: 0s - loss: 0.3138 - accuracy: 0.8516\n",
      "Epoch 29: saving model to model/keypoint_classifier\\keypoint_classifier.hdf5\n",
      "42/42 [==============================] - 0s 1ms/step - loss: 0.2869 - accuracy: 0.8623 - val_loss: 0.1923 - val_accuracy: 0.9229\n",
      "Epoch 30/1000\n",
      " 1/42 [..............................] - ETA: 0s - loss: 0.3263 - accuracy: 0.8125\n",
      "Epoch 30: saving model to model/keypoint_classifier\\keypoint_classifier.hdf5\n",
      "42/42 [==============================] - 0s 1ms/step - loss: 0.2901 - accuracy: 0.8561 - val_loss: 0.1870 - val_accuracy: 0.9302\n",
      "Epoch 31/1000\n",
      " 1/42 [..............................] - ETA: 0s - loss: 0.2742 - accuracy: 0.8672\n",
      "Epoch 31: saving model to model/keypoint_classifier\\keypoint_classifier.hdf5\n",
      "42/42 [==============================] - 0s 1ms/step - loss: 0.2749 - accuracy: 0.8668 - val_loss: 0.1857 - val_accuracy: 0.9342\n",
      "Epoch 32/1000\n",
      " 1/42 [..............................] - ETA: 0s - loss: 0.3235 - accuracy: 0.8516\n",
      "Epoch 32: saving model to model/keypoint_classifier\\keypoint_classifier.hdf5\n",
      "42/42 [==============================] - 0s 1ms/step - loss: 0.2714 - accuracy: 0.8726 - val_loss: 0.1800 - val_accuracy: 0.9240\n",
      "Epoch 33/1000\n",
      " 1/42 [..............................] - ETA: 0s - loss: 0.2195 - accuracy: 0.8750\n",
      "Epoch 33: saving model to model/keypoint_classifier\\keypoint_classifier.hdf5\n",
      "42/42 [==============================] - 0s 1ms/step - loss: 0.2673 - accuracy: 0.8711 - val_loss: 0.1763 - val_accuracy: 0.9274\n",
      "Epoch 34/1000\n",
      " 1/42 [..............................] - ETA: 0s - loss: 0.2676 - accuracy: 0.8828\n",
      "Epoch 34: saving model to model/keypoint_classifier\\keypoint_classifier.hdf5\n",
      "42/42 [==============================] - 0s 1ms/step - loss: 0.2694 - accuracy: 0.8739 - val_loss: 0.1681 - val_accuracy: 0.9342\n",
      "Epoch 35/1000\n",
      " 1/42 [..............................] - ETA: 0s - loss: 0.2203 - accuracy: 0.8984\n",
      "Epoch 35: saving model to model/keypoint_classifier\\keypoint_classifier.hdf5\n",
      "42/42 [==============================] - 0s 1ms/step - loss: 0.2584 - accuracy: 0.8767 - val_loss: 0.1627 - val_accuracy: 0.9398\n",
      "Epoch 36/1000\n",
      " 1/42 [..............................] - ETA: 0s - loss: 0.2426 - accuracy: 0.8828\n",
      "Epoch 36: saving model to model/keypoint_classifier\\keypoint_classifier.hdf5\n",
      "42/42 [==============================] - 0s 1ms/step - loss: 0.2582 - accuracy: 0.8882 - val_loss: 0.1580 - val_accuracy: 0.9319\n",
      "Epoch 37/1000\n",
      " 1/42 [..............................] - ETA: 0s - loss: 0.2815 - accuracy: 0.8516\n",
      "Epoch 37: saving model to model/keypoint_classifier\\keypoint_classifier.hdf5\n",
      "42/42 [==============================] - 0s 1ms/step - loss: 0.2535 - accuracy: 0.8865 - val_loss: 0.1556 - val_accuracy: 0.9325\n",
      "Epoch 38/1000\n",
      " 1/42 [..............................] - ETA: 0s - loss: 0.2816 - accuracy: 0.8203\n",
      "Epoch 38: saving model to model/keypoint_classifier\\keypoint_classifier.hdf5\n",
      "42/42 [==============================] - 0s 2ms/step - loss: 0.2570 - accuracy: 0.8786 - val_loss: 0.1500 - val_accuracy: 0.9398\n",
      "Epoch 39/1000\n",
      " 1/42 [..............................] - ETA: 0s - loss: 0.2563 - accuracy: 0.8516\n",
      "Epoch 39: saving model to model/keypoint_classifier\\keypoint_classifier.hdf5\n",
      "42/42 [==============================] - 0s 2ms/step - loss: 0.2452 - accuracy: 0.8891 - val_loss: 0.1386 - val_accuracy: 0.9392\n",
      "Epoch 40/1000\n",
      " 1/42 [..............................] - ETA: 0s - loss: 0.2409 - accuracy: 0.8828\n",
      "Epoch 40: saving model to model/keypoint_classifier\\keypoint_classifier.hdf5\n",
      "42/42 [==============================] - 0s 4ms/step - loss: 0.2448 - accuracy: 0.8893 - val_loss: 0.1387 - val_accuracy: 0.9370\n",
      "Epoch 41/1000\n",
      " 1/42 [..............................] - ETA: 0s - loss: 0.2722 - accuracy: 0.9062\n",
      "Epoch 41: saving model to model/keypoint_classifier\\keypoint_classifier.hdf5\n",
      "42/42 [==============================] - 0s 1ms/step - loss: 0.2418 - accuracy: 0.8878 - val_loss: 0.1345 - val_accuracy: 0.9809\n",
      "Epoch 42/1000\n",
      " 1/42 [..............................] - ETA: 0s - loss: 0.2152 - accuracy: 0.9219\n",
      "Epoch 42: saving model to model/keypoint_classifier\\keypoint_classifier.hdf5\n",
      "42/42 [==============================] - 0s 1ms/step - loss: 0.2292 - accuracy: 0.8983 - val_loss: 0.1332 - val_accuracy: 0.9392\n",
      "Epoch 43/1000\n",
      " 1/42 [..............................] - ETA: 0s - loss: 0.1568 - accuracy: 0.9297\n",
      "Epoch 43: saving model to model/keypoint_classifier\\keypoint_classifier.hdf5\n",
      "42/42 [==============================] - 0s 1ms/step - loss: 0.2255 - accuracy: 0.8998 - val_loss: 0.1307 - val_accuracy: 0.9381\n",
      "Epoch 44/1000\n",
      " 1/42 [..............................] - ETA: 0s - loss: 0.2549 - accuracy: 0.8516\n",
      "Epoch 44: saving model to model/keypoint_classifier\\keypoint_classifier.hdf5\n",
      "42/42 [==============================] - 0s 1ms/step - loss: 0.2388 - accuracy: 0.8912 - val_loss: 0.1269 - val_accuracy: 0.9539\n",
      "Epoch 45/1000\n",
      " 1/42 [..............................] - ETA: 0s - loss: 0.1887 - accuracy: 0.8984\n",
      "Epoch 45: saving model to model/keypoint_classifier\\keypoint_classifier.hdf5\n",
      "42/42 [==============================] - 0s 1ms/step - loss: 0.2262 - accuracy: 0.8966 - val_loss: 0.1297 - val_accuracy: 0.9370\n",
      "Epoch 46/1000\n",
      " 1/42 [..............................] - ETA: 0s - loss: 0.2142 - accuracy: 0.9141\n",
      "Epoch 46: saving model to model/keypoint_classifier\\keypoint_classifier.hdf5\n",
      "42/42 [==============================] - 0s 1ms/step - loss: 0.2259 - accuracy: 0.8996 - val_loss: 0.1202 - val_accuracy: 0.9409\n",
      "Epoch 47/1000\n",
      " 1/42 [..............................] - ETA: 0s - loss: 0.2240 - accuracy: 0.8906\n",
      "Epoch 47: saving model to model/keypoint_classifier\\keypoint_classifier.hdf5\n",
      "42/42 [==============================] - 0s 1ms/step - loss: 0.2226 - accuracy: 0.9019 - val_loss: 0.1137 - val_accuracy: 0.9668\n",
      "Epoch 48/1000\n",
      " 1/42 [..............................] - ETA: 0s - loss: 0.2298 - accuracy: 0.8906\n",
      "Epoch 48: saving model to model/keypoint_classifier\\keypoint_classifier.hdf5\n",
      "42/42 [==============================] - 0s 1ms/step - loss: 0.2167 - accuracy: 0.9039 - val_loss: 0.1123 - val_accuracy: 0.9842\n",
      "Epoch 49/1000\n",
      " 1/42 [..............................] - ETA: 0s - loss: 0.2336 - accuracy: 0.9062\n",
      "Epoch 49: saving model to model/keypoint_classifier\\keypoint_classifier.hdf5\n",
      "42/42 [==============================] - 0s 1ms/step - loss: 0.2146 - accuracy: 0.9075 - val_loss: 0.1085 - val_accuracy: 0.9820\n",
      "Epoch 50/1000\n",
      " 1/42 [..............................] - ETA: 0s - loss: 0.2304 - accuracy: 0.8906\n",
      "Epoch 50: saving model to model/keypoint_classifier\\keypoint_classifier.hdf5\n",
      "42/42 [==============================] - 0s 1ms/step - loss: 0.2134 - accuracy: 0.9082 - val_loss: 0.1125 - val_accuracy: 0.9572\n",
      "Epoch 51/1000\n",
      " 1/42 [..............................] - ETA: 0s - loss: 0.2100 - accuracy: 0.9141\n",
      "Epoch 51: saving model to model/keypoint_classifier\\keypoint_classifier.hdf5\n",
      "42/42 [==============================] - 0s 1ms/step - loss: 0.2145 - accuracy: 0.9043 - val_loss: 0.1046 - val_accuracy: 0.9899\n",
      "Epoch 52/1000\n",
      " 1/42 [..............................] - ETA: 0s - loss: 0.2238 - accuracy: 0.8906\n",
      "Epoch 52: saving model to model/keypoint_classifier\\keypoint_classifier.hdf5\n",
      "42/42 [==============================] - 0s 1ms/step - loss: 0.2064 - accuracy: 0.9088 - val_loss: 0.1081 - val_accuracy: 0.9522\n",
      "Epoch 53/1000\n",
      " 1/42 [..............................] - ETA: 0s - loss: 0.1978 - accuracy: 0.9297\n",
      "Epoch 53: saving model to model/keypoint_classifier\\keypoint_classifier.hdf5\n",
      "42/42 [==============================] - 0s 1ms/step - loss: 0.2074 - accuracy: 0.9099 - val_loss: 0.0977 - val_accuracy: 0.9842\n",
      "Epoch 54/1000\n",
      " 1/42 [..............................] - ETA: 0s - loss: 0.3010 - accuracy: 0.8906\n",
      "Epoch 54: saving model to model/keypoint_classifier\\keypoint_classifier.hdf5\n",
      "42/42 [==============================] - 0s 1ms/step - loss: 0.2100 - accuracy: 0.9081 - val_loss: 0.0985 - val_accuracy: 0.9690\n",
      "Epoch 55/1000\n",
      " 1/42 [..............................] - ETA: 0s - loss: 0.1718 - accuracy: 0.9219\n",
      "Epoch 55: saving model to model/keypoint_classifier\\keypoint_classifier.hdf5\n",
      "42/42 [==============================] - 0s 1ms/step - loss: 0.2040 - accuracy: 0.9148 - val_loss: 0.0989 - val_accuracy: 0.9865\n",
      "Epoch 56/1000\n",
      " 1/42 [..............................] - ETA: 0s - loss: 0.2017 - accuracy: 0.9062\n",
      "Epoch 56: saving model to model/keypoint_classifier\\keypoint_classifier.hdf5\n",
      "42/42 [==============================] - 0s 1ms/step - loss: 0.2083 - accuracy: 0.9111 - val_loss: 0.0860 - val_accuracy: 0.9932\n",
      "Epoch 57/1000\n",
      " 1/42 [..............................] - ETA: 0s - loss: 0.1499 - accuracy: 0.9297\n",
      "Epoch 57: saving model to model/keypoint_classifier\\keypoint_classifier.hdf5\n",
      "42/42 [==============================] - 0s 1ms/step - loss: 0.1988 - accuracy: 0.9142 - val_loss: 0.0881 - val_accuracy: 0.9910\n",
      "Epoch 58/1000\n",
      " 1/42 [..............................] - ETA: 0s - loss: 0.1474 - accuracy: 0.9297\n",
      "Epoch 58: saving model to model/keypoint_classifier\\keypoint_classifier.hdf5\n",
      "42/42 [==============================] - 0s 1ms/step - loss: 0.1934 - accuracy: 0.9131 - val_loss: 0.0847 - val_accuracy: 0.9949\n",
      "Epoch 59/1000\n",
      " 1/42 [..............................] - ETA: 0s - loss: 0.1927 - accuracy: 0.9141\n",
      "Epoch 59: saving model to model/keypoint_classifier\\keypoint_classifier.hdf5\n",
      "42/42 [==============================] - 0s 1ms/step - loss: 0.1979 - accuracy: 0.9152 - val_loss: 0.0990 - val_accuracy: 0.9820\n",
      "Epoch 60/1000\n",
      " 1/42 [..............................] - ETA: 0s - loss: 0.2804 - accuracy: 0.8594\n",
      "Epoch 60: saving model to model/keypoint_classifier\\keypoint_classifier.hdf5\n",
      "42/42 [==============================] - 0s 1ms/step - loss: 0.1945 - accuracy: 0.9152 - val_loss: 0.0808 - val_accuracy: 0.9932\n",
      "Epoch 61/1000\n",
      " 1/42 [..............................] - ETA: 0s - loss: 0.2438 - accuracy: 0.8750\n",
      "Epoch 61: saving model to model/keypoint_classifier\\keypoint_classifier.hdf5\n",
      "42/42 [==============================] - 0s 1ms/step - loss: 0.1898 - accuracy: 0.9214 - val_loss: 0.0824 - val_accuracy: 0.9949\n",
      "Epoch 62/1000\n",
      " 1/42 [..............................] - ETA: 0s - loss: 0.2124 - accuracy: 0.9219\n",
      "Epoch 62: saving model to model/keypoint_classifier\\keypoint_classifier.hdf5\n",
      "42/42 [==============================] - 0s 1ms/step - loss: 0.1978 - accuracy: 0.9176 - val_loss: 0.0807 - val_accuracy: 0.9921\n",
      "Epoch 63/1000\n",
      " 1/42 [..............................] - ETA: 0s - loss: 0.1806 - accuracy: 0.9453\n",
      "Epoch 63: saving model to model/keypoint_classifier\\keypoint_classifier.hdf5\n",
      "42/42 [==============================] - 0s 1ms/step - loss: 0.1893 - accuracy: 0.9201 - val_loss: 0.0782 - val_accuracy: 0.9955\n",
      "Epoch 64/1000\n",
      " 1/42 [..............................] - ETA: 0s - loss: 0.1654 - accuracy: 0.9297\n",
      "Epoch 64: saving model to model/keypoint_classifier\\keypoint_classifier.hdf5\n",
      "42/42 [==============================] - 0s 1ms/step - loss: 0.1868 - accuracy: 0.9212 - val_loss: 0.0775 - val_accuracy: 0.9949\n",
      "Epoch 65/1000\n",
      " 1/42 [..............................] - ETA: 0s - loss: 0.1824 - accuracy: 0.9141\n",
      "Epoch 65: saving model to model/keypoint_classifier\\keypoint_classifier.hdf5\n",
      "42/42 [==============================] - 0s 1ms/step - loss: 0.1849 - accuracy: 0.9234 - val_loss: 0.0718 - val_accuracy: 0.9961\n",
      "Epoch 66/1000\n",
      " 1/42 [..............................] - ETA: 0s - loss: 0.1666 - accuracy: 0.9297\n",
      "Epoch 66: saving model to model/keypoint_classifier\\keypoint_classifier.hdf5\n",
      "42/42 [==============================] - 0s 1ms/step - loss: 0.1832 - accuracy: 0.9257 - val_loss: 0.0692 - val_accuracy: 0.9961\n",
      "Epoch 67/1000\n",
      " 1/42 [..............................] - ETA: 0s - loss: 0.1347 - accuracy: 0.9219\n",
      "Epoch 67: saving model to model/keypoint_classifier\\keypoint_classifier.hdf5\n",
      "42/42 [==============================] - 0s 1ms/step - loss: 0.1834 - accuracy: 0.9212 - val_loss: 0.0682 - val_accuracy: 0.9966\n",
      "Epoch 68/1000\n",
      " 1/42 [..............................] - ETA: 0s - loss: 0.2132 - accuracy: 0.9141\n",
      "Epoch 68: saving model to model/keypoint_classifier\\keypoint_classifier.hdf5\n",
      "42/42 [==============================] - 0s 1ms/step - loss: 0.1744 - accuracy: 0.9279 - val_loss: 0.0712 - val_accuracy: 0.9932\n",
      "Epoch 69/1000\n",
      " 1/42 [..............................] - ETA: 0s - loss: 0.1617 - accuracy: 0.9219\n",
      "Epoch 69: saving model to model/keypoint_classifier\\keypoint_classifier.hdf5\n",
      "42/42 [==============================] - 0s 1ms/step - loss: 0.1654 - accuracy: 0.9311 - val_loss: 0.0645 - val_accuracy: 0.9961\n",
      "Epoch 70/1000\n",
      " 1/42 [..............................] - ETA: 0s - loss: 0.1794 - accuracy: 0.8984\n",
      "Epoch 70: saving model to model/keypoint_classifier\\keypoint_classifier.hdf5\n",
      "42/42 [==============================] - 0s 1ms/step - loss: 0.1789 - accuracy: 0.9251 - val_loss: 0.0700 - val_accuracy: 0.9916\n",
      "Epoch 71/1000\n",
      " 1/42 [..............................] - ETA: 0s - loss: 0.2194 - accuracy: 0.9062\n",
      "Epoch 71: saving model to model/keypoint_classifier\\keypoint_classifier.hdf5\n",
      "42/42 [==============================] - 0s 1ms/step - loss: 0.1710 - accuracy: 0.9276 - val_loss: 0.0632 - val_accuracy: 0.9955\n",
      "Epoch 72/1000\n",
      " 1/42 [..............................] - ETA: 0s - loss: 0.1855 - accuracy: 0.9141\n",
      "Epoch 72: saving model to model/keypoint_classifier\\keypoint_classifier.hdf5\n",
      "42/42 [==============================] - 0s 1ms/step - loss: 0.1660 - accuracy: 0.9321 - val_loss: 0.0566 - val_accuracy: 0.9949\n",
      "Epoch 73/1000\n",
      " 1/42 [..............................] - ETA: 0s - loss: 0.0871 - accuracy: 0.9844\n",
      "Epoch 73: saving model to model/keypoint_classifier\\keypoint_classifier.hdf5\n",
      "42/42 [==============================] - 0s 1ms/step - loss: 0.1713 - accuracy: 0.9304 - val_loss: 0.0591 - val_accuracy: 0.9949\n",
      "Epoch 74/1000\n",
      " 1/42 [..............................] - ETA: 0s - loss: 0.2127 - accuracy: 0.9453\n",
      "Epoch 74: saving model to model/keypoint_classifier\\keypoint_classifier.hdf5\n",
      "42/42 [==============================] - 0s 1ms/step - loss: 0.1636 - accuracy: 0.9317 - val_loss: 0.0604 - val_accuracy: 0.9966\n",
      "Epoch 75/1000\n",
      " 1/42 [..............................] - ETA: 0s - loss: 0.1403 - accuracy: 0.9453\n",
      "Epoch 75: saving model to model/keypoint_classifier\\keypoint_classifier.hdf5\n",
      "42/42 [==============================] - 0s 1ms/step - loss: 0.1648 - accuracy: 0.9313 - val_loss: 0.0617 - val_accuracy: 0.9944\n",
      "Epoch 76/1000\n",
      " 1/42 [..............................] - ETA: 0s - loss: 0.1925 - accuracy: 0.9531\n",
      "Epoch 76: saving model to model/keypoint_classifier\\keypoint_classifier.hdf5\n",
      "42/42 [==============================] - 0s 1ms/step - loss: 0.1582 - accuracy: 0.9358 - val_loss: 0.0538 - val_accuracy: 0.9955\n",
      "Epoch 77/1000\n",
      " 1/42 [..............................] - ETA: 0s - loss: 0.1371 - accuracy: 0.9375\n",
      "Epoch 77: saving model to model/keypoint_classifier\\keypoint_classifier.hdf5\n",
      "42/42 [==============================] - 0s 1ms/step - loss: 0.1600 - accuracy: 0.9351 - val_loss: 0.0633 - val_accuracy: 0.9944\n",
      "Epoch 78/1000\n",
      " 1/42 [..............................] - ETA: 0s - loss: 0.1367 - accuracy: 0.9531\n",
      "Epoch 78: saving model to model/keypoint_classifier\\keypoint_classifier.hdf5\n",
      "42/42 [==============================] - 0s 1ms/step - loss: 0.1561 - accuracy: 0.9319 - val_loss: 0.0493 - val_accuracy: 0.9972\n",
      "Epoch 79/1000\n",
      " 1/42 [..............................] - ETA: 0s - loss: 0.1919 - accuracy: 0.9141\n",
      "Epoch 79: saving model to model/keypoint_classifier\\keypoint_classifier.hdf5\n",
      "42/42 [==============================] - 0s 1ms/step - loss: 0.1554 - accuracy: 0.9396 - val_loss: 0.0497 - val_accuracy: 0.9977\n",
      "Epoch 80/1000\n",
      " 1/42 [..............................] - ETA: 0s - loss: 0.1881 - accuracy: 0.8984\n",
      "Epoch 80: saving model to model/keypoint_classifier\\keypoint_classifier.hdf5\n",
      "42/42 [==============================] - 0s 1ms/step - loss: 0.1466 - accuracy: 0.9407 - val_loss: 0.0468 - val_accuracy: 0.9983\n",
      "Epoch 81/1000\n",
      " 1/42 [..............................] - ETA: 0s - loss: 0.1172 - accuracy: 0.9531\n",
      "Epoch 81: saving model to model/keypoint_classifier\\keypoint_classifier.hdf5\n",
      "42/42 [==============================] - 0s 1ms/step - loss: 0.1603 - accuracy: 0.9324 - val_loss: 0.0517 - val_accuracy: 0.9966\n",
      "Epoch 82/1000\n",
      " 1/42 [..............................] - ETA: 0s - loss: 0.2493 - accuracy: 0.8906\n",
      "Epoch 82: saving model to model/keypoint_classifier\\keypoint_classifier.hdf5\n",
      "42/42 [==============================] - 0s 1ms/step - loss: 0.1611 - accuracy: 0.9332 - val_loss: 0.0511 - val_accuracy: 0.9983\n",
      "Epoch 83/1000\n",
      " 1/42 [..............................] - ETA: 0s - loss: 0.1125 - accuracy: 0.9609\n",
      "Epoch 83: saving model to model/keypoint_classifier\\keypoint_classifier.hdf5\n",
      "42/42 [==============================] - 0s 1ms/step - loss: 0.1442 - accuracy: 0.9368 - val_loss: 0.0494 - val_accuracy: 0.9966\n",
      "Epoch 84/1000\n",
      " 1/42 [..............................] - ETA: 0s - loss: 0.1509 - accuracy: 0.9375\n",
      "Epoch 84: saving model to model/keypoint_classifier\\keypoint_classifier.hdf5\n",
      "42/42 [==============================] - 0s 1ms/step - loss: 0.1425 - accuracy: 0.9392 - val_loss: 0.0534 - val_accuracy: 0.9949\n",
      "Epoch 85/1000\n",
      " 1/42 [..............................] - ETA: 0s - loss: 0.1040 - accuracy: 0.9453\n",
      "Epoch 85: saving model to model/keypoint_classifier\\keypoint_classifier.hdf5\n",
      "42/42 [==============================] - 0s 1ms/step - loss: 0.1516 - accuracy: 0.9356 - val_loss: 0.0501 - val_accuracy: 0.9961\n",
      "Epoch 86/1000\n",
      " 1/42 [..............................] - ETA: 0s - loss: 0.1746 - accuracy: 0.9297\n",
      "Epoch 86: saving model to model/keypoint_classifier\\keypoint_classifier.hdf5\n",
      "42/42 [==============================] - 0s 1ms/step - loss: 0.1408 - accuracy: 0.9411 - val_loss: 0.0432 - val_accuracy: 0.9977\n",
      "Epoch 87/1000\n",
      " 1/42 [..............................] - ETA: 0s - loss: 0.1231 - accuracy: 0.9766\n",
      "Epoch 87: saving model to model/keypoint_classifier\\keypoint_classifier.hdf5\n",
      "42/42 [==============================] - 0s 1ms/step - loss: 0.1618 - accuracy: 0.9384 - val_loss: 0.0440 - val_accuracy: 0.9966\n",
      "Epoch 88/1000\n",
      " 1/42 [..............................] - ETA: 0s - loss: 0.1602 - accuracy: 0.9453\n",
      "Epoch 88: saving model to model/keypoint_classifier\\keypoint_classifier.hdf5\n",
      "42/42 [==============================] - 0s 1ms/step - loss: 0.1544 - accuracy: 0.9369 - val_loss: 0.0473 - val_accuracy: 0.9966\n",
      "Epoch 89/1000\n",
      " 1/42 [..............................] - ETA: 0s - loss: 0.1190 - accuracy: 0.9688\n",
      "Epoch 89: saving model to model/keypoint_classifier\\keypoint_classifier.hdf5\n",
      "42/42 [==============================] - 0s 1ms/step - loss: 0.1456 - accuracy: 0.9384 - val_loss: 0.0422 - val_accuracy: 0.9972\n",
      "Epoch 90/1000\n",
      " 1/42 [..............................] - ETA: 0s - loss: 0.1245 - accuracy: 0.9688\n",
      "Epoch 90: saving model to model/keypoint_classifier\\keypoint_classifier.hdf5\n",
      "42/42 [==============================] - 0s 1ms/step - loss: 0.1586 - accuracy: 0.9330 - val_loss: 0.0482 - val_accuracy: 0.9961\n",
      "Epoch 91/1000\n",
      " 1/42 [..............................] - ETA: 0s - loss: 0.2205 - accuracy: 0.8906\n",
      "Epoch 91: saving model to model/keypoint_classifier\\keypoint_classifier.hdf5\n",
      "42/42 [==============================] - 0s 1ms/step - loss: 0.1569 - accuracy: 0.9341 - val_loss: 0.0466 - val_accuracy: 0.9966\n",
      "Epoch 92/1000\n",
      " 1/42 [..............................] - ETA: 0s - loss: 0.1245 - accuracy: 0.9141\n",
      "Epoch 92: saving model to model/keypoint_classifier\\keypoint_classifier.hdf5\n",
      "42/42 [==============================] - 0s 1ms/step - loss: 0.1540 - accuracy: 0.9339 - val_loss: 0.0453 - val_accuracy: 0.9961\n",
      "Epoch 93/1000\n",
      " 1/42 [..............................] - ETA: 0s - loss: 0.1010 - accuracy: 0.9609\n",
      "Epoch 93: saving model to model/keypoint_classifier\\keypoint_classifier.hdf5\n",
      "42/42 [==============================] - 0s 1ms/step - loss: 0.1455 - accuracy: 0.9392 - val_loss: 0.0437 - val_accuracy: 0.9966\n",
      "Epoch 94/1000\n",
      " 1/42 [..............................] - ETA: 0s - loss: 0.1116 - accuracy: 0.9531\n",
      "Epoch 94: saving model to model/keypoint_classifier\\keypoint_classifier.hdf5\n",
      "42/42 [==============================] - 0s 1ms/step - loss: 0.1471 - accuracy: 0.9433 - val_loss: 0.0427 - val_accuracy: 0.9966\n",
      "Epoch 95/1000\n",
      " 1/42 [..............................] - ETA: 0s - loss: 0.1067 - accuracy: 0.9453\n",
      "Epoch 95: saving model to model/keypoint_classifier\\keypoint_classifier.hdf5\n",
      "42/42 [==============================] - 0s 1ms/step - loss: 0.1416 - accuracy: 0.9460 - val_loss: 0.0453 - val_accuracy: 0.9966\n",
      "Epoch 96/1000\n",
      " 1/42 [..............................] - ETA: 0s - loss: 0.1626 - accuracy: 0.9297\n",
      "Epoch 96: saving model to model/keypoint_classifier\\keypoint_classifier.hdf5\n",
      "42/42 [==============================] - 0s 1ms/step - loss: 0.1497 - accuracy: 0.9384 - val_loss: 0.0394 - val_accuracy: 0.9972\n",
      "Epoch 97/1000\n",
      " 1/42 [..............................] - ETA: 0s - loss: 0.1666 - accuracy: 0.9297\n",
      "Epoch 97: saving model to model/keypoint_classifier\\keypoint_classifier.hdf5\n",
      "42/42 [==============================] - 0s 1ms/step - loss: 0.1498 - accuracy: 0.9373 - val_loss: 0.0448 - val_accuracy: 0.9966\n",
      "Epoch 98/1000\n",
      " 1/42 [..............................] - ETA: 0s - loss: 0.1492 - accuracy: 0.9297\n",
      "Epoch 98: saving model to model/keypoint_classifier\\keypoint_classifier.hdf5\n",
      "42/42 [==============================] - 0s 1ms/step - loss: 0.1503 - accuracy: 0.9381 - val_loss: 0.0407 - val_accuracy: 0.9955\n",
      "Epoch 99/1000\n",
      " 1/42 [..............................] - ETA: 0s - loss: 0.0864 - accuracy: 0.9688\n",
      "Epoch 99: saving model to model/keypoint_classifier\\keypoint_classifier.hdf5\n",
      "42/42 [==============================] - 0s 1ms/step - loss: 0.1421 - accuracy: 0.9422 - val_loss: 0.0351 - val_accuracy: 0.9989\n",
      "Epoch 100/1000\n",
      " 1/42 [..............................] - ETA: 0s - loss: 0.1490 - accuracy: 0.9297\n",
      "Epoch 100: saving model to model/keypoint_classifier\\keypoint_classifier.hdf5\n",
      "42/42 [==============================] - 0s 1ms/step - loss: 0.1424 - accuracy: 0.9424 - val_loss: 0.0367 - val_accuracy: 0.9977\n",
      "Epoch 101/1000\n",
      " 1/42 [..............................] - ETA: 0s - loss: 0.1263 - accuracy: 0.9531\n",
      "Epoch 101: saving model to model/keypoint_classifier\\keypoint_classifier.hdf5\n",
      "42/42 [==============================] - 0s 1ms/step - loss: 0.1558 - accuracy: 0.9358 - val_loss: 0.0460 - val_accuracy: 0.9966\n",
      "Epoch 102/1000\n",
      " 1/42 [..............................] - ETA: 0s - loss: 0.1538 - accuracy: 0.9297\n",
      "Epoch 102: saving model to model/keypoint_classifier\\keypoint_classifier.hdf5\n",
      "42/42 [==============================] - 0s 1ms/step - loss: 0.1398 - accuracy: 0.9424 - val_loss: 0.0371 - val_accuracy: 0.9977\n",
      "Epoch 103/1000\n",
      " 1/42 [..............................] - ETA: 0s - loss: 0.1649 - accuracy: 0.9141\n",
      "Epoch 103: saving model to model/keypoint_classifier\\keypoint_classifier.hdf5\n",
      "42/42 [==============================] - 0s 2ms/step - loss: 0.1392 - accuracy: 0.9411 - val_loss: 0.0402 - val_accuracy: 0.9966\n",
      "Epoch 104/1000\n",
      " 1/42 [..............................] - ETA: 0s - loss: 0.1950 - accuracy: 0.9062\n",
      "Epoch 104: saving model to model/keypoint_classifier\\keypoint_classifier.hdf5\n",
      "42/42 [==============================] - 0s 2ms/step - loss: 0.1541 - accuracy: 0.9360 - val_loss: 0.0390 - val_accuracy: 0.9977\n",
      "Epoch 105/1000\n",
      " 1/42 [..............................] - ETA: 0s - loss: 0.1498 - accuracy: 0.9219\n",
      "Epoch 105: saving model to model/keypoint_classifier\\keypoint_classifier.hdf5\n",
      "42/42 [==============================] - 0s 2ms/step - loss: 0.1410 - accuracy: 0.9446 - val_loss: 0.0366 - val_accuracy: 0.9966\n",
      "Epoch 106/1000\n",
      " 1/42 [..............................] - ETA: 0s - loss: 0.1813 - accuracy: 0.9219\n",
      "Epoch 106: saving model to model/keypoint_classifier\\keypoint_classifier.hdf5\n",
      "42/42 [==============================] - 0s 2ms/step - loss: 0.1423 - accuracy: 0.9398 - val_loss: 0.0376 - val_accuracy: 0.9966\n",
      "Epoch 107/1000\n",
      " 1/42 [..............................] - ETA: 0s - loss: 0.1689 - accuracy: 0.9297\n",
      "Epoch 107: saving model to model/keypoint_classifier\\keypoint_classifier.hdf5\n",
      "42/42 [==============================] - 0s 2ms/step - loss: 0.1343 - accuracy: 0.9431 - val_loss: 0.0405 - val_accuracy: 0.9966\n",
      "Epoch 108/1000\n",
      " 1/42 [..............................] - ETA: 0s - loss: 0.1896 - accuracy: 0.9375\n",
      "Epoch 108: saving model to model/keypoint_classifier\\keypoint_classifier.hdf5\n",
      "42/42 [==============================] - 0s 2ms/step - loss: 0.1426 - accuracy: 0.9409 - val_loss: 0.0315 - val_accuracy: 0.9972\n",
      "Epoch 109/1000\n",
      " 1/42 [..............................] - ETA: 0s - loss: 0.1357 - accuracy: 0.9453\n",
      "Epoch 109: saving model to model/keypoint_classifier\\keypoint_classifier.hdf5\n",
      "42/42 [==============================] - 0s 1ms/step - loss: 0.1457 - accuracy: 0.9388 - val_loss: 0.0444 - val_accuracy: 0.9955\n",
      "Epoch 110/1000\n",
      " 1/42 [..............................] - ETA: 0s - loss: 0.1728 - accuracy: 0.9141\n",
      "Epoch 110: saving model to model/keypoint_classifier\\keypoint_classifier.hdf5\n",
      "42/42 [==============================] - 0s 2ms/step - loss: 0.1333 - accuracy: 0.9458 - val_loss: 0.0371 - val_accuracy: 0.9966\n",
      "Epoch 111/1000\n",
      " 1/42 [..............................] - ETA: 0s - loss: 0.1163 - accuracy: 0.9531\n",
      "Epoch 111: saving model to model/keypoint_classifier\\keypoint_classifier.hdf5\n",
      "42/42 [==============================] - 0s 1ms/step - loss: 0.1437 - accuracy: 0.9428 - val_loss: 0.0338 - val_accuracy: 0.9966\n",
      "Epoch 112/1000\n",
      " 1/42 [..............................] - ETA: 0s - loss: 0.1430 - accuracy: 0.9375\n",
      "Epoch 112: saving model to model/keypoint_classifier\\keypoint_classifier.hdf5\n",
      "42/42 [==============================] - 0s 1ms/step - loss: 0.1421 - accuracy: 0.9392 - val_loss: 0.0349 - val_accuracy: 0.9972\n",
      "Epoch 113/1000\n",
      " 1/42 [..............................] - ETA: 0s - loss: 0.1843 - accuracy: 0.9219\n",
      "Epoch 113: saving model to model/keypoint_classifier\\keypoint_classifier.hdf5\n",
      "42/42 [==============================] - 0s 1ms/step - loss: 0.1320 - accuracy: 0.9443 - val_loss: 0.0400 - val_accuracy: 0.9961\n",
      "Epoch 114/1000\n",
      " 1/42 [..............................] - ETA: 0s - loss: 0.1740 - accuracy: 0.9297\n",
      "Epoch 114: saving model to model/keypoint_classifier\\keypoint_classifier.hdf5\n",
      "42/42 [==============================] - 0s 1ms/step - loss: 0.1496 - accuracy: 0.9407 - val_loss: 0.0392 - val_accuracy: 0.9966\n",
      "Epoch 115/1000\n",
      " 1/42 [..............................] - ETA: 0s - loss: 0.1978 - accuracy: 0.8984\n",
      "Epoch 115: saving model to model/keypoint_classifier\\keypoint_classifier.hdf5\n",
      "42/42 [==============================] - 0s 3ms/step - loss: 0.1405 - accuracy: 0.9401 - val_loss: 0.0372 - val_accuracy: 0.9966\n",
      "Epoch 116/1000\n",
      " 1/42 [..............................] - ETA: 0s - loss: 0.1372 - accuracy: 0.9297\n",
      "Epoch 116: saving model to model/keypoint_classifier\\keypoint_classifier.hdf5\n",
      "42/42 [==============================] - 0s 1ms/step - loss: 0.1420 - accuracy: 0.9435 - val_loss: 0.0373 - val_accuracy: 0.9966\n",
      "Epoch 117/1000\n",
      " 1/42 [..............................] - ETA: 0s - loss: 0.1827 - accuracy: 0.9219\n",
      "Epoch 117: saving model to model/keypoint_classifier\\keypoint_classifier.hdf5\n",
      "42/42 [==============================] - 0s 1ms/step - loss: 0.1359 - accuracy: 0.9445 - val_loss: 0.0334 - val_accuracy: 0.9966\n",
      "Epoch 118/1000\n",
      " 1/42 [..............................] - ETA: 0s - loss: 0.1997 - accuracy: 0.8828\n",
      "Epoch 118: saving model to model/keypoint_classifier\\keypoint_classifier.hdf5\n",
      "42/42 [==============================] - 0s 1ms/step - loss: 0.1489 - accuracy: 0.9383 - val_loss: 0.0417 - val_accuracy: 0.9949\n",
      "Epoch 119/1000\n",
      " 1/42 [..............................] - ETA: 0s - loss: 0.0735 - accuracy: 0.9766\n",
      "Epoch 119: saving model to model/keypoint_classifier\\keypoint_classifier.hdf5\n",
      "42/42 [==============================] - 0s 1ms/step - loss: 0.1325 - accuracy: 0.9430 - val_loss: 0.0346 - val_accuracy: 0.9961\n",
      "Epoch 120/1000\n",
      " 1/42 [..............................] - ETA: 0s - loss: 0.0918 - accuracy: 0.9766\n",
      "Epoch 120: saving model to model/keypoint_classifier\\keypoint_classifier.hdf5\n",
      "42/42 [==============================] - 0s 1ms/step - loss: 0.1364 - accuracy: 0.9452 - val_loss: 0.0359 - val_accuracy: 0.9966\n",
      "Epoch 121/1000\n",
      " 1/42 [..............................] - ETA: 0s - loss: 0.1842 - accuracy: 0.9219\n",
      "Epoch 121: saving model to model/keypoint_classifier\\keypoint_classifier.hdf5\n",
      "42/42 [==============================] - 0s 1ms/step - loss: 0.1369 - accuracy: 0.9433 - val_loss: 0.0395 - val_accuracy: 0.9944\n",
      "Epoch 122/1000\n",
      " 1/42 [..............................] - ETA: 0s - loss: 0.0757 - accuracy: 0.9688\n",
      "Epoch 122: saving model to model/keypoint_classifier\\keypoint_classifier.hdf5\n",
      "42/42 [==============================] - 0s 1ms/step - loss: 0.1452 - accuracy: 0.9398 - val_loss: 0.0358 - val_accuracy: 0.9966\n",
      "Epoch 123/1000\n",
      " 1/42 [..............................] - ETA: 0s - loss: 0.1378 - accuracy: 0.9297\n",
      "Epoch 123: saving model to model/keypoint_classifier\\keypoint_classifier.hdf5\n",
      "42/42 [==============================] - 0s 1ms/step - loss: 0.1356 - accuracy: 0.9415 - val_loss: 0.0362 - val_accuracy: 0.9966\n",
      "Epoch 124/1000\n",
      " 1/42 [..............................] - ETA: 0s - loss: 0.1166 - accuracy: 0.9531\n",
      "Epoch 124: saving model to model/keypoint_classifier\\keypoint_classifier.hdf5\n",
      "42/42 [==============================] - 0s 1ms/step - loss: 0.1369 - accuracy: 0.9435 - val_loss: 0.0327 - val_accuracy: 0.9966\n",
      "Epoch 125/1000\n",
      " 1/42 [..............................] - ETA: 0s - loss: 0.1114 - accuracy: 0.9609\n",
      "Epoch 125: saving model to model/keypoint_classifier\\keypoint_classifier.hdf5\n",
      "42/42 [==============================] - 0s 1ms/step - loss: 0.1382 - accuracy: 0.9454 - val_loss: 0.0351 - val_accuracy: 0.9972\n",
      "Epoch 126/1000\n",
      " 1/42 [..............................] - ETA: 0s - loss: 0.1568 - accuracy: 0.9297\n",
      "Epoch 126: saving model to model/keypoint_classifier\\keypoint_classifier.hdf5\n",
      "42/42 [==============================] - 0s 1ms/step - loss: 0.1396 - accuracy: 0.9420 - val_loss: 0.0292 - val_accuracy: 0.9966\n",
      "Epoch 127/1000\n",
      " 1/42 [..............................] - ETA: 0s - loss: 0.1147 - accuracy: 0.9609\n",
      "Epoch 127: saving model to model/keypoint_classifier\\keypoint_classifier.hdf5\n",
      "42/42 [==============================] - 0s 1ms/step - loss: 0.1321 - accuracy: 0.9476 - val_loss: 0.0342 - val_accuracy: 0.9961\n",
      "Epoch 128/1000\n",
      " 1/42 [..............................] - ETA: 0s - loss: 0.0948 - accuracy: 0.9609\n",
      "Epoch 128: saving model to model/keypoint_classifier\\keypoint_classifier.hdf5\n",
      "42/42 [==============================] - 0s 1ms/step - loss: 0.1401 - accuracy: 0.9420 - val_loss: 0.0312 - val_accuracy: 0.9972\n",
      "Epoch 129/1000\n",
      " 1/42 [..............................] - ETA: 0s - loss: 0.1037 - accuracy: 0.9453\n",
      "Epoch 129: saving model to model/keypoint_classifier\\keypoint_classifier.hdf5\n",
      "42/42 [==============================] - 0s 1ms/step - loss: 0.1381 - accuracy: 0.9420 - val_loss: 0.0297 - val_accuracy: 0.9966\n",
      "Epoch 130/1000\n",
      " 1/42 [..............................] - ETA: 0s - loss: 0.1983 - accuracy: 0.9297\n",
      "Epoch 130: saving model to model/keypoint_classifier\\keypoint_classifier.hdf5\n",
      "42/42 [==============================] - 0s 1ms/step - loss: 0.1409 - accuracy: 0.9430 - val_loss: 0.0327 - val_accuracy: 0.9966\n",
      "Epoch 131/1000\n",
      " 1/42 [..............................] - ETA: 0s - loss: 0.1119 - accuracy: 0.9375\n",
      "Epoch 131: saving model to model/keypoint_classifier\\keypoint_classifier.hdf5\n",
      "42/42 [==============================] - 0s 1ms/step - loss: 0.1354 - accuracy: 0.9424 - val_loss: 0.0380 - val_accuracy: 0.9977\n",
      "Epoch 132/1000\n",
      " 1/42 [..............................] - ETA: 0s - loss: 0.1293 - accuracy: 0.9766\n",
      "Epoch 132: saving model to model/keypoint_classifier\\keypoint_classifier.hdf5\n",
      "42/42 [==============================] - 0s 1ms/step - loss: 0.1280 - accuracy: 0.9497 - val_loss: 0.0291 - val_accuracy: 0.9977\n",
      "Epoch 133/1000\n",
      " 1/42 [..............................] - ETA: 0s - loss: 0.2012 - accuracy: 0.9062\n",
      "Epoch 133: saving model to model/keypoint_classifier\\keypoint_classifier.hdf5\n",
      "42/42 [==============================] - 0s 1ms/step - loss: 0.1276 - accuracy: 0.9463 - val_loss: 0.0329 - val_accuracy: 0.9972\n",
      "Epoch 134/1000\n",
      " 1/42 [..............................] - ETA: 0s - loss: 0.1152 - accuracy: 0.9453\n",
      "Epoch 134: saving model to model/keypoint_classifier\\keypoint_classifier.hdf5\n",
      "42/42 [==============================] - 0s 1ms/step - loss: 0.1299 - accuracy: 0.9473 - val_loss: 0.0345 - val_accuracy: 0.9966\n",
      "Epoch 135/1000\n",
      " 1/42 [..............................] - ETA: 0s - loss: 0.1343 - accuracy: 0.9375\n",
      "Epoch 135: saving model to model/keypoint_classifier\\keypoint_classifier.hdf5\n",
      "42/42 [==============================] - 0s 1ms/step - loss: 0.1316 - accuracy: 0.9456 - val_loss: 0.0323 - val_accuracy: 0.9966\n",
      "Epoch 136/1000\n",
      " 1/42 [..............................] - ETA: 0s - loss: 0.1349 - accuracy: 0.9453\n",
      "Epoch 136: saving model to model/keypoint_classifier\\keypoint_classifier.hdf5\n",
      "42/42 [==============================] - 0s 1ms/step - loss: 0.1364 - accuracy: 0.9426 - val_loss: 0.0314 - val_accuracy: 0.9966\n",
      "Epoch 137/1000\n",
      " 1/42 [..............................] - ETA: 0s - loss: 0.1020 - accuracy: 0.9688\n",
      "Epoch 137: saving model to model/keypoint_classifier\\keypoint_classifier.hdf5\n",
      "42/42 [==============================] - 0s 1ms/step - loss: 0.1280 - accuracy: 0.9476 - val_loss: 0.0277 - val_accuracy: 0.9966\n",
      "Epoch 138/1000\n",
      " 1/42 [..............................] - ETA: 0s - loss: 0.0945 - accuracy: 0.9688\n",
      "Epoch 138: saving model to model/keypoint_classifier\\keypoint_classifier.hdf5\n",
      "42/42 [==============================] - 0s 1ms/step - loss: 0.1328 - accuracy: 0.9465 - val_loss: 0.0320 - val_accuracy: 0.9966\n",
      "Epoch 139/1000\n",
      " 1/42 [..............................] - ETA: 0s - loss: 0.0743 - accuracy: 0.9844\n",
      "Epoch 139: saving model to model/keypoint_classifier\\keypoint_classifier.hdf5\n",
      "42/42 [==============================] - 0s 1ms/step - loss: 0.1332 - accuracy: 0.9467 - val_loss: 0.0303 - val_accuracy: 0.9966\n",
      "Epoch 140/1000\n",
      " 1/42 [..............................] - ETA: 0s - loss: 0.1077 - accuracy: 0.9609\n",
      "Epoch 140: saving model to model/keypoint_classifier\\keypoint_classifier.hdf5\n",
      "42/42 [==============================] - 0s 1ms/step - loss: 0.1283 - accuracy: 0.9478 - val_loss: 0.0296 - val_accuracy: 0.9972\n",
      "Epoch 141/1000\n",
      " 1/42 [..............................] - ETA: 0s - loss: 0.1562 - accuracy: 0.9297\n",
      "Epoch 141: saving model to model/keypoint_classifier\\keypoint_classifier.hdf5\n",
      "42/42 [==============================] - 0s 1ms/step - loss: 0.1285 - accuracy: 0.9454 - val_loss: 0.0267 - val_accuracy: 0.9966\n",
      "Epoch 142/1000\n",
      " 1/42 [..............................] - ETA: 0s - loss: 0.0897 - accuracy: 0.9688\n",
      "Epoch 142: saving model to model/keypoint_classifier\\keypoint_classifier.hdf5\n",
      "42/42 [==============================] - 0s 1ms/step - loss: 0.1257 - accuracy: 0.9484 - val_loss: 0.0286 - val_accuracy: 0.9966\n",
      "Epoch 143/1000\n",
      " 1/42 [..............................] - ETA: 0s - loss: 0.0658 - accuracy: 1.0000\n",
      "Epoch 143: saving model to model/keypoint_classifier\\keypoint_classifier.hdf5\n",
      "42/42 [==============================] - 0s 1ms/step - loss: 0.1308 - accuracy: 0.9486 - val_loss: 0.0344 - val_accuracy: 0.9955\n",
      "Epoch 144/1000\n",
      " 1/42 [..............................] - ETA: 0s - loss: 0.2770 - accuracy: 0.9219\n",
      "Epoch 144: saving model to model/keypoint_classifier\\keypoint_classifier.hdf5\n",
      "42/42 [==============================] - 0s 1ms/step - loss: 0.1419 - accuracy: 0.9400 - val_loss: 0.0288 - val_accuracy: 0.9966\n",
      "Epoch 145/1000\n",
      " 1/42 [..............................] - ETA: 0s - loss: 0.1159 - accuracy: 0.9531\n",
      "Epoch 145: saving model to model/keypoint_classifier\\keypoint_classifier.hdf5\n",
      "42/42 [==============================] - 0s 1ms/step - loss: 0.1288 - accuracy: 0.9482 - val_loss: 0.0290 - val_accuracy: 0.9972\n",
      "Epoch 146/1000\n",
      " 1/42 [..............................] - ETA: 0s - loss: 0.1102 - accuracy: 0.9766\n",
      "Epoch 146: saving model to model/keypoint_classifier\\keypoint_classifier.hdf5\n",
      "42/42 [==============================] - 0s 1ms/step - loss: 0.1284 - accuracy: 0.9478 - val_loss: 0.0303 - val_accuracy: 0.9972\n",
      "Epoch 147/1000\n",
      " 1/42 [..............................] - ETA: 0s - loss: 0.1107 - accuracy: 0.9609\n",
      "Epoch 147: saving model to model/keypoint_classifier\\keypoint_classifier.hdf5\n",
      "42/42 [==============================] - 0s 1ms/step - loss: 0.1297 - accuracy: 0.9467 - val_loss: 0.0349 - val_accuracy: 0.9961\n",
      "Epoch 148/1000\n",
      " 1/42 [..............................] - ETA: 0s - loss: 0.0936 - accuracy: 0.9844\n",
      "Epoch 148: saving model to model/keypoint_classifier\\keypoint_classifier.hdf5\n",
      "42/42 [==============================] - 0s 1ms/step - loss: 0.1284 - accuracy: 0.9475 - val_loss: 0.0263 - val_accuracy: 0.9972\n",
      "Epoch 149/1000\n",
      " 1/42 [..............................] - ETA: 0s - loss: 0.1561 - accuracy: 0.9531\n",
      "Epoch 149: saving model to model/keypoint_classifier\\keypoint_classifier.hdf5\n",
      "42/42 [==============================] - 0s 1ms/step - loss: 0.1298 - accuracy: 0.9450 - val_loss: 0.0279 - val_accuracy: 0.9972\n",
      "Epoch 150/1000\n",
      " 1/42 [..............................] - ETA: 0s - loss: 0.1274 - accuracy: 0.9531\n",
      "Epoch 150: saving model to model/keypoint_classifier\\keypoint_classifier.hdf5\n",
      "42/42 [==============================] - 0s 1ms/step - loss: 0.1297 - accuracy: 0.9478 - val_loss: 0.0264 - val_accuracy: 0.9977\n",
      "Epoch 151/1000\n",
      " 1/42 [..............................] - ETA: 0s - loss: 0.1482 - accuracy: 0.9375\n",
      "Epoch 151: saving model to model/keypoint_classifier\\keypoint_classifier.hdf5\n",
      "42/42 [==============================] - 0s 1ms/step - loss: 0.1251 - accuracy: 0.9448 - val_loss: 0.0291 - val_accuracy: 0.9972\n",
      "Epoch 152/1000\n",
      " 1/42 [..............................] - ETA: 0s - loss: 0.1311 - accuracy: 0.9531\n",
      "Epoch 152: saving model to model/keypoint_classifier\\keypoint_classifier.hdf5\n",
      "42/42 [==============================] - 0s 1ms/step - loss: 0.1275 - accuracy: 0.9486 - val_loss: 0.0288 - val_accuracy: 0.9966\n",
      "Epoch 153/1000\n",
      " 1/42 [..............................] - ETA: 0s - loss: 0.0874 - accuracy: 0.9609\n",
      "Epoch 153: saving model to model/keypoint_classifier\\keypoint_classifier.hdf5\n",
      "42/42 [==============================] - 0s 1ms/step - loss: 0.1326 - accuracy: 0.9478 - val_loss: 0.0301 - val_accuracy: 0.9966\n",
      "Epoch 154/1000\n",
      " 1/42 [..............................] - ETA: 0s - loss: 0.1056 - accuracy: 0.9531\n",
      "Epoch 154: saving model to model/keypoint_classifier\\keypoint_classifier.hdf5\n",
      "42/42 [==============================] - 0s 1ms/step - loss: 0.1305 - accuracy: 0.9450 - val_loss: 0.0302 - val_accuracy: 0.9972\n",
      "Epoch 155/1000\n",
      " 1/42 [..............................] - ETA: 0s - loss: 0.1064 - accuracy: 0.9375\n",
      "Epoch 155: saving model to model/keypoint_classifier\\keypoint_classifier.hdf5\n",
      "42/42 [==============================] - 0s 1ms/step - loss: 0.1218 - accuracy: 0.9503 - val_loss: 0.0258 - val_accuracy: 0.9972\n",
      "Epoch 156/1000\n",
      " 1/42 [..............................] - ETA: 0s - loss: 0.0994 - accuracy: 0.9766\n",
      "Epoch 156: saving model to model/keypoint_classifier\\keypoint_classifier.hdf5\n",
      "42/42 [==============================] - 0s 1ms/step - loss: 0.1312 - accuracy: 0.9469 - val_loss: 0.0320 - val_accuracy: 0.9966\n",
      "Epoch 157/1000\n",
      " 1/42 [..............................] - ETA: 0s - loss: 0.0979 - accuracy: 0.9609\n",
      "Epoch 157: saving model to model/keypoint_classifier\\keypoint_classifier.hdf5\n",
      "42/42 [==============================] - 0s 1ms/step - loss: 0.1380 - accuracy: 0.9445 - val_loss: 0.0314 - val_accuracy: 0.9949\n",
      "Epoch 158/1000\n",
      " 1/42 [..............................] - ETA: 0s - loss: 0.1899 - accuracy: 0.9297\n",
      "Epoch 158: saving model to model/keypoint_classifier\\keypoint_classifier.hdf5\n",
      "42/42 [==============================] - 0s 1ms/step - loss: 0.1259 - accuracy: 0.9527 - val_loss: 0.0275 - val_accuracy: 0.9966\n",
      "Epoch 159/1000\n",
      " 1/42 [..............................] - ETA: 0s - loss: 0.1427 - accuracy: 0.9453\n",
      "Epoch 159: saving model to model/keypoint_classifier\\keypoint_classifier.hdf5\n",
      "42/42 [==============================] - 0s 1ms/step - loss: 0.1321 - accuracy: 0.9448 - val_loss: 0.0275 - val_accuracy: 0.9972\n",
      "Epoch 160/1000\n",
      " 1/42 [..............................] - ETA: 0s - loss: 0.1116 - accuracy: 0.9609\n",
      "Epoch 160: saving model to model/keypoint_classifier\\keypoint_classifier.hdf5\n",
      "42/42 [==============================] - 0s 1ms/step - loss: 0.1239 - accuracy: 0.9456 - val_loss: 0.0360 - val_accuracy: 0.9949\n",
      "Epoch 161/1000\n",
      " 1/42 [..............................] - ETA: 0s - loss: 0.1341 - accuracy: 0.9375\n",
      "Epoch 161: saving model to model/keypoint_classifier\\keypoint_classifier.hdf5\n",
      "42/42 [==============================] - 0s 1ms/step - loss: 0.1292 - accuracy: 0.9463 - val_loss: 0.0298 - val_accuracy: 0.9961\n",
      "Epoch 162/1000\n",
      " 1/42 [..............................] - ETA: 0s - loss: 0.1239 - accuracy: 0.9531\n",
      "Epoch 162: saving model to model/keypoint_classifier\\keypoint_classifier.hdf5\n",
      "42/42 [==============================] - 0s 2ms/step - loss: 0.1244 - accuracy: 0.9488 - val_loss: 0.0274 - val_accuracy: 0.9966\n",
      "Epoch 163/1000\n",
      " 1/42 [..............................] - ETA: 0s - loss: 0.0949 - accuracy: 0.9766\n",
      "Epoch 163: saving model to model/keypoint_classifier\\keypoint_classifier.hdf5\n",
      "42/42 [==============================] - 0s 1ms/step - loss: 0.1281 - accuracy: 0.9467 - val_loss: 0.0267 - val_accuracy: 0.9972\n",
      "Epoch 164/1000\n",
      " 1/42 [..............................] - ETA: 0s - loss: 0.1017 - accuracy: 0.9844\n",
      "Epoch 164: saving model to model/keypoint_classifier\\keypoint_classifier.hdf5\n",
      "42/42 [==============================] - 0s 1ms/step - loss: 0.1308 - accuracy: 0.9439 - val_loss: 0.0289 - val_accuracy: 0.9961\n",
      "Epoch 165/1000\n",
      " 1/42 [..............................] - ETA: 0s - loss: 0.2126 - accuracy: 0.9219\n",
      "Epoch 165: saving model to model/keypoint_classifier\\keypoint_classifier.hdf5\n",
      "42/42 [==============================] - 0s 1ms/step - loss: 0.1259 - accuracy: 0.9478 - val_loss: 0.0276 - val_accuracy: 0.9972\n",
      "Epoch 166/1000\n",
      " 1/42 [..............................] - ETA: 0s - loss: 0.1281 - accuracy: 0.9375\n",
      "Epoch 166: saving model to model/keypoint_classifier\\keypoint_classifier.hdf5\n",
      "42/42 [==============================] - 0s 1ms/step - loss: 0.1213 - accuracy: 0.9529 - val_loss: 0.0256 - val_accuracy: 0.9966\n",
      "Epoch 167/1000\n",
      " 1/42 [..............................] - ETA: 0s - loss: 0.2006 - accuracy: 0.9062\n",
      "Epoch 167: saving model to model/keypoint_classifier\\keypoint_classifier.hdf5\n",
      "42/42 [==============================] - 0s 1ms/step - loss: 0.1296 - accuracy: 0.9439 - val_loss: 0.0254 - val_accuracy: 0.9961\n",
      "Epoch 168/1000\n",
      " 1/42 [..............................] - ETA: 0s - loss: 0.1638 - accuracy: 0.9375\n",
      "Epoch 168: saving model to model/keypoint_classifier\\keypoint_classifier.hdf5\n",
      "42/42 [==============================] - 0s 1ms/step - loss: 0.1278 - accuracy: 0.9482 - val_loss: 0.0274 - val_accuracy: 0.9966\n",
      "Epoch 169/1000\n",
      " 1/42 [..............................] - ETA: 0s - loss: 0.1051 - accuracy: 0.9531\n",
      "Epoch 169: saving model to model/keypoint_classifier\\keypoint_classifier.hdf5\n",
      "42/42 [==============================] - 0s 1ms/step - loss: 0.1267 - accuracy: 0.9505 - val_loss: 0.0298 - val_accuracy: 0.9955\n",
      "Epoch 170/1000\n",
      " 1/42 [..............................] - ETA: 0s - loss: 0.1518 - accuracy: 0.9297\n",
      "Epoch 170: saving model to model/keypoint_classifier\\keypoint_classifier.hdf5\n",
      "42/42 [==============================] - 0s 1ms/step - loss: 0.1239 - accuracy: 0.9480 - val_loss: 0.0272 - val_accuracy: 0.9966\n",
      "Epoch 171/1000\n",
      " 1/42 [..............................] - ETA: 0s - loss: 0.1739 - accuracy: 0.9219\n",
      "Epoch 171: saving model to model/keypoint_classifier\\keypoint_classifier.hdf5\n",
      "42/42 [==============================] - 0s 1ms/step - loss: 0.1311 - accuracy: 0.9443 - val_loss: 0.0305 - val_accuracy: 0.9955\n",
      "Epoch 172/1000\n",
      " 1/42 [..............................] - ETA: 0s - loss: 0.0903 - accuracy: 0.9609\n",
      "Epoch 172: saving model to model/keypoint_classifier\\keypoint_classifier.hdf5\n",
      "42/42 [==============================] - 0s 1ms/step - loss: 0.1318 - accuracy: 0.9446 - val_loss: 0.0274 - val_accuracy: 0.9972\n",
      "Epoch 173/1000\n",
      " 1/42 [..............................] - ETA: 0s - loss: 0.1170 - accuracy: 0.9453\n",
      "Epoch 173: saving model to model/keypoint_classifier\\keypoint_classifier.hdf5\n",
      "42/42 [==============================] - 0s 1ms/step - loss: 0.1299 - accuracy: 0.9480 - val_loss: 0.0269 - val_accuracy: 0.9955\n",
      "Epoch 174/1000\n",
      " 1/42 [..............................] - ETA: 0s - loss: 0.0986 - accuracy: 0.9297\n",
      "Epoch 174: saving model to model/keypoint_classifier\\keypoint_classifier.hdf5\n",
      "42/42 [==============================] - 0s 1ms/step - loss: 0.1323 - accuracy: 0.9433 - val_loss: 0.0328 - val_accuracy: 0.9966\n",
      "Epoch 175/1000\n",
      " 1/42 [..............................] - ETA: 0s - loss: 0.0991 - accuracy: 0.9609\n",
      "Epoch 175: saving model to model/keypoint_classifier\\keypoint_classifier.hdf5\n",
      "42/42 [==============================] - 0s 1ms/step - loss: 0.1290 - accuracy: 0.9475 - val_loss: 0.0251 - val_accuracy: 0.9966\n",
      "Epoch 176/1000\n",
      " 1/42 [..............................] - ETA: 0s - loss: 0.0890 - accuracy: 0.9844\n",
      "Epoch 176: saving model to model/keypoint_classifier\\keypoint_classifier.hdf5\n",
      "42/42 [==============================] - 0s 1ms/step - loss: 0.1230 - accuracy: 0.9467 - val_loss: 0.0299 - val_accuracy: 0.9961\n",
      "Epoch 177/1000\n",
      " 1/42 [..............................] - ETA: 0s - loss: 0.1671 - accuracy: 0.9219\n",
      "Epoch 177: saving model to model/keypoint_classifier\\keypoint_classifier.hdf5\n",
      "42/42 [==============================] - 0s 1ms/step - loss: 0.1397 - accuracy: 0.9430 - val_loss: 0.0274 - val_accuracy: 0.9966\n",
      "Epoch 178/1000\n",
      " 1/42 [..............................] - ETA: 0s - loss: 0.0972 - accuracy: 0.9844\n",
      "Epoch 178: saving model to model/keypoint_classifier\\keypoint_classifier.hdf5\n",
      "42/42 [==============================] - 0s 1ms/step - loss: 0.1206 - accuracy: 0.9491 - val_loss: 0.0293 - val_accuracy: 0.9949\n",
      "Epoch 179/1000\n",
      " 1/42 [..............................] - ETA: 0s - loss: 0.0675 - accuracy: 0.9766\n",
      "Epoch 179: saving model to model/keypoint_classifier\\keypoint_classifier.hdf5\n",
      "42/42 [==============================] - 0s 1ms/step - loss: 0.1293 - accuracy: 0.9452 - val_loss: 0.0299 - val_accuracy: 0.9961\n",
      "Epoch 180/1000\n",
      " 1/42 [..............................] - ETA: 0s - loss: 0.1461 - accuracy: 0.9375\n",
      "Epoch 180: saving model to model/keypoint_classifier\\keypoint_classifier.hdf5\n",
      "42/42 [==============================] - 0s 1ms/step - loss: 0.1245 - accuracy: 0.9469 - val_loss: 0.0230 - val_accuracy: 0.9983\n",
      "Epoch 181/1000\n",
      " 1/42 [..............................] - ETA: 0s - loss: 0.1443 - accuracy: 0.9297\n",
      "Epoch 181: saving model to model/keypoint_classifier\\keypoint_classifier.hdf5\n",
      "42/42 [==============================] - 0s 1ms/step - loss: 0.1305 - accuracy: 0.9491 - val_loss: 0.0308 - val_accuracy: 0.9949\n",
      "Epoch 182/1000\n",
      " 1/42 [..............................] - ETA: 0s - loss: 0.0902 - accuracy: 0.9688\n",
      "Epoch 182: saving model to model/keypoint_classifier\\keypoint_classifier.hdf5\n",
      "42/42 [==============================] - 0s 1ms/step - loss: 0.1296 - accuracy: 0.9437 - val_loss: 0.0284 - val_accuracy: 0.9966\n",
      "Epoch 183/1000\n",
      " 1/42 [..............................] - ETA: 0s - loss: 0.1401 - accuracy: 0.9531\n",
      "Epoch 183: saving model to model/keypoint_classifier\\keypoint_classifier.hdf5\n",
      "42/42 [==============================] - 0s 3ms/step - loss: 0.1310 - accuracy: 0.9478 - val_loss: 0.0330 - val_accuracy: 0.9955\n",
      "Epoch 184/1000\n",
      " 1/42 [..............................] - ETA: 0s - loss: 0.0872 - accuracy: 0.9609\n",
      "Epoch 184: saving model to model/keypoint_classifier\\keypoint_classifier.hdf5\n",
      "42/42 [==============================] - 0s 1ms/step - loss: 0.1236 - accuracy: 0.9469 - val_loss: 0.0266 - val_accuracy: 0.9972\n",
      "Epoch 185/1000\n",
      " 1/42 [..............................] - ETA: 0s - loss: 0.1089 - accuracy: 0.9297\n",
      "Epoch 185: saving model to model/keypoint_classifier\\keypoint_classifier.hdf5\n",
      "42/42 [==============================] - 0s 2ms/step - loss: 0.1249 - accuracy: 0.9484 - val_loss: 0.0293 - val_accuracy: 0.9961\n",
      "Epoch 186/1000\n",
      " 1/42 [..............................] - ETA: 0s - loss: 0.1753 - accuracy: 0.8906\n",
      "Epoch 186: saving model to model/keypoint_classifier\\keypoint_classifier.hdf5\n",
      "42/42 [==============================] - 0s 1ms/step - loss: 0.1182 - accuracy: 0.9510 - val_loss: 0.0270 - val_accuracy: 0.9955\n",
      "Epoch 187/1000\n",
      " 1/42 [..............................] - ETA: 0s - loss: 0.1212 - accuracy: 0.9531\n",
      "Epoch 187: saving model to model/keypoint_classifier\\keypoint_classifier.hdf5\n",
      "42/42 [==============================] - 0s 1ms/step - loss: 0.1217 - accuracy: 0.9445 - val_loss: 0.0247 - val_accuracy: 0.9955\n",
      "Epoch 188/1000\n",
      " 1/42 [..............................] - ETA: 0s - loss: 0.1880 - accuracy: 0.9141\n",
      "Epoch 188: saving model to model/keypoint_classifier\\keypoint_classifier.hdf5\n",
      "42/42 [==============================] - 0s 1ms/step - loss: 0.1226 - accuracy: 0.9476 - val_loss: 0.0251 - val_accuracy: 0.9966\n",
      "Epoch 189/1000\n",
      " 1/42 [..............................] - ETA: 0s - loss: 0.1209 - accuracy: 0.9531\n",
      "Epoch 189: saving model to model/keypoint_classifier\\keypoint_classifier.hdf5\n",
      "42/42 [==============================] - 0s 1ms/step - loss: 0.1287 - accuracy: 0.9446 - val_loss: 0.0243 - val_accuracy: 0.9961\n",
      "Epoch 190/1000\n",
      " 1/42 [..............................] - ETA: 0s - loss: 0.1626 - accuracy: 0.9375\n",
      "Epoch 190: saving model to model/keypoint_classifier\\keypoint_classifier.hdf5\n",
      "42/42 [==============================] - 0s 1ms/step - loss: 0.1359 - accuracy: 0.9482 - val_loss: 0.0298 - val_accuracy: 0.9955\n",
      "Epoch 191/1000\n",
      " 1/42 [..............................] - ETA: 0s - loss: 0.1619 - accuracy: 0.9141\n",
      "Epoch 191: saving model to model/keypoint_classifier\\keypoint_classifier.hdf5\n",
      "42/42 [==============================] - 0s 1ms/step - loss: 0.1246 - accuracy: 0.9486 - val_loss: 0.0324 - val_accuracy: 0.9961\n",
      "Epoch 192/1000\n",
      " 1/42 [..............................] - ETA: 0s - loss: 0.0745 - accuracy: 0.9766\n",
      "Epoch 192: saving model to model/keypoint_classifier\\keypoint_classifier.hdf5\n",
      "42/42 [==============================] - 0s 1ms/step - loss: 0.1234 - accuracy: 0.9503 - val_loss: 0.0242 - val_accuracy: 0.9966\n",
      "Epoch 193/1000\n",
      " 1/42 [..............................] - ETA: 0s - loss: 0.0752 - accuracy: 0.9688\n",
      "Epoch 193: saving model to model/keypoint_classifier\\keypoint_classifier.hdf5\n",
      "42/42 [==============================] - 0s 1ms/step - loss: 0.1236 - accuracy: 0.9506 - val_loss: 0.0234 - val_accuracy: 0.9972\n",
      "Epoch 194/1000\n",
      " 1/42 [..............................] - ETA: 0s - loss: 0.0690 - accuracy: 0.9766\n",
      "Epoch 194: saving model to model/keypoint_classifier\\keypoint_classifier.hdf5\n",
      "42/42 [==============================] - 0s 1ms/step - loss: 0.1242 - accuracy: 0.9491 - val_loss: 0.0242 - val_accuracy: 0.9955\n",
      "Epoch 195/1000\n",
      " 1/42 [..............................] - ETA: 0s - loss: 0.1007 - accuracy: 0.9609\n",
      "Epoch 195: saving model to model/keypoint_classifier\\keypoint_classifier.hdf5\n",
      "42/42 [==============================] - 0s 2ms/step - loss: 0.1138 - accuracy: 0.9518 - val_loss: 0.0236 - val_accuracy: 0.9961\n",
      "Epoch 196/1000\n",
      " 1/42 [..............................] - ETA: 0s - loss: 0.1726 - accuracy: 0.9375\n",
      "Epoch 196: saving model to model/keypoint_classifier\\keypoint_classifier.hdf5\n",
      "42/42 [==============================] - 0s 1ms/step - loss: 0.1266 - accuracy: 0.9471 - val_loss: 0.0285 - val_accuracy: 0.9961\n",
      "Epoch 197/1000\n",
      " 1/42 [..............................] - ETA: 0s - loss: 0.1548 - accuracy: 0.9453\n",
      "Epoch 197: saving model to model/keypoint_classifier\\keypoint_classifier.hdf5\n",
      "42/42 [==============================] - 0s 1ms/step - loss: 0.1316 - accuracy: 0.9415 - val_loss: 0.0235 - val_accuracy: 0.9961\n",
      "Epoch 198/1000\n",
      " 1/42 [..............................] - ETA: 0s - loss: 0.1299 - accuracy: 0.9297\n",
      "Epoch 198: saving model to model/keypoint_classifier\\keypoint_classifier.hdf5\n",
      "42/42 [==============================] - 0s 3ms/step - loss: 0.1345 - accuracy: 0.9430 - val_loss: 0.0265 - val_accuracy: 0.9961\n",
      "Epoch 199/1000\n",
      " 1/42 [..............................] - ETA: 0s - loss: 0.1602 - accuracy: 0.9219\n",
      "Epoch 199: saving model to model/keypoint_classifier\\keypoint_classifier.hdf5\n",
      "42/42 [==============================] - 0s 1ms/step - loss: 0.1209 - accuracy: 0.9503 - val_loss: 0.0295 - val_accuracy: 0.9972\n",
      "Epoch 200/1000\n",
      " 1/42 [..............................] - ETA: 0s - loss: 0.1477 - accuracy: 0.9453\n",
      "Epoch 200: saving model to model/keypoint_classifier\\keypoint_classifier.hdf5\n",
      "42/42 [==============================] - 0s 1ms/step - loss: 0.1257 - accuracy: 0.9476 - val_loss: 0.0244 - val_accuracy: 0.9977\n",
      "Epoch 200: early stopping\n"
     ]
    },
    {
     "data": {
      "text/plain": [
       "<keras.src.callbacks.History at 0x23aa856c430>"
      ]
     },
     "execution_count": 11,
     "metadata": {},
     "output_type": "execute_result"
    }
   ],
   "source": [
    "model.fit(\n",
    "    X_train,\n",
    "    y_train,\n",
    "    epochs=1000,\n",
    "    batch_size=128,\n",
    "    validation_data=(X_test, y_test),\n",
    "    callbacks=[cp_callback, es_callback]\n",
    ")"
   ]
  },
  {
   "cell_type": "code",
   "execution_count": 12,
   "metadata": {
    "colab": {
     "base_uri": "https://localhost:8080/"
    },
    "id": "pxvb2Y299hE3",
    "outputId": "59eb3185-2e37-4b9e-bc9d-ab1b8ac29b7f"
   },
   "outputs": [
    {
     "name": "stdout",
     "output_type": "stream",
     "text": [
      "14/14 [==============================] - 0s 615us/step - loss: 0.0244 - accuracy: 0.9977\n"
     ]
    }
   ],
   "source": [
    "# Model evaluation\n",
    "val_loss, val_acc = model.evaluate(X_test, y_test, batch_size=128)"
   ]
  },
  {
   "cell_type": "code",
   "execution_count": 13,
   "metadata": {
    "id": "RBkmDeUW9hE4"
   },
   "outputs": [],
   "source": [
    "# Loading the saved model\n",
    "model = tf.keras.models.load_model(model_save_path)"
   ]
  },
  {
   "cell_type": "code",
   "execution_count": 14,
   "metadata": {
    "colab": {
     "base_uri": "https://localhost:8080/"
    },
    "id": "tFz9Tb0I9hE4",
    "outputId": "1c3b3528-54ae-4ee2-ab04-77429211cbef"
   },
   "outputs": [
    {
     "name": "stdout",
     "output_type": "stream",
     "text": [
      "1/1 [==============================] - 0s 37ms/step\n",
      "[2.5679214e-10 2.1149492e-19 2.7758738e-11 4.2567407e-14 4.9021048e-04\n",
      " 9.9950981e-01]\n",
      "5\n"
     ]
    }
   ],
   "source": [
    "# Inference test\n",
    "predict_result = model.predict(np.array([X_test[0]]))\n",
    "print(np.squeeze(predict_result))\n",
    "print(np.argmax(np.squeeze(predict_result)))"
   ]
  },
  {
   "cell_type": "markdown",
   "metadata": {
    "id": "S3U4yNWx9hE4"
   },
   "source": [
    "# Confusion matrix"
   ]
  },
  {
   "cell_type": "code",
   "execution_count": 15,
   "metadata": {
    "colab": {
     "base_uri": "https://localhost:8080/",
     "height": 582
    },
    "id": "AP1V6SCk9hE5",
    "outputId": "08e41a80-7a4a-4619-8125-ecc371368d19"
   },
   "outputs": [
    {
     "name": "stdout",
     "output_type": "stream",
     "text": [
      "56/56 [==============================] - 0s 364us/step\n"
     ]
    },
    {
     "data": {
      "image/png": "[encoded data removed]",
      "text/plain": [
       "<Figure size 700x600 with 2 Axes>"
      ]
     },
     "metadata": {},
     "output_type": "display_data"
    },
    {
     "name": "stdout",
     "output_type": "stream",
     "text": [
      "Classification Report\n",
      "              precision    recall  f1-score   support\n",
      "\n",
      "           0       1.00      1.00      1.00       392\n",
      "           1       1.00      1.00      1.00       286\n",
      "           2       1.00      1.00      1.00       260\n",
      "           3       1.00      1.00      1.00       270\n",
      "           4       0.99      1.00      0.99       279\n",
      "           5       1.00      0.99      0.99       290\n",
      "\n",
      "    accuracy                           1.00      1777\n",
      "   macro avg       1.00      1.00      1.00      1777\n",
      "weighted avg       1.00      1.00      1.00      1777\n",
      "\n"
     ]
    }
   ],
   "source": [
    "import pandas as pd\n",
    "import seaborn as sns\n",
    "import matplotlib.pyplot as plt\n",
    "from sklearn.metrics import confusion_matrix, classification_report\n",
    "\n",
    "def print_confusion_matrix(y_true, y_pred, report=True):\n",
    "    labels = sorted(list(set(y_true)))\n",
    "    cmx_data = confusion_matrix(y_true, y_pred, labels=labels)\n",
    "    \n",
    "    df_cmx = pd.DataFrame(cmx_data, index=labels, columns=labels)\n",
    " \n",
    "    fig, ax = plt.subplots(figsize=(7, 6))\n",
    "    sns.heatmap(df_cmx, annot=True, fmt='g' ,square=False)\n",
    "    ax.set_ylim(len(set(y_true)), 0)\n",
    "    plt.show()\n",
    "    \n",
    "    if report:\n",
    "        print('Classification Report')\n",
    "        print(classification_report(y_test, y_pred))\n",
    "\n",
    "Y_pred = model.predict(X_test)\n",
    "y_pred = np.argmax(Y_pred, axis=1)\n",
    "\n",
    "print_confusion_matrix(y_test, y_pred)"
   ]
  },
  {
   "cell_type": "markdown",
   "metadata": {
    "id": "FNP6aqzc9hE5"
   },
   "source": [
    "# Convert to model for Tensorflow-Lite"
   ]
  },
  {
   "cell_type": "code",
   "execution_count": 16,
   "metadata": {
    "id": "ODjnYyld9hE6"
   },
   "outputs": [
    {
     "name": "stderr",
     "output_type": "stream",
     "text": [
      "E:\\Pycharm\\NLN\\venv\\lib\\site-packages\\keras\\src\\engine\\training.py:3000: UserWarning: You are saving your model as an HDF5 file via `model.save()`. This file format is considered legacy. We recommend using instead the native Keras format, e.g. `model.save('my_model.keras')`.\n",
      "  saving_api.save_model(\n"
     ]
    }
   ],
   "source": [
    "# Save as a model dedicated to inference\n",
    "model.save(model_save_path, include_optimizer=False)"
   ]
  },
  {
   "cell_type": "code",
   "execution_count": 17,
   "metadata": {
    "colab": {
     "base_uri": "https://localhost:8080/"
    },
    "id": "zRfuK8Y59hE6",
    "outputId": "a4ca585c-b5d5-4244-8291-8674063209bb"
   },
   "outputs": [
    {
     "name": "stdout",
     "output_type": "stream",
     "text": [
      "INFO:tensorflow:Assets written to: C:\\Users\\Admin\\AppData\\Local\\Temp\\tmp7o5rq1m9\\assets\n"
     ]
    },
    {
     "name": "stderr",
     "output_type": "stream",
     "text": [
      "INFO:tensorflow:Assets written to: C:\\Users\\Admin\\AppData\\Local\\Temp\\tmp7o5rq1m9\\assets\n"
     ]
    },
    {
     "data": {
      "text/plain": [
       "6632"
      ]
     },
     "execution_count": 17,
     "metadata": {},
     "output_type": "execute_result"
    }
   ],
   "source": [
    "# Transform model (quantization)\n",
    "\n",
    "converter = tf.lite.TFLiteConverter.from_keras_model(model)\n",
    "converter.optimizations = [tf.lite.Optimize.DEFAULT]\n",
    "tflite_quantized_model = converter.convert()\n",
    "\n",
    "open(tflite_save_path, 'wb').write(tflite_quantized_model)"
   ]
  },
  {
   "cell_type": "markdown",
   "metadata": {
    "id": "CHBPBXdx9hE6"
   },
   "source": [
    "# Inference test"
   ]
  },
  {
   "cell_type": "code",
   "execution_count": 18,
   "metadata": {
    "id": "mGAzLocO9hE7"
   },
   "outputs": [],
   "source": [
    "interpreter = tf.lite.Interpreter(model_path=tflite_save_path)\n",
    "interpreter.allocate_tensors()"
   ]
  },
  {
   "cell_type": "code",
   "execution_count": 19,
   "metadata": {
    "id": "oQuDK8YS9hE7"
   },
   "outputs": [],
   "source": [
    "# Get I / O tensor\n",
    "input_details = interpreter.get_input_details()\n",
    "output_details = interpreter.get_output_details()"
   ]
  },
  {
   "cell_type": "code",
   "execution_count": 20,
   "metadata": {
    "id": "2_ixAf_l9hE7"
   },
   "outputs": [],
   "source": [
    "interpreter.set_tensor(input_details[0]['index'], np.array([X_test[0]]))"
   ]
  },
  {
   "cell_type": "code",
   "execution_count": 21,
   "metadata": {
    "colab": {
     "base_uri": "https://localhost:8080/"
    },
    "id": "s4FoAnuc9hE7",
    "outputId": "91f18257-8d8b-4ef3-c558-e9b5f94fabbf",
    "scrolled": true
   },
   "outputs": [
    {
     "name": "stdout",
     "output_type": "stream",
     "text": [
      "CPU times: total: 0 ns\n",
      "Wall time: 0 ns\n"
     ]
    }
   ],
   "source": [
    "%%time\n",
    "# Inference implementation\n",
    "interpreter.invoke()\n",
    "tflite_results = interpreter.get_tensor(output_details[0]['index'])"
   ]
  },
  {
   "cell_type": "code",
   "execution_count": 22,
   "metadata": {
    "colab": {
     "base_uri": "https://localhost:8080/"
    },
    "id": "vONjp19J9hE8",
    "outputId": "77205e24-fd00-42c4-f7b6-e06e527c2cba"
   },
   "outputs": [
    {
     "name": "stdout",
     "output_type": "stream",
     "text": [
      "[2.5679309e-10 2.1149332e-19 2.7758632e-11 4.2567332e-14 4.9021072e-04\n",
      " 9.9950981e-01]\n",
      "5\n"
     ]
    }
   ],
   "source": [
    "print(np.squeeze(tflite_results))\n",
    "print(np.argmax(np.squeeze(tflite_results)))"
   ]
  }
 ],
 "metadata": {
  "accelerator": "GPU",
  "colab": {
   "collapsed_sections": [],
   "name": "keypoint_classification_EN.ipynb",
   "provenance": [],
   "toc_visible": true
  },
  "kernelspec": {
   "display_name": "Python 3 (ipykernel)",
   "language": "python",
   "name": "python3"
  },
  "language_info": {
   "codemirror_mode": {
    "name": "ipython",
    "version": 3
   },
   "file_extension": ".py",
   "mimetype": "text/x-python",
   "name": "python",
   "nbconvert_exporter": "python",
   "pygments_lexer": "ipython3",
   "version": "3.9.6"
  }
 },
 "nbformat": 4,
 "nbformat_minor": 4
}
