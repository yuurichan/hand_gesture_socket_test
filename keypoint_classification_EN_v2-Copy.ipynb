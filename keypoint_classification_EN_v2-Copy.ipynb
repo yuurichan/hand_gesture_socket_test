{
 "cells": [
  {
   "cell_type": "code",
   "execution_count": 1,
   "metadata": {
    "id": "igMyGnjE9hEp"
   },
   "outputs": [],
   "source": [
    "import csv\n",
    "\n",
    "import numpy as np\n",
    "import tensorflow as tf\n",
    "from sklearn.model_selection import train_test_split\n",
    "\n",
    "RANDOM_SEED = 42"
   ]
  },
  {
   "cell_type": "code",
   "execution_count": 2,
   "metadata": {},
   "outputs": [
    {
     "data": {
      "text/plain": [
       "'2.13.0'"
      ]
     },
     "execution_count": 2,
     "metadata": {},
     "output_type": "execute_result"
    }
   ],
   "source": [
    "tf.__version__"
   ]
  },
  {
   "cell_type": "markdown",
   "metadata": {
    "id": "t2HDvhIu9hEr"
   },
   "source": [
    "# Specify each path"
   ]
  },
  {
   "cell_type": "code",
   "execution_count": 3,
   "metadata": {
    "id": "9NvZP2Zn9hEy"
   },
   "outputs": [],
   "source": [
    "dataset = 'model/keypoint_classifier/keypoint.csv'\n",
    "testset = 'model/keypoint_classifier/keypoint_test.csv'\n",
    "model_save_path = 'model/keypoint_classifier/keypoint_classifier.keras'\n",
    "tflite_save_path = 'model/keypoint_classifier/keypoint_classifier.tflite'"
   ]
  },
  {
   "cell_type": "markdown",
   "metadata": {
    "id": "s5oMH7x19hEz"
   },
   "source": [
    "# Set number of classes"
   ]
  },
  {
   "cell_type": "code",
   "execution_count": 4,
   "metadata": {
    "id": "du4kodXL9hEz"
   },
   "outputs": [],
   "source": [
    "NUM_CLASSES = 10"
   ]
  },
  {
   "cell_type": "markdown",
   "metadata": {
    "id": "XjnL0uso9hEz"
   },
   "source": [
    "# Dataset reading\n"
   ]
  },
  {
   "cell_type": "markdown",
   "metadata": {},
   "source": [
    "## Giá trị của dữ liệu"
   ]
  },
  {
   "cell_type": "code",
   "execution_count": 5,
   "metadata": {
    "id": "QT5ZqtEz9hE0"
   },
   "outputs": [],
   "source": [
    "X_dataset = np.loadtxt(dataset, delimiter=',', dtype='float32', usecols=list(range(1, (21 * 2) + 1)))"
   ]
  },
  {
   "cell_type": "markdown",
   "metadata": {},
   "source": [
    "## Nhãn của dữ liệu"
   ]
  },
  {
   "cell_type": "code",
   "execution_count": 6,
   "metadata": {
    "id": "QmoKFsp49hE0"
   },
   "outputs": [],
   "source": [
    "y_dataset = np.loadtxt(dataset, delimiter=',', dtype='int32', usecols=(0))"
   ]
  },
  {
   "cell_type": "markdown",
   "metadata": {},
   "source": [
    "## Dữ liệu test"
   ]
  },
  {
   "cell_type": "code",
   "execution_count": 7,
   "metadata": {},
   "outputs": [],
   "source": [
    "#X_unseen = np.loadtxt(testset, delimiter=',', dtype='float32', usecols=list(range(1, (21 * 2) + 1)))"
   ]
  },
  {
   "cell_type": "code",
   "execution_count": 8,
   "metadata": {},
   "outputs": [],
   "source": [
    "#y_unseen = np.loadtxt(testset, delimiter=',', dtype='int32', usecols=(0))"
   ]
  },
  {
   "cell_type": "markdown",
   "metadata": {},
   "source": [
    "## Chia tập dữ liệu"
   ]
  },
  {
   "cell_type": "code",
   "execution_count": 9,
   "metadata": {
    "id": "xQU7JTZ_9hE0"
   },
   "outputs": [],
   "source": [
    "X_train, X_test, y_train, y_test = train_test_split(X_dataset, y_dataset, train_size=0.9, random_state=RANDOM_SEED)\n",
    "X_train, X_val, y_train, y_val = train_test_split(X_dataset, y_dataset, train_size=0.8, random_state=RANDOM_SEED)"
   ]
  },
  {
   "cell_type": "markdown",
   "metadata": {
    "id": "mxK_lETT9hE0"
   },
   "source": [
    "# Model building"
   ]
  },
  {
   "cell_type": "code",
   "execution_count": 10,
   "metadata": {
    "id": "vHBmUf1t9hE1"
   },
   "outputs": [],
   "source": [
    "model = tf.keras.models.Sequential([\n",
    "    tf.keras.layers.Input((21 * 2, )),\n",
    "    tf.keras.layers.Dropout(0.2),\n",
    "    tf.keras.layers.Dense(20, activation='relu'),\n",
    "    tf.keras.layers.Dropout(0.4),\n",
    "    tf.keras.layers.Dense(10, activation='relu'),\n",
    "    tf.keras.layers.Dense(NUM_CLASSES, activation='softmax')\n",
    "])"
   ]
  },
  {
   "cell_type": "code",
   "execution_count": 11,
   "metadata": {
    "colab": {
     "base_uri": "https://localhost:8080/"
    },
    "id": "ypqky9tc9hE1",
    "outputId": "5db082bb-30e3-4110-bf63-a1ee777ecd46"
   },
   "outputs": [
    {
     "name": "stdout",
     "output_type": "stream",
     "text": [
      "Model: \"sequential\"\n",
      "_________________________________________________________________\n",
      " Layer (type)                Output Shape              Param #   \n",
      "=================================================================\n",
      " dropout (Dropout)           (None, 42)                0         \n",
      "                                                                 \n",
      " dense (Dense)               (None, 20)                860       \n",
      "                                                                 \n",
      " dropout_1 (Dropout)         (None, 20)                0         \n",
      "                                                                 \n",
      " dense_1 (Dense)             (None, 10)                210       \n",
      "                                                                 \n",
      " dense_2 (Dense)             (None, 10)                110       \n",
      "                                                                 \n",
      "=================================================================\n",
      "Total params: 1180 (4.61 KB)\n",
      "Trainable params: 1180 (4.61 KB)\n",
      "Non-trainable params: 0 (0.00 Byte)\n",
      "_________________________________________________________________\n"
     ]
    }
   ],
   "source": [
    "model.summary()  # tf.keras.utils.plot_model(model, show_shapes=True)"
   ]
  },
  {
   "cell_type": "code",
   "execution_count": 12,
   "metadata": {
    "id": "MbMjOflQ9hE1"
   },
   "outputs": [],
   "source": [
    "# Model checkpoint callback\n",
    "cp_callback = tf.keras.callbacks.ModelCheckpoint(\n",
    "    model_save_path, verbose=1, save_weights_only=False)\n",
    "# Callback for early stopping\n",
    "es_callback = tf.keras.callbacks.EarlyStopping(patience=20, verbose=1)"
   ]
  },
  {
   "cell_type": "code",
   "execution_count": 13,
   "metadata": {
    "id": "c3Dac0M_9hE2"
   },
   "outputs": [],
   "source": [
    "# Model compilation\n",
    "model.compile(\n",
    "    optimizer='adam',\n",
    "    loss='sparse_categorical_crossentropy',\n",
    "    metrics=['accuracy']\n",
    ")"
   ]
  },
  {
   "cell_type": "markdown",
   "metadata": {
    "id": "7XI0j1Iu9hE2"
   },
   "source": [
    "# Model training"
   ]
  },
  {
   "cell_type": "code",
   "execution_count": 14,
   "metadata": {
    "colab": {
     "base_uri": "https://localhost:8080/"
    },
    "id": "WirBl-JE9hE3",
    "outputId": "71b30ca2-8294-4d9d-8aa2-800d90d399de",
    "scrolled": true
   },
   "outputs": [
    {
     "name": "stdout",
     "output_type": "stream",
     "text": [
      "Epoch 1/1000\n",
      "76/80 [===========================>..] - ETA: 0s - loss: 2.1073 - accuracy: 0.2324 \n",
      "Epoch 1: saving model to model/keypoint_classifier\\keypoint_classifier.keras\n",
      "80/80 [==============================] - 0s 2ms/step - loss: 2.0941 - accuracy: 0.2371 - val_loss: 1.7126 - val_accuracy: 0.3928\n",
      "Epoch 2/1000\n",
      " 1/80 [..............................] - ETA: 0s - loss: 1.8279 - accuracy: 0.3672\n",
      "Epoch 2: saving model to model/keypoint_classifier\\keypoint_classifier.keras\n",
      "80/80 [==============================] - 0s 1ms/step - loss: 1.6127 - accuracy: 0.3916 - val_loss: 1.2375 - val_accuracy: 0.5695\n",
      "Epoch 3/1000\n",
      " 1/80 [..............................] - ETA: 0s - loss: 1.4293 - accuracy: 0.5078\n",
      "Epoch 3: saving model to model/keypoint_classifier\\keypoint_classifier.keras\n",
      "80/80 [==============================] - 0s 1ms/step - loss: 1.2938 - accuracy: 0.5189 - val_loss: 0.9072 - val_accuracy: 0.8201\n",
      "Epoch 4/1000\n",
      " 1/80 [..............................] - ETA: 0s - loss: 1.2377 - accuracy: 0.5156\n",
      "Epoch 4: saving model to model/keypoint_classifier\\keypoint_classifier.keras\n",
      "80/80 [==============================] - 0s 1000us/step - loss: 1.0683 - accuracy: 0.5965 - val_loss: 0.6979 - val_accuracy: 0.8586\n",
      "Epoch 5/1000\n",
      " 1/80 [..............................] - ETA: 0s - loss: 0.9188 - accuracy: 0.6406\n",
      "Epoch 5: saving model to model/keypoint_classifier\\keypoint_classifier.keras\n",
      "80/80 [==============================] - 0s 1000us/step - loss: 0.9413 - accuracy: 0.6364 - val_loss: 0.5772 - val_accuracy: 0.8539\n",
      "Epoch 6/1000\n",
      " 1/80 [..............................] - ETA: 0s - loss: 0.9429 - accuracy: 0.6016\n",
      "Epoch 6: saving model to model/keypoint_classifier\\keypoint_classifier.keras\n",
      "80/80 [==============================] - 0s 987us/step - loss: 0.8453 - accuracy: 0.6641 - val_loss: 0.5019 - val_accuracy: 0.8747\n",
      "Epoch 7/1000\n",
      " 1/80 [..............................] - ETA: 0s - loss: 0.8206 - accuracy: 0.7266\n",
      "Epoch 7: saving model to model/keypoint_classifier\\keypoint_classifier.keras\n",
      "80/80 [==============================] - 0s 987us/step - loss: 0.7908 - accuracy: 0.6942 - val_loss: 0.4423 - val_accuracy: 0.8755\n",
      "Epoch 8/1000\n",
      "80/80 [==============================] - ETA: 0s - loss: 0.7453 - accuracy: 0.7158\n",
      "Epoch 8: saving model to model/keypoint_classifier\\keypoint_classifier.keras\n",
      "80/80 [==============================] - 0s 1ms/step - loss: 0.7453 - accuracy: 0.7158 - val_loss: 0.3986 - val_accuracy: 0.8826\n",
      "Epoch 9/1000\n",
      " 1/80 [..............................] - ETA: 0s - loss: 0.6567 - accuracy: 0.7578\n",
      "Epoch 9: saving model to model/keypoint_classifier\\keypoint_classifier.keras\n",
      "80/80 [==============================] - 0s 1000us/step - loss: 0.7053 - accuracy: 0.7279 - val_loss: 0.3637 - val_accuracy: 0.9046\n",
      "Epoch 10/1000\n",
      " 1/80 [..............................] - ETA: 0s - loss: 0.6776 - accuracy: 0.7188\n",
      "Epoch 10: saving model to model/keypoint_classifier\\keypoint_classifier.keras\n",
      "80/80 [==============================] - 0s 995us/step - loss: 0.6745 - accuracy: 0.7385 - val_loss: 0.3375 - val_accuracy: 0.8947\n",
      "Epoch 11/1000\n",
      " 1/80 [..............................] - ETA: 0s - loss: 0.6078 - accuracy: 0.7578\n",
      "Epoch 11: saving model to model/keypoint_classifier\\keypoint_classifier.keras\n",
      "80/80 [==============================] - 0s 1ms/step - loss: 0.6322 - accuracy: 0.7535 - val_loss: 0.3127 - val_accuracy: 0.9069\n",
      "Epoch 12/1000\n",
      " 1/80 [..............................] - ETA: 0s - loss: 0.6090 - accuracy: 0.7969\n",
      "Epoch 12: saving model to model/keypoint_classifier\\keypoint_classifier.keras\n",
      "80/80 [==============================] - 0s 995us/step - loss: 0.6104 - accuracy: 0.7579 - val_loss: 0.2903 - val_accuracy: 0.9152\n",
      "Epoch 13/1000\n",
      " 1/80 [..............................] - ETA: 0s - loss: 0.6319 - accuracy: 0.7734\n",
      "Epoch 13: saving model to model/keypoint_classifier\\keypoint_classifier.keras\n",
      "80/80 [==============================] - 0s 991us/step - loss: 0.5845 - accuracy: 0.7711 - val_loss: 0.2783 - val_accuracy: 0.9156\n",
      "Epoch 14/1000\n",
      " 1/80 [..............................] - ETA: 0s - loss: 0.5361 - accuracy: 0.7500\n",
      "Epoch 14: saving model to model/keypoint_classifier\\keypoint_classifier.keras\n",
      "80/80 [==============================] - 0s 1ms/step - loss: 0.5644 - accuracy: 0.7744 - val_loss: 0.2651 - val_accuracy: 0.9077\n",
      "Epoch 15/1000\n",
      " 1/80 [..............................] - ETA: 0s - loss: 0.4675 - accuracy: 0.8516\n",
      "Epoch 15: saving model to model/keypoint_classifier\\keypoint_classifier.keras\n",
      "80/80 [==============================] - 0s 994us/step - loss: 0.5609 - accuracy: 0.7789 - val_loss: 0.2487 - val_accuracy: 0.9179\n",
      "Epoch 16/1000\n",
      " 1/80 [..............................] - ETA: 0s - loss: 0.4604 - accuracy: 0.8281\n",
      "Epoch 16: saving model to model/keypoint_classifier\\keypoint_classifier.keras\n",
      "80/80 [==============================] - 0s 995us/step - loss: 0.5358 - accuracy: 0.7843 - val_loss: 0.2441 - val_accuracy: 0.9116\n",
      "Epoch 17/1000\n",
      "77/80 [===========================>..] - ETA: 0s - loss: 0.5115 - accuracy: 0.7989\n",
      "Epoch 17: saving model to model/keypoint_classifier\\keypoint_classifier.keras\n",
      "80/80 [==============================] - 0s 1ms/step - loss: 0.5120 - accuracy: 0.7991 - val_loss: 0.2370 - val_accuracy: 0.9159\n",
      "Epoch 18/1000\n",
      "80/80 [==============================] - ETA: 0s - loss: 0.5116 - accuracy: 0.7962\n",
      "Epoch 18: saving model to model/keypoint_classifier\\keypoint_classifier.keras\n",
      "80/80 [==============================] - 0s 1ms/step - loss: 0.5116 - accuracy: 0.7962 - val_loss: 0.2290 - val_accuracy: 0.9183\n",
      "Epoch 19/1000\n",
      " 1/80 [..............................] - ETA: 0s - loss: 0.5038 - accuracy: 0.8203\n",
      "Epoch 19: saving model to model/keypoint_classifier\\keypoint_classifier.keras\n",
      "80/80 [==============================] - 0s 1ms/step - loss: 0.4920 - accuracy: 0.8035 - val_loss: 0.2175 - val_accuracy: 0.9211\n",
      "Epoch 20/1000\n",
      " 1/80 [..............................] - ETA: 0s - loss: 0.3781 - accuracy: 0.8438\n",
      "Epoch 20: saving model to model/keypoint_classifier\\keypoint_classifier.keras\n",
      "80/80 [==============================] - 0s 1ms/step - loss: 0.4899 - accuracy: 0.7969 - val_loss: 0.2175 - val_accuracy: 0.9167\n",
      "Epoch 21/1000\n",
      " 1/80 [..............................] - ETA: 0s - loss: 0.4676 - accuracy: 0.7812\n",
      "Epoch 21: saving model to model/keypoint_classifier\\keypoint_classifier.keras\n",
      "80/80 [==============================] - 0s 1ms/step - loss: 0.4841 - accuracy: 0.8080 - val_loss: 0.2072 - val_accuracy: 0.9222\n",
      "Epoch 22/1000\n",
      "79/80 [============================>.] - ETA: 0s - loss: 0.4703 - accuracy: 0.8092\n",
      "Epoch 22: saving model to model/keypoint_classifier\\keypoint_classifier.keras\n",
      "80/80 [==============================] - 0s 1ms/step - loss: 0.4701 - accuracy: 0.8095 - val_loss: 0.2070 - val_accuracy: 0.9179\n",
      "Epoch 23/1000\n",
      " 1/80 [..............................] - ETA: 0s - loss: 0.5380 - accuracy: 0.7578\n",
      "Epoch 23: saving model to model/keypoint_classifier\\keypoint_classifier.keras\n",
      "80/80 [==============================] - 0s 1ms/step - loss: 0.4614 - accuracy: 0.8098 - val_loss: 0.2014 - val_accuracy: 0.9207\n",
      "Epoch 24/1000\n",
      " 1/80 [..............................] - ETA: 0s - loss: 0.4112 - accuracy: 0.8281\n",
      "Epoch 24: saving model to model/keypoint_classifier\\keypoint_classifier.keras\n",
      "80/80 [==============================] - 0s 983us/step - loss: 0.4553 - accuracy: 0.8154 - val_loss: 0.1946 - val_accuracy: 0.9207\n",
      "Epoch 25/1000\n",
      " 1/80 [..............................] - ETA: 0s - loss: 0.4213 - accuracy: 0.8281\n",
      "Epoch 25: saving model to model/keypoint_classifier\\keypoint_classifier.keras\n",
      "80/80 [==============================] - 0s 995us/step - loss: 0.4495 - accuracy: 0.8152 - val_loss: 0.1973 - val_accuracy: 0.9163\n",
      "Epoch 26/1000\n",
      " 1/80 [..............................] - ETA: 0s - loss: 0.4326 - accuracy: 0.7969\n",
      "Epoch 26: saving model to model/keypoint_classifier\\keypoint_classifier.keras\n",
      "80/80 [==============================] - 0s 1000us/step - loss: 0.4423 - accuracy: 0.8176 - val_loss: 0.1864 - val_accuracy: 0.9214\n",
      "Epoch 27/1000\n",
      " 1/80 [..............................] - ETA: 0s - loss: 0.4087 - accuracy: 0.8594\n",
      "Epoch 27: saving model to model/keypoint_classifier\\keypoint_classifier.keras\n",
      "80/80 [==============================] - 0s 1ms/step - loss: 0.4419 - accuracy: 0.8190 - val_loss: 0.1875 - val_accuracy: 0.9199\n",
      "Epoch 28/1000\n",
      " 1/80 [..............................] - ETA: 0s - loss: 0.3409 - accuracy: 0.8438\n",
      "Epoch 28: saving model to model/keypoint_classifier\\keypoint_classifier.keras\n",
      "80/80 [==============================] - 0s 987us/step - loss: 0.4290 - accuracy: 0.8212 - val_loss: 0.1805 - val_accuracy: 0.9214\n",
      "Epoch 29/1000\n",
      " 1/80 [..............................] - ETA: 0s - loss: 0.4299 - accuracy: 0.8438\n",
      "Epoch 29: saving model to model/keypoint_classifier\\keypoint_classifier.keras\n",
      "80/80 [==============================] - 0s 990us/step - loss: 0.4216 - accuracy: 0.8274 - val_loss: 0.1723 - val_accuracy: 0.9246\n",
      "Epoch 30/1000\n",
      "75/80 [===========================>..] - ETA: 0s - loss: 0.4085 - accuracy: 0.8275\n",
      "Epoch 30: saving model to model/keypoint_classifier\\keypoint_classifier.keras\n",
      "80/80 [==============================] - 0s 1ms/step - loss: 0.4126 - accuracy: 0.8264 - val_loss: 0.1766 - val_accuracy: 0.9199\n",
      "Epoch 31/1000\n",
      " 1/80 [..............................] - ETA: 0s - loss: 0.4533 - accuracy: 0.7734\n",
      "Epoch 31: saving model to model/keypoint_classifier\\keypoint_classifier.keras\n",
      "80/80 [==============================] - 0s 1ms/step - loss: 0.4155 - accuracy: 0.8323 - val_loss: 0.1688 - val_accuracy: 0.9246\n",
      "Epoch 32/1000\n",
      " 1/80 [..............................] - ETA: 0s - loss: 0.4016 - accuracy: 0.8281\n",
      "Epoch 32: saving model to model/keypoint_classifier\\keypoint_classifier.keras\n",
      "80/80 [==============================] - 0s 995us/step - loss: 0.4070 - accuracy: 0.8320 - val_loss: 0.1681 - val_accuracy: 0.9262\n",
      "Epoch 33/1000\n",
      " 1/80 [..............................] - ETA: 0s - loss: 0.3648 - accuracy: 0.8750\n",
      "Epoch 33: saving model to model/keypoint_classifier\\keypoint_classifier.keras\n",
      "80/80 [==============================] - 0s 987us/step - loss: 0.4147 - accuracy: 0.8333 - val_loss: 0.1626 - val_accuracy: 0.9277\n",
      "Epoch 34/1000\n",
      " 1/80 [..............................] - ETA: 0s - loss: 0.3498 - accuracy: 0.8672\n",
      "Epoch 34: saving model to model/keypoint_classifier\\keypoint_classifier.keras\n",
      "80/80 [==============================] - 0s 1ms/step - loss: 0.4113 - accuracy: 0.8341 - val_loss: 0.1626 - val_accuracy: 0.9277\n",
      "Epoch 35/1000\n",
      "80/80 [==============================] - ETA: 0s - loss: 0.4029 - accuracy: 0.8379\n",
      "Epoch 35: saving model to model/keypoint_classifier\\keypoint_classifier.keras\n",
      "80/80 [==============================] - 0s 1ms/step - loss: 0.4029 - accuracy: 0.8379 - val_loss: 0.1591 - val_accuracy: 0.9293\n",
      "Epoch 36/1000\n",
      " 1/80 [..............................] - ETA: 0s - loss: 0.5408 - accuracy: 0.7891\n",
      "Epoch 36: saving model to model/keypoint_classifier\\keypoint_classifier.keras\n",
      "80/80 [==============================] - 0s 1ms/step - loss: 0.3922 - accuracy: 0.8373 - val_loss: 0.1559 - val_accuracy: 0.9313\n",
      "Epoch 37/1000\n",
      " 1/80 [..............................] - ETA: 0s - loss: 0.4738 - accuracy: 0.7812\n",
      "Epoch 37: saving model to model/keypoint_classifier\\keypoint_classifier.keras\n",
      "80/80 [==============================] - 0s 1ms/step - loss: 0.3925 - accuracy: 0.8419 - val_loss: 0.1550 - val_accuracy: 0.9332\n",
      "Epoch 38/1000\n",
      "79/80 [============================>.] - ETA: 0s - loss: 0.3819 - accuracy: 0.8449\n",
      "Epoch 38: saving model to model/keypoint_classifier\\keypoint_classifier.keras\n",
      "80/80 [==============================] - 0s 1ms/step - loss: 0.3824 - accuracy: 0.8444 - val_loss: 0.1510 - val_accuracy: 0.9407\n",
      "Epoch 39/1000\n",
      " 1/80 [..............................] - ETA: 0s - loss: 0.3985 - accuracy: 0.8359\n",
      "Epoch 39: saving model to model/keypoint_classifier\\keypoint_classifier.keras\n",
      "80/80 [==============================] - 0s 1ms/step - loss: 0.3883 - accuracy: 0.8442 - val_loss: 0.1483 - val_accuracy: 0.9340\n",
      "Epoch 40/1000\n",
      " 1/80 [..............................] - ETA: 0s - loss: 0.3705 - accuracy: 0.8516\n",
      "Epoch 40: saving model to model/keypoint_classifier\\keypoint_classifier.keras\n",
      "80/80 [==============================] - 0s 1000us/step - loss: 0.3861 - accuracy: 0.8428 - val_loss: 0.1536 - val_accuracy: 0.9281\n",
      "Epoch 41/1000\n",
      " 1/80 [..............................] - ETA: 0s - loss: 0.3713 - accuracy: 0.8750\n",
      "Epoch 41: saving model to model/keypoint_classifier\\keypoint_classifier.keras\n",
      "80/80 [==============================] - 0s 982us/step - loss: 0.3770 - accuracy: 0.8444 - val_loss: 0.1472 - val_accuracy: 0.9352\n",
      "Epoch 42/1000\n",
      " 1/80 [..............................] - ETA: 0s - loss: 0.3801 - accuracy: 0.8047\n",
      "Epoch 42: saving model to model/keypoint_classifier\\keypoint_classifier.keras\n",
      "80/80 [==============================] - 0s 1ms/step - loss: 0.3716 - accuracy: 0.8486 - val_loss: 0.1431 - val_accuracy: 0.9438\n",
      "Epoch 43/1000\n",
      "77/80 [===========================>..] - ETA: 0s - loss: 0.3676 - accuracy: 0.8499\n",
      "Epoch 43: saving model to model/keypoint_classifier\\keypoint_classifier.keras\n",
      "80/80 [==============================] - 0s 1ms/step - loss: 0.3675 - accuracy: 0.8507 - val_loss: 0.1431 - val_accuracy: 0.9434\n",
      "Epoch 44/1000\n",
      "80/80 [==============================] - ETA: 0s - loss: 0.3746 - accuracy: 0.8493\n",
      "Epoch 44: saving model to model/keypoint_classifier\\keypoint_classifier.keras\n",
      "80/80 [==============================] - 0s 1ms/step - loss: 0.3746 - accuracy: 0.8493 - val_loss: 0.1412 - val_accuracy: 0.9442\n",
      "Epoch 45/1000\n",
      " 1/80 [..............................] - ETA: 0s - loss: 0.4523 - accuracy: 0.7891\n",
      "Epoch 45: saving model to model/keypoint_classifier\\keypoint_classifier.keras\n",
      "80/80 [==============================] - 0s 1ms/step - loss: 0.3617 - accuracy: 0.8570 - val_loss: 0.1407 - val_accuracy: 0.9313\n",
      "Epoch 46/1000\n",
      " 1/80 [..............................] - ETA: 0s - loss: 0.4538 - accuracy: 0.8359\n",
      "Epoch 46: saving model to model/keypoint_classifier\\keypoint_classifier.keras\n",
      "80/80 [==============================] - 0s 990us/step - loss: 0.3613 - accuracy: 0.8555 - val_loss: 0.1356 - val_accuracy: 0.9462\n",
      "Epoch 47/1000\n",
      " 1/80 [..............................] - ETA: 0s - loss: 0.3904 - accuracy: 0.8203\n",
      "Epoch 47: saving model to model/keypoint_classifier\\keypoint_classifier.keras\n",
      "80/80 [==============================] - 0s 987us/step - loss: 0.3638 - accuracy: 0.8528 - val_loss: 0.1344 - val_accuracy: 0.9348\n",
      "Epoch 48/1000\n",
      " 1/80 [..............................] - ETA: 0s - loss: 0.3508 - accuracy: 0.8750\n",
      "Epoch 48: saving model to model/keypoint_classifier\\keypoint_classifier.keras\n",
      "80/80 [==============================] - 0s 1000us/step - loss: 0.3540 - accuracy: 0.8607 - val_loss: 0.1333 - val_accuracy: 0.9540\n",
      "Epoch 49/1000\n",
      " 1/80 [..............................] - ETA: 0s - loss: 0.3268 - accuracy: 0.8828\n",
      "Epoch 49: saving model to model/keypoint_classifier\\keypoint_classifier.keras\n",
      "80/80 [==============================] - 0s 987us/step - loss: 0.3580 - accuracy: 0.8549 - val_loss: 0.1345 - val_accuracy: 0.9434\n",
      "Epoch 50/1000\n",
      " 1/80 [..............................] - ETA: 0s - loss: 0.3492 - accuracy: 0.8750\n",
      "Epoch 50: saving model to model/keypoint_classifier\\keypoint_classifier.keras\n",
      "80/80 [==============================] - 0s 987us/step - loss: 0.3527 - accuracy: 0.8596 - val_loss: 0.1312 - val_accuracy: 0.9815\n",
      "Epoch 51/1000\n",
      "80/80 [==============================] - ETA: 0s - loss: 0.3462 - accuracy: 0.8619\n",
      "Epoch 51: saving model to model/keypoint_classifier\\keypoint_classifier.keras\n",
      "80/80 [==============================] - 0s 1ms/step - loss: 0.3462 - accuracy: 0.8619 - val_loss: 0.1272 - val_accuracy: 0.9815\n",
      "Epoch 52/1000\n",
      " 1/80 [..............................] - ETA: 0s - loss: 0.2925 - accuracy: 0.8672\n",
      "Epoch 52: saving model to model/keypoint_classifier\\keypoint_classifier.keras\n",
      "80/80 [==============================] - 0s 975us/step - loss: 0.3365 - accuracy: 0.8669 - val_loss: 0.1298 - val_accuracy: 0.9796\n",
      "Epoch 53/1000\n",
      " 1/80 [..............................] - ETA: 0s - loss: 0.3908 - accuracy: 0.8594\n",
      "Epoch 53: saving model to model/keypoint_classifier\\keypoint_classifier.keras\n",
      "80/80 [==============================] - 0s 1ms/step - loss: 0.3442 - accuracy: 0.8663 - val_loss: 0.1244 - val_accuracy: 0.9831\n",
      "Epoch 54/1000\n",
      " 1/80 [..............................] - ETA: 0s - loss: 0.2419 - accuracy: 0.9062\n",
      "Epoch 54: saving model to model/keypoint_classifier\\keypoint_classifier.keras\n",
      "80/80 [==============================] - 0s 1ms/step - loss: 0.3401 - accuracy: 0.8673 - val_loss: 0.1226 - val_accuracy: 0.9815\n",
      "Epoch 55/1000\n",
      " 1/80 [..............................] - ETA: 0s - loss: 0.3227 - accuracy: 0.8672\n",
      "Epoch 55: saving model to model/keypoint_classifier\\keypoint_classifier.keras\n",
      "80/80 [==============================] - 0s 1ms/step - loss: 0.3372 - accuracy: 0.8693 - val_loss: 0.1198 - val_accuracy: 0.9749\n",
      "Epoch 56/1000\n",
      " 1/80 [..............................] - ETA: 0s - loss: 0.3257 - accuracy: 0.8594\n",
      "Epoch 56: saving model to model/keypoint_classifier\\keypoint_classifier.keras\n",
      "80/80 [==============================] - 0s 1000us/step - loss: 0.3385 - accuracy: 0.8692 - val_loss: 0.1201 - val_accuracy: 0.9521\n",
      "Epoch 57/1000\n",
      " 1/80 [..............................] - ETA: 0s - loss: 0.2496 - accuracy: 0.9141\n",
      "Epoch 57: saving model to model/keypoint_classifier\\keypoint_classifier.keras\n",
      "80/80 [==============================] - 0s 987us/step - loss: 0.3351 - accuracy: 0.8683 - val_loss: 0.1187 - val_accuracy: 0.9662\n",
      "Epoch 58/1000\n",
      " 1/80 [..............................] - ETA: 0s - loss: 0.3475 - accuracy: 0.8438\n",
      "Epoch 58: saving model to model/keypoint_classifier\\keypoint_classifier.keras\n",
      "80/80 [==============================] - 0s 982us/step - loss: 0.3303 - accuracy: 0.8718 - val_loss: 0.1183 - val_accuracy: 0.9776\n",
      "Epoch 59/1000\n",
      " 1/80 [..............................] - ETA: 0s - loss: 0.3336 - accuracy: 0.8984\n",
      "Epoch 59: saving model to model/keypoint_classifier\\keypoint_classifier.keras\n",
      "80/80 [==============================] - 0s 1000us/step - loss: 0.3246 - accuracy: 0.8755 - val_loss: 0.1137 - val_accuracy: 0.9674\n",
      "Epoch 60/1000\n",
      " 1/80 [..............................] - ETA: 0s - loss: 0.3758 - accuracy: 0.8594\n",
      "Epoch 60: saving model to model/keypoint_classifier\\keypoint_classifier.keras\n",
      "80/80 [==============================] - 0s 984us/step - loss: 0.3351 - accuracy: 0.8736 - val_loss: 0.1129 - val_accuracy: 0.9749\n",
      "Epoch 61/1000\n",
      " 1/80 [..............................] - ETA: 0s - loss: 0.4076 - accuracy: 0.8594\n",
      "Epoch 61: saving model to model/keypoint_classifier\\keypoint_classifier.keras\n",
      "80/80 [==============================] - 0s 987us/step - loss: 0.3247 - accuracy: 0.8711 - val_loss: 0.1120 - val_accuracy: 0.9851\n",
      "Epoch 62/1000\n",
      " 1/80 [..............................] - ETA: 0s - loss: 0.4277 - accuracy: 0.8438\n",
      "Epoch 62: saving model to model/keypoint_classifier\\keypoint_classifier.keras\n",
      "80/80 [==============================] - 0s 994us/step - loss: 0.3231 - accuracy: 0.8722 - val_loss: 0.1100 - val_accuracy: 0.9827\n",
      "Epoch 63/1000\n",
      " 1/80 [..............................] - ETA: 0s - loss: 0.3425 - accuracy: 0.8828\n",
      "Epoch 63: saving model to model/keypoint_classifier\\keypoint_classifier.keras\n",
      "80/80 [==============================] - 0s 987us/step - loss: 0.3236 - accuracy: 0.8764 - val_loss: 0.1096 - val_accuracy: 0.9800\n",
      "Epoch 64/1000\n",
      " 1/80 [..............................] - ETA: 0s - loss: 0.2982 - accuracy: 0.8828\n",
      "Epoch 64: saving model to model/keypoint_classifier\\keypoint_classifier.keras\n",
      "80/80 [==============================] - 0s 1ms/step - loss: 0.3180 - accuracy: 0.8773 - val_loss: 0.1058 - val_accuracy: 0.9851\n",
      "Epoch 65/1000\n",
      " 1/80 [..............................] - ETA: 0s - loss: 0.2766 - accuracy: 0.9062\n",
      "Epoch 65: saving model to model/keypoint_classifier\\keypoint_classifier.keras\n",
      "80/80 [==============================] - 0s 990us/step - loss: 0.3209 - accuracy: 0.8729 - val_loss: 0.1058 - val_accuracy: 0.9843\n",
      "Epoch 66/1000\n",
      " 1/80 [..............................] - ETA: 0s - loss: 0.3087 - accuracy: 0.8984\n",
      "Epoch 66: saving model to model/keypoint_classifier\\keypoint_classifier.keras\n",
      "80/80 [==============================] - 0s 987us/step - loss: 0.3179 - accuracy: 0.8798 - val_loss: 0.1051 - val_accuracy: 0.9851\n",
      "Epoch 67/1000\n",
      " 1/80 [..............................] - ETA: 0s - loss: 0.3009 - accuracy: 0.8984\n",
      "Epoch 67: saving model to model/keypoint_classifier\\keypoint_classifier.keras\n",
      "80/80 [==============================] - 0s 1ms/step - loss: 0.3117 - accuracy: 0.8824 - val_loss: 0.1048 - val_accuracy: 0.9768\n",
      "Epoch 68/1000\n",
      " 1/80 [..............................] - ETA: 0s - loss: 0.3698 - accuracy: 0.8828\n",
      "Epoch 68: saving model to model/keypoint_classifier\\keypoint_classifier.keras\n",
      "80/80 [==============================] - 0s 987us/step - loss: 0.3174 - accuracy: 0.8766 - val_loss: 0.1050 - val_accuracy: 0.9603\n",
      "Epoch 69/1000\n",
      " 1/80 [..............................] - ETA: 0s - loss: 0.3993 - accuracy: 0.8516\n",
      "Epoch 69: saving model to model/keypoint_classifier\\keypoint_classifier.keras\n",
      "80/80 [==============================] - 0s 1ms/step - loss: 0.3118 - accuracy: 0.8847 - val_loss: 0.1000 - val_accuracy: 0.9855\n",
      "Epoch 70/1000\n",
      " 1/80 [..............................] - ETA: 0s - loss: 0.2937 - accuracy: 0.8984\n",
      "Epoch 70: saving model to model/keypoint_classifier\\keypoint_classifier.keras\n",
      "80/80 [==============================] - 0s 987us/step - loss: 0.3050 - accuracy: 0.8827 - val_loss: 0.1006 - val_accuracy: 0.9859\n",
      "Epoch 71/1000\n",
      " 1/80 [..............................] - ETA: 0s - loss: 0.2806 - accuracy: 0.8750\n",
      "Epoch 71: saving model to model/keypoint_classifier\\keypoint_classifier.keras\n",
      "80/80 [==============================] - 0s 988us/step - loss: 0.3127 - accuracy: 0.8806 - val_loss: 0.0992 - val_accuracy: 0.9859\n",
      "Epoch 72/1000\n",
      " 1/80 [..............................] - ETA: 0s - loss: 0.3783 - accuracy: 0.8516\n",
      "Epoch 72: saving model to model/keypoint_classifier\\keypoint_classifier.keras\n",
      "80/80 [==============================] - 0s 975us/step - loss: 0.3083 - accuracy: 0.8813 - val_loss: 0.0988 - val_accuracy: 0.9851\n",
      "Epoch 73/1000\n",
      " 1/80 [..............................] - ETA: 0s - loss: 0.4106 - accuracy: 0.8438\n",
      "Epoch 73: saving model to model/keypoint_classifier\\keypoint_classifier.keras\n",
      "80/80 [==============================] - 0s 981us/step - loss: 0.3063 - accuracy: 0.8839 - val_loss: 0.0985 - val_accuracy: 0.9851\n",
      "Epoch 74/1000\n",
      " 1/80 [..............................] - ETA: 0s - loss: 0.4363 - accuracy: 0.8594\n",
      "Epoch 74: saving model to model/keypoint_classifier\\keypoint_classifier.keras\n",
      "80/80 [==============================] - 0s 1ms/step - loss: 0.3025 - accuracy: 0.8806 - val_loss: 0.0973 - val_accuracy: 0.9851\n",
      "Epoch 75/1000\n",
      " 1/80 [..............................] - ETA: 0s - loss: 0.2279 - accuracy: 0.9219\n",
      "Epoch 75: saving model to model/keypoint_classifier\\keypoint_classifier.keras\n",
      "80/80 [==============================] - 0s 977us/step - loss: 0.3133 - accuracy: 0.8809 - val_loss: 0.1004 - val_accuracy: 0.9694\n",
      "Epoch 76/1000\n",
      " 1/80 [..............................] - ETA: 0s - loss: 0.4012 - accuracy: 0.8906\n",
      "Epoch 76: saving model to model/keypoint_classifier\\keypoint_classifier.keras\n",
      "80/80 [==============================] - 0s 1ms/step - loss: 0.3039 - accuracy: 0.8801 - val_loss: 0.0968 - val_accuracy: 0.9855\n",
      "Epoch 77/1000\n",
      " 1/80 [..............................] - ETA: 0s - loss: 0.2204 - accuracy: 0.9375\n",
      "Epoch 77: saving model to model/keypoint_classifier\\keypoint_classifier.keras\n",
      "80/80 [==============================] - 0s 1ms/step - loss: 0.3077 - accuracy: 0.8799 - val_loss: 0.0974 - val_accuracy: 0.9855\n",
      "Epoch 78/1000\n",
      " 1/80 [..............................] - ETA: 0s - loss: 0.2245 - accuracy: 0.9062\n",
      "Epoch 78: saving model to model/keypoint_classifier\\keypoint_classifier.keras\n",
      "80/80 [==============================] - 0s 989us/step - loss: 0.3078 - accuracy: 0.8794 - val_loss: 0.0926 - val_accuracy: 0.9855\n",
      "Epoch 79/1000\n",
      " 1/80 [..............................] - ETA: 0s - loss: 0.2916 - accuracy: 0.8750\n",
      "Epoch 79: saving model to model/keypoint_classifier\\keypoint_classifier.keras\n",
      "80/80 [==============================] - 0s 1ms/step - loss: 0.3075 - accuracy: 0.8797 - val_loss: 0.0945 - val_accuracy: 0.9847\n",
      "Epoch 80/1000\n",
      "74/80 [==========================>...] - ETA: 0s - loss: 0.2921 - accuracy: 0.8869\n",
      "Epoch 80: saving model to model/keypoint_classifier\\keypoint_classifier.keras\n",
      "80/80 [==============================] - 0s 1ms/step - loss: 0.2925 - accuracy: 0.8861 - val_loss: 0.0902 - val_accuracy: 0.9863\n",
      "Epoch 81/1000\n",
      "80/80 [==============================] - ETA: 0s - loss: 0.2926 - accuracy: 0.8871\n",
      "Epoch 81: saving model to model/keypoint_classifier\\keypoint_classifier.keras\n",
      "80/80 [==============================] - 0s 1ms/step - loss: 0.2926 - accuracy: 0.8871 - val_loss: 0.0886 - val_accuracy: 0.9863\n",
      "Epoch 82/1000\n",
      " 1/80 [..............................] - ETA: 0s - loss: 0.3466 - accuracy: 0.8750\n",
      "Epoch 82: saving model to model/keypoint_classifier\\keypoint_classifier.keras\n",
      "80/80 [==============================] - 0s 979us/step - loss: 0.3001 - accuracy: 0.8886 - val_loss: 0.0922 - val_accuracy: 0.9851\n",
      "Epoch 83/1000\n",
      " 1/80 [..............................] - ETA: 0s - loss: 0.2168 - accuracy: 0.9141\n",
      "Epoch 83: saving model to model/keypoint_classifier\\keypoint_classifier.keras\n",
      "80/80 [==============================] - 0s 987us/step - loss: 0.2986 - accuracy: 0.8878 - val_loss: 0.0919 - val_accuracy: 0.9843\n",
      "Epoch 84/1000\n",
      " 1/80 [..............................] - ETA: 0s - loss: 0.3033 - accuracy: 0.8594\n",
      "Epoch 84: saving model to model/keypoint_classifier\\keypoint_classifier.keras\n",
      "80/80 [==============================] - 0s 1ms/step - loss: 0.2969 - accuracy: 0.8878 - val_loss: 0.0931 - val_accuracy: 0.9835\n",
      "Epoch 85/1000\n",
      "79/80 [============================>.] - ETA: 0s - loss: 0.2934 - accuracy: 0.8871\n",
      "Epoch 85: saving model to model/keypoint_classifier\\keypoint_classifier.keras\n",
      "80/80 [==============================] - 0s 1ms/step - loss: 0.2940 - accuracy: 0.8869 - val_loss: 0.0939 - val_accuracy: 0.9800\n",
      "Epoch 86/1000\n",
      "78/80 [============================>.] - ETA: 0s - loss: 0.2957 - accuracy: 0.8887\n",
      "Epoch 86: saving model to model/keypoint_classifier\\keypoint_classifier.keras\n",
      "80/80 [==============================] - 0s 1ms/step - loss: 0.2965 - accuracy: 0.8881 - val_loss: 0.0898 - val_accuracy: 0.9831\n",
      "Epoch 87/1000\n",
      " 1/80 [..............................] - ETA: 0s - loss: 0.3967 - accuracy: 0.8672\n",
      "Epoch 87: saving model to model/keypoint_classifier\\keypoint_classifier.keras\n",
      "80/80 [==============================] - 0s 1ms/step - loss: 0.3051 - accuracy: 0.8860 - val_loss: 0.0891 - val_accuracy: 0.9855\n",
      "Epoch 88/1000\n",
      " 1/80 [..............................] - ETA: 0s - loss: 0.2898 - accuracy: 0.8906\n",
      "Epoch 88: saving model to model/keypoint_classifier\\keypoint_classifier.keras\n",
      "80/80 [==============================] - 0s 1000us/step - loss: 0.2920 - accuracy: 0.8879 - val_loss: 0.0917 - val_accuracy: 0.9851\n",
      "Epoch 89/1000\n",
      " 1/80 [..............................] - ETA: 0s - loss: 0.2351 - accuracy: 0.9141\n",
      "Epoch 89: saving model to model/keypoint_classifier\\keypoint_classifier.keras\n",
      "80/80 [==============================] - 0s 987us/step - loss: 0.2956 - accuracy: 0.8851 - val_loss: 0.0903 - val_accuracy: 0.9831\n",
      "Epoch 90/1000\n",
      " 1/80 [..............................] - ETA: 0s - loss: 0.4294 - accuracy: 0.8359\n",
      "Epoch 90: saving model to model/keypoint_classifier\\keypoint_classifier.keras\n",
      "80/80 [==============================] - 0s 987us/step - loss: 0.2981 - accuracy: 0.8859 - val_loss: 0.0891 - val_accuracy: 0.9855\n",
      "Epoch 91/1000\n",
      " 1/80 [..............................] - ETA: 0s - loss: 0.2607 - accuracy: 0.8984\n",
      "Epoch 91: saving model to model/keypoint_classifier\\keypoint_classifier.keras\n",
      "80/80 [==============================] - 0s 975us/step - loss: 0.2925 - accuracy: 0.8880 - val_loss: 0.0869 - val_accuracy: 0.9851\n",
      "Epoch 92/1000\n",
      " 1/80 [..............................] - ETA: 0s - loss: 0.2558 - accuracy: 0.8984\n",
      "Epoch 92: saving model to model/keypoint_classifier\\keypoint_classifier.keras\n",
      "80/80 [==============================] - 0s 987us/step - loss: 0.2810 - accuracy: 0.8929 - val_loss: 0.0864 - val_accuracy: 0.9843\n",
      "Epoch 93/1000\n",
      " 1/80 [..............................] - ETA: 0s - loss: 0.4024 - accuracy: 0.8672\n",
      "Epoch 93: saving model to model/keypoint_classifier\\keypoint_classifier.keras\n",
      "80/80 [==============================] - 0s 1ms/step - loss: 0.2909 - accuracy: 0.8886 - val_loss: 0.0886 - val_accuracy: 0.9827\n",
      "Epoch 94/1000\n",
      " 1/80 [..............................] - ETA: 0s - loss: 0.2655 - accuracy: 0.8984\n",
      "Epoch 94: saving model to model/keypoint_classifier\\keypoint_classifier.keras\n",
      "80/80 [==============================] - 0s 987us/step - loss: 0.2938 - accuracy: 0.8864 - val_loss: 0.0914 - val_accuracy: 0.9796\n",
      "Epoch 95/1000\n",
      " 1/80 [..............................] - ETA: 0s - loss: 0.2873 - accuracy: 0.9141\n",
      "Epoch 95: saving model to model/keypoint_classifier\\keypoint_classifier.keras\n",
      "80/80 [==============================] - 0s 977us/step - loss: 0.2892 - accuracy: 0.8891 - val_loss: 0.0923 - val_accuracy: 0.9863\n",
      "Epoch 96/1000\n",
      " 1/80 [..............................] - ETA: 0s - loss: 0.4033 - accuracy: 0.8750\n",
      "Epoch 96: saving model to model/keypoint_classifier\\keypoint_classifier.keras\n",
      "80/80 [==============================] - 0s 987us/step - loss: 0.2775 - accuracy: 0.8943 - val_loss: 0.0894 - val_accuracy: 0.9792\n",
      "Epoch 97/1000\n",
      " 1/80 [..............................] - ETA: 0s - loss: 0.3102 - accuracy: 0.8594\n",
      "Epoch 97: saving model to model/keypoint_classifier\\keypoint_classifier.keras\n",
      "80/80 [==============================] - 0s 990us/step - loss: 0.2912 - accuracy: 0.8912 - val_loss: 0.0884 - val_accuracy: 0.9831\n",
      "Epoch 98/1000\n",
      " 1/80 [..............................] - ETA: 0s - loss: 0.1664 - accuracy: 0.9688\n",
      "Epoch 98: saving model to model/keypoint_classifier\\keypoint_classifier.keras\n",
      "80/80 [==============================] - 0s 991us/step - loss: 0.2855 - accuracy: 0.8910 - val_loss: 0.0874 - val_accuracy: 0.9855\n",
      "Epoch 99/1000\n",
      " 1/80 [..............................] - ETA: 0s - loss: 0.2844 - accuracy: 0.8984\n",
      "Epoch 99: saving model to model/keypoint_classifier\\keypoint_classifier.keras\n",
      "80/80 [==============================] - 0s 975us/step - loss: 0.2807 - accuracy: 0.8934 - val_loss: 0.0878 - val_accuracy: 0.9847\n",
      "Epoch 100/1000\n",
      "80/80 [==============================] - ETA: 0s - loss: 0.2776 - accuracy: 0.8910\n",
      "Epoch 100: saving model to model/keypoint_classifier\\keypoint_classifier.keras\n",
      "80/80 [==============================] - 0s 1ms/step - loss: 0.2776 - accuracy: 0.8910 - val_loss: 0.0902 - val_accuracy: 0.9827\n",
      "Epoch 101/1000\n",
      " 1/80 [..............................] - ETA: 0s - loss: 0.3496 - accuracy: 0.8828\n",
      "Epoch 101: saving model to model/keypoint_classifier\\keypoint_classifier.keras\n",
      "80/80 [==============================] - 0s 971us/step - loss: 0.2783 - accuracy: 0.8950 - val_loss: 0.0924 - val_accuracy: 0.9843\n",
      "Epoch 102/1000\n",
      " 1/80 [..............................] - ETA: 0s - loss: 0.3894 - accuracy: 0.8516\n",
      "Epoch 102: saving model to model/keypoint_classifier\\keypoint_classifier.keras\n",
      "80/80 [==============================] - 0s 983us/step - loss: 0.2774 - accuracy: 0.8974 - val_loss: 0.0844 - val_accuracy: 0.9859\n",
      "Epoch 103/1000\n",
      " 1/80 [..............................] - ETA: 0s - loss: 0.2854 - accuracy: 0.8906\n",
      "Epoch 103: saving model to model/keypoint_classifier\\keypoint_classifier.keras\n",
      "80/80 [==============================] - 0s 1ms/step - loss: 0.2727 - accuracy: 0.8968 - val_loss: 0.0823 - val_accuracy: 0.9863\n",
      "Epoch 104/1000\n",
      " 1/80 [..............................] - ETA: 0s - loss: 0.2995 - accuracy: 0.9141\n",
      "Epoch 104: saving model to model/keypoint_classifier\\keypoint_classifier.keras\n",
      "80/80 [==============================] - 0s 986us/step - loss: 0.2818 - accuracy: 0.8959 - val_loss: 0.0800 - val_accuracy: 0.9863\n",
      "Epoch 105/1000\n",
      " 1/80 [..............................] - ETA: 0s - loss: 0.4086 - accuracy: 0.8359\n",
      "Epoch 105: saving model to model/keypoint_classifier\\keypoint_classifier.keras\n",
      "80/80 [==============================] - 0s 1ms/step - loss: 0.2898 - accuracy: 0.8889 - val_loss: 0.0876 - val_accuracy: 0.9859\n",
      "Epoch 106/1000\n",
      "80/80 [==============================] - ETA: 0s - loss: 0.2727 - accuracy: 0.8948\n",
      "Epoch 106: saving model to model/keypoint_classifier\\keypoint_classifier.keras\n",
      "80/80 [==============================] - 0s 1ms/step - loss: 0.2727 - accuracy: 0.8948 - val_loss: 0.0826 - val_accuracy: 0.9878\n",
      "Epoch 107/1000\n",
      " 1/80 [..............................] - ETA: 0s - loss: 0.3448 - accuracy: 0.8750\n",
      "Epoch 107: saving model to model/keypoint_classifier\\keypoint_classifier.keras\n",
      "80/80 [==============================] - 0s 1ms/step - loss: 0.2641 - accuracy: 0.9004 - val_loss: 0.0814 - val_accuracy: 0.9863\n",
      "Epoch 108/1000\n",
      " 1/80 [..............................] - ETA: 0s - loss: 0.2206 - accuracy: 0.9141\n",
      "Epoch 108: saving model to model/keypoint_classifier\\keypoint_classifier.keras\n",
      "80/80 [==============================] - 0s 1ms/step - loss: 0.2783 - accuracy: 0.8933 - val_loss: 0.0787 - val_accuracy: 0.9855\n",
      "Epoch 109/1000\n",
      " 1/80 [..............................] - ETA: 0s - loss: 0.2274 - accuracy: 0.9062\n",
      "Epoch 109: saving model to model/keypoint_classifier\\keypoint_classifier.keras\n",
      "80/80 [==============================] - 0s 987us/step - loss: 0.2768 - accuracy: 0.8935 - val_loss: 0.0780 - val_accuracy: 0.9851\n",
      "Epoch 110/1000\n",
      "74/80 [==========================>...] - ETA: 0s - loss: 0.2759 - accuracy: 0.8927\n",
      "Epoch 110: saving model to model/keypoint_classifier\\keypoint_classifier.keras\n",
      "80/80 [==============================] - 0s 1ms/step - loss: 0.2753 - accuracy: 0.8932 - val_loss: 0.0778 - val_accuracy: 0.9859\n",
      "Epoch 111/1000\n",
      " 1/80 [..............................] - ETA: 0s - loss: 0.2478 - accuracy: 0.8906\n",
      "Epoch 111: saving model to model/keypoint_classifier\\keypoint_classifier.keras\n",
      "80/80 [==============================] - 0s 1ms/step - loss: 0.2848 - accuracy: 0.8937 - val_loss: 0.0778 - val_accuracy: 0.9863\n",
      "Epoch 112/1000\n",
      " 1/80 [..............................] - ETA: 0s - loss: 0.1875 - accuracy: 0.9219\n",
      "Epoch 112: saving model to model/keypoint_classifier\\keypoint_classifier.keras\n",
      "80/80 [==============================] - 0s 1ms/step - loss: 0.2606 - accuracy: 0.9025 - val_loss: 0.0798 - val_accuracy: 0.9788\n",
      "Epoch 113/1000\n",
      "77/80 [===========================>..] - ETA: 0s - loss: 0.2747 - accuracy: 0.8971\n",
      "Epoch 113: saving model to model/keypoint_classifier\\keypoint_classifier.keras\n",
      "80/80 [==============================] - 0s 1ms/step - loss: 0.2733 - accuracy: 0.8974 - val_loss: 0.0766 - val_accuracy: 0.9886\n",
      "Epoch 114/1000\n",
      " 1/80 [..............................] - ETA: 0s - loss: 0.4433 - accuracy: 0.8047\n",
      "Epoch 114: saving model to model/keypoint_classifier\\keypoint_classifier.keras\n",
      "80/80 [==============================] - 0s 987us/step - loss: 0.2809 - accuracy: 0.8923 - val_loss: 0.0770 - val_accuracy: 0.9851\n",
      "Epoch 115/1000\n",
      " 1/80 [..............................] - ETA: 0s - loss: 0.1772 - accuracy: 0.9609\n",
      "Epoch 115: saving model to model/keypoint_classifier\\keypoint_classifier.keras\n",
      "80/80 [==============================] - 0s 990us/step - loss: 0.2716 - accuracy: 0.8999 - val_loss: 0.0783 - val_accuracy: 0.9866\n",
      "Epoch 116/1000\n",
      "80/80 [==============================] - ETA: 0s - loss: 0.2704 - accuracy: 0.8972\n",
      "Epoch 116: saving model to model/keypoint_classifier\\keypoint_classifier.keras\n",
      "80/80 [==============================] - 0s 1ms/step - loss: 0.2704 - accuracy: 0.8972 - val_loss: 0.0741 - val_accuracy: 0.9843\n",
      "Epoch 117/1000\n",
      " 1/80 [..............................] - ETA: 0s - loss: 0.2065 - accuracy: 0.9062\n",
      "Epoch 117: saving model to model/keypoint_classifier\\keypoint_classifier.keras\n",
      "80/80 [==============================] - 0s 1ms/step - loss: 0.2651 - accuracy: 0.9001 - val_loss: 0.0723 - val_accuracy: 0.9859\n",
      "Epoch 118/1000\n",
      "76/80 [===========================>..] - ETA: 0s - loss: 0.2671 - accuracy: 0.8969\n",
      "Epoch 118: saving model to model/keypoint_classifier\\keypoint_classifier.keras\n",
      "80/80 [==============================] - 0s 1ms/step - loss: 0.2682 - accuracy: 0.8963 - val_loss: 0.0734 - val_accuracy: 0.9855\n",
      "Epoch 119/1000\n",
      "76/80 [===========================>..] - ETA: 0s - loss: 0.2701 - accuracy: 0.8957\n",
      "Epoch 119: saving model to model/keypoint_classifier\\keypoint_classifier.keras\n",
      "80/80 [==============================] - 0s 1ms/step - loss: 0.2722 - accuracy: 0.8950 - val_loss: 0.0736 - val_accuracy: 0.9859\n",
      "Epoch 120/1000\n",
      " 1/80 [..............................] - ETA: 0s - loss: 0.2498 - accuracy: 0.9297\n",
      "Epoch 120: saving model to model/keypoint_classifier\\keypoint_classifier.keras\n",
      "80/80 [==============================] - 0s 1ms/step - loss: 0.2770 - accuracy: 0.8956 - val_loss: 0.0720 - val_accuracy: 0.9859\n",
      "Epoch 121/1000\n",
      "80/80 [==============================] - ETA: 0s - loss: 0.2647 - accuracy: 0.9008\n",
      "Epoch 121: saving model to model/keypoint_classifier\\keypoint_classifier.keras\n",
      "80/80 [==============================] - 0s 1ms/step - loss: 0.2647 - accuracy: 0.9008 - val_loss: 0.0725 - val_accuracy: 0.9859\n",
      "Epoch 122/1000\n",
      " 1/80 [..............................] - ETA: 0s - loss: 0.3193 - accuracy: 0.8672\n",
      "Epoch 122: saving model to model/keypoint_classifier\\keypoint_classifier.keras\n",
      "80/80 [==============================] - 0s 1ms/step - loss: 0.2596 - accuracy: 0.9045 - val_loss: 0.0678 - val_accuracy: 0.9863\n",
      "Epoch 123/1000\n",
      " 1/80 [..............................] - ETA: 0s - loss: 0.3036 - accuracy: 0.9062\n",
      "Epoch 123: saving model to model/keypoint_classifier\\keypoint_classifier.keras\n",
      "80/80 [==============================] - 0s 1ms/step - loss: 0.2713 - accuracy: 0.8989 - val_loss: 0.0717 - val_accuracy: 0.9859\n",
      "Epoch 124/1000\n",
      "80/80 [==============================] - ETA: 0s - loss: 0.2665 - accuracy: 0.9018\n",
      "Epoch 124: saving model to model/keypoint_classifier\\keypoint_classifier.keras\n",
      "80/80 [==============================] - 0s 1ms/step - loss: 0.2665 - accuracy: 0.9018 - val_loss: 0.0680 - val_accuracy: 0.9859\n",
      "Epoch 125/1000\n",
      " 1/80 [..............................] - ETA: 0s - loss: 0.2745 - accuracy: 0.8984\n",
      "Epoch 125: saving model to model/keypoint_classifier\\keypoint_classifier.keras\n",
      "80/80 [==============================] - 0s 1ms/step - loss: 0.2710 - accuracy: 0.9001 - val_loss: 0.0689 - val_accuracy: 0.9855\n",
      "Epoch 126/1000\n",
      " 1/80 [..............................] - ETA: 0s - loss: 0.2583 - accuracy: 0.9062\n",
      "Epoch 126: saving model to model/keypoint_classifier\\keypoint_classifier.keras\n",
      "80/80 [==============================] - 0s 987us/step - loss: 0.2686 - accuracy: 0.8974 - val_loss: 0.0710 - val_accuracy: 0.9866\n",
      "Epoch 127/1000\n",
      " 1/80 [..............................] - ETA: 0s - loss: 0.2760 - accuracy: 0.9141\n",
      "Epoch 127: saving model to model/keypoint_classifier\\keypoint_classifier.keras\n",
      "80/80 [==============================] - 0s 1ms/step - loss: 0.2736 - accuracy: 0.8988 - val_loss: 0.0704 - val_accuracy: 0.9855\n",
      "Epoch 128/1000\n",
      " 1/80 [..............................] - ETA: 0s - loss: 0.2296 - accuracy: 0.8984\n",
      "Epoch 128: saving model to model/keypoint_classifier\\keypoint_classifier.keras\n",
      "80/80 [==============================] - 0s 1ms/step - loss: 0.2735 - accuracy: 0.8969 - val_loss: 0.0691 - val_accuracy: 0.9859\n",
      "Epoch 129/1000\n",
      " 1/80 [..............................] - ETA: 0s - loss: 0.2596 - accuracy: 0.9062\n",
      "Epoch 129: saving model to model/keypoint_classifier\\keypoint_classifier.keras\n",
      "80/80 [==============================] - 0s 975us/step - loss: 0.2692 - accuracy: 0.8999 - val_loss: 0.0695 - val_accuracy: 0.9863\n",
      "Epoch 130/1000\n",
      "80/80 [==============================] - ETA: 0s - loss: 0.2647 - accuracy: 0.8989\n",
      "Epoch 130: saving model to model/keypoint_classifier\\keypoint_classifier.keras\n",
      "80/80 [==============================] - 0s 1ms/step - loss: 0.2647 - accuracy: 0.8989 - val_loss: 0.0691 - val_accuracy: 0.9863\n",
      "Epoch 131/1000\n",
      "73/80 [==========================>...] - ETA: 0s - loss: 0.2662 - accuracy: 0.8993\n",
      "Epoch 131: saving model to model/keypoint_classifier\\keypoint_classifier.keras\n",
      "80/80 [==============================] - 0s 1ms/step - loss: 0.2657 - accuracy: 0.8993 - val_loss: 0.0678 - val_accuracy: 0.9866\n",
      "Epoch 132/1000\n",
      " 1/80 [..............................] - ETA: 0s - loss: 0.2670 - accuracy: 0.8984\n",
      "Epoch 132: saving model to model/keypoint_classifier\\keypoint_classifier.keras\n",
      "80/80 [==============================] - 0s 1ms/step - loss: 0.2665 - accuracy: 0.9009 - val_loss: 0.0698 - val_accuracy: 0.9839\n",
      "Epoch 133/1000\n",
      " 1/80 [..............................] - ETA: 0s - loss: 0.2216 - accuracy: 0.9375\n",
      "Epoch 133: saving model to model/keypoint_classifier\\keypoint_classifier.keras\n",
      "80/80 [==============================] - 0s 987us/step - loss: 0.2669 - accuracy: 0.8981 - val_loss: 0.0714 - val_accuracy: 0.9906\n",
      "Epoch 134/1000\n",
      " 1/80 [..............................] - ETA: 0s - loss: 0.3129 - accuracy: 0.8672\n",
      "Epoch 134: saving model to model/keypoint_classifier\\keypoint_classifier.keras\n",
      "80/80 [==============================] - 0s 987us/step - loss: 0.2666 - accuracy: 0.8979 - val_loss: 0.0692 - val_accuracy: 0.9870\n",
      "Epoch 135/1000\n",
      " 1/80 [..............................] - ETA: 0s - loss: 0.2798 - accuracy: 0.9219\n",
      "Epoch 135: saving model to model/keypoint_classifier\\keypoint_classifier.keras\n",
      "80/80 [==============================] - 0s 975us/step - loss: 0.2649 - accuracy: 0.8988 - val_loss: 0.0681 - val_accuracy: 0.9870\n",
      "Epoch 136/1000\n",
      " 1/80 [..............................] - ETA: 0s - loss: 0.2360 - accuracy: 0.8906\n",
      "Epoch 136: saving model to model/keypoint_classifier\\keypoint_classifier.keras\n",
      "80/80 [==============================] - 0s 987us/step - loss: 0.2733 - accuracy: 0.9004 - val_loss: 0.0703 - val_accuracy: 0.9882\n",
      "Epoch 137/1000\n",
      "79/80 [============================>.] - ETA: 0s - loss: 0.2758 - accuracy: 0.8975\n",
      "Epoch 137: saving model to model/keypoint_classifier\\keypoint_classifier.keras\n",
      "80/80 [==============================] - 0s 1ms/step - loss: 0.2755 - accuracy: 0.8978 - val_loss: 0.0677 - val_accuracy: 0.9855\n",
      "Epoch 138/1000\n",
      " 1/80 [..............................] - ETA: 0s - loss: 0.3467 - accuracy: 0.8906\n",
      "Epoch 138: saving model to model/keypoint_classifier\\keypoint_classifier.keras\n",
      "80/80 [==============================] - 0s 1ms/step - loss: 0.2689 - accuracy: 0.9008 - val_loss: 0.0673 - val_accuracy: 0.9859\n",
      "Epoch 139/1000\n",
      " 1/80 [..............................] - ETA: 0s - loss: 0.3297 - accuracy: 0.8359\n",
      "Epoch 139: saving model to model/keypoint_classifier\\keypoint_classifier.keras\n",
      "80/80 [==============================] - 0s 989us/step - loss: 0.2731 - accuracy: 0.8975 - val_loss: 0.0699 - val_accuracy: 0.9878\n",
      "Epoch 140/1000\n",
      " 1/80 [..............................] - ETA: 0s - loss: 0.2407 - accuracy: 0.8984\n",
      "Epoch 140: saving model to model/keypoint_classifier\\keypoint_classifier.keras\n",
      "80/80 [==============================] - 0s 1000us/step - loss: 0.2604 - accuracy: 0.9013 - val_loss: 0.0677 - val_accuracy: 0.9859\n",
      "Epoch 141/1000\n",
      " 1/80 [..............................] - ETA: 0s - loss: 0.2954 - accuracy: 0.8984\n",
      "Epoch 141: saving model to model/keypoint_classifier\\keypoint_classifier.keras\n",
      "80/80 [==============================] - 0s 975us/step - loss: 0.2605 - accuracy: 0.9063 - val_loss: 0.0655 - val_accuracy: 0.9866\n",
      "Epoch 142/1000\n",
      " 1/80 [..............................] - ETA: 0s - loss: 0.3183 - accuracy: 0.8594\n",
      "Epoch 142: saving model to model/keypoint_classifier\\keypoint_classifier.keras\n",
      "80/80 [==============================] - 0s 1ms/step - loss: 0.2565 - accuracy: 0.9059 - val_loss: 0.0682 - val_accuracy: 0.9902\n",
      "Epoch 143/1000\n",
      " 1/80 [..............................] - ETA: 0s - loss: 0.4386 - accuracy: 0.8594\n",
      "Epoch 143: saving model to model/keypoint_classifier\\keypoint_classifier.keras\n",
      "80/80 [==============================] - 0s 1000us/step - loss: 0.2750 - accuracy: 0.9000 - val_loss: 0.0663 - val_accuracy: 0.9835\n",
      "Epoch 144/1000\n",
      "80/80 [==============================] - ETA: 0s - loss: 0.2627 - accuracy: 0.9022\n",
      "Epoch 144: saving model to model/keypoint_classifier\\keypoint_classifier.keras\n",
      "80/80 [==============================] - 0s 1ms/step - loss: 0.2627 - accuracy: 0.9022 - val_loss: 0.0690 - val_accuracy: 0.9859\n",
      "Epoch 145/1000\n",
      " 1/80 [..............................] - ETA: 0s - loss: 0.2694 - accuracy: 0.8828\n",
      "Epoch 145: saving model to model/keypoint_classifier\\keypoint_classifier.keras\n",
      "80/80 [==============================] - 0s 1ms/step - loss: 0.2646 - accuracy: 0.8992 - val_loss: 0.0654 - val_accuracy: 0.9863\n",
      "Epoch 146/1000\n",
      " 1/80 [..............................] - ETA: 0s - loss: 0.2952 - accuracy: 0.8906\n",
      "Epoch 146: saving model to model/keypoint_classifier\\keypoint_classifier.keras\n",
      "80/80 [==============================] - 0s 991us/step - loss: 0.2709 - accuracy: 0.8996 - val_loss: 0.0652 - val_accuracy: 0.9863\n",
      "Epoch 147/1000\n",
      " 1/80 [..............................] - ETA: 0s - loss: 0.2621 - accuracy: 0.8906\n",
      "Epoch 147: saving model to model/keypoint_classifier\\keypoint_classifier.keras\n",
      "80/80 [==============================] - 0s 1ms/step - loss: 0.2593 - accuracy: 0.9066 - val_loss: 0.0651 - val_accuracy: 0.9859\n",
      "Epoch 148/1000\n",
      " 1/80 [..............................] - ETA: 0s - loss: 0.2417 - accuracy: 0.9297\n",
      "Epoch 148: saving model to model/keypoint_classifier\\keypoint_classifier.keras\n",
      "80/80 [==============================] - 0s 1ms/step - loss: 0.2640 - accuracy: 0.9022 - val_loss: 0.0686 - val_accuracy: 0.9874\n",
      "Epoch 149/1000\n",
      " 1/80 [..............................] - ETA: 0s - loss: 0.2951 - accuracy: 0.8672\n",
      "Epoch 149: saving model to model/keypoint_classifier\\keypoint_classifier.keras\n",
      "80/80 [==============================] - 0s 1ms/step - loss: 0.2657 - accuracy: 0.9028 - val_loss: 0.0660 - val_accuracy: 0.9870\n",
      "Epoch 150/1000\n",
      " 1/80 [..............................] - ETA: 0s - loss: 0.1964 - accuracy: 0.9062\n",
      "Epoch 150: saving model to model/keypoint_classifier\\keypoint_classifier.keras\n",
      "80/80 [==============================] - 0s 994us/step - loss: 0.2494 - accuracy: 0.9069 - val_loss: 0.0637 - val_accuracy: 0.9914\n",
      "Epoch 151/1000\n",
      " 1/80 [..............................] - ETA: 0s - loss: 0.3383 - accuracy: 0.8750\n",
      "Epoch 151: saving model to model/keypoint_classifier\\keypoint_classifier.keras\n",
      "80/80 [==============================] - 0s 1ms/step - loss: 0.2593 - accuracy: 0.9012 - val_loss: 0.0650 - val_accuracy: 0.9859\n",
      "Epoch 152/1000\n",
      " 1/80 [..............................] - ETA: 0s - loss: 0.2743 - accuracy: 0.9141\n",
      "Epoch 152: saving model to model/keypoint_classifier\\keypoint_classifier.keras\n",
      "80/80 [==============================] - 0s 1ms/step - loss: 0.2619 - accuracy: 0.9017 - val_loss: 0.0669 - val_accuracy: 0.9890\n",
      "Epoch 153/1000\n",
      " 1/80 [..............................] - ETA: 0s - loss: 0.2109 - accuracy: 0.9297\n",
      "Epoch 153: saving model to model/keypoint_classifier\\keypoint_classifier.keras\n",
      "80/80 [==============================] - 0s 987us/step - loss: 0.2598 - accuracy: 0.9027 - val_loss: 0.0645 - val_accuracy: 0.9874\n",
      "Epoch 154/1000\n",
      " 1/80 [..............................] - ETA: 0s - loss: 0.3239 - accuracy: 0.8750\n",
      "Epoch 154: saving model to model/keypoint_classifier\\keypoint_classifier.keras\n",
      "80/80 [==============================] - 0s 1ms/step - loss: 0.2610 - accuracy: 0.9044 - val_loss: 0.0679 - val_accuracy: 0.9945\n",
      "Epoch 155/1000\n",
      "76/80 [===========================>..] - ETA: 0s - loss: 0.2687 - accuracy: 0.9010\n",
      "Epoch 155: saving model to model/keypoint_classifier\\keypoint_classifier.keras\n",
      "80/80 [==============================] - 0s 1ms/step - loss: 0.2702 - accuracy: 0.9008 - val_loss: 0.0666 - val_accuracy: 0.9886\n",
      "Epoch 156/1000\n",
      " 1/80 [..............................] - ETA: 0s - loss: 0.2714 - accuracy: 0.8984\n",
      "Epoch 156: saving model to model/keypoint_classifier\\keypoint_classifier.keras\n",
      "80/80 [==============================] - 0s 988us/step - loss: 0.2679 - accuracy: 0.8986 - val_loss: 0.0657 - val_accuracy: 0.9898\n",
      "Epoch 157/1000\n",
      " 1/80 [..............................] - ETA: 0s - loss: 0.2800 - accuracy: 0.9141\n",
      "Epoch 157: saving model to model/keypoint_classifier\\keypoint_classifier.keras\n",
      "80/80 [==============================] - 0s 986us/step - loss: 0.2703 - accuracy: 0.8968 - val_loss: 0.0663 - val_accuracy: 0.9859\n",
      "Epoch 158/1000\n",
      "80/80 [==============================] - ETA: 0s - loss: 0.2593 - accuracy: 0.9014\n",
      "Epoch 158: saving model to model/keypoint_classifier\\keypoint_classifier.keras\n",
      "80/80 [==============================] - 0s 1ms/step - loss: 0.2593 - accuracy: 0.9014 - val_loss: 0.0656 - val_accuracy: 0.9878\n",
      "Epoch 159/1000\n",
      "80/80 [==============================] - ETA: 0s - loss: 0.2576 - accuracy: 0.9065\n",
      "Epoch 159: saving model to model/keypoint_classifier\\keypoint_classifier.keras\n",
      "80/80 [==============================] - 0s 1ms/step - loss: 0.2576 - accuracy: 0.9065 - val_loss: 0.0651 - val_accuracy: 0.9855\n",
      "Epoch 160/1000\n",
      " 1/80 [..............................] - ETA: 0s - loss: 0.3980 - accuracy: 0.8672\n",
      "Epoch 160: saving model to model/keypoint_classifier\\keypoint_classifier.keras\n",
      "80/80 [==============================] - 0s 1ms/step - loss: 0.2649 - accuracy: 0.9012 - val_loss: 0.0656 - val_accuracy: 0.9906\n",
      "Epoch 161/1000\n",
      " 1/80 [..............................] - ETA: 0s - loss: 0.2759 - accuracy: 0.8672\n",
      "Epoch 161: saving model to model/keypoint_classifier\\keypoint_classifier.keras\n",
      "80/80 [==============================] - 0s 1ms/step - loss: 0.2543 - accuracy: 0.9056 - val_loss: 0.0633 - val_accuracy: 0.9863\n",
      "Epoch 162/1000\n",
      " 1/80 [..............................] - ETA: 0s - loss: 0.2731 - accuracy: 0.8750\n",
      "Epoch 162: saving model to model/keypoint_classifier\\keypoint_classifier.keras\n",
      "80/80 [==============================] - 0s 981us/step - loss: 0.2535 - accuracy: 0.9037 - val_loss: 0.0632 - val_accuracy: 0.9902\n",
      "Epoch 163/1000\n",
      " 1/80 [..............................] - ETA: 0s - loss: 0.2156 - accuracy: 0.9375\n",
      "Epoch 163: saving model to model/keypoint_classifier\\keypoint_classifier.keras\n",
      "80/80 [==============================] - 0s 1ms/step - loss: 0.2576 - accuracy: 0.9030 - val_loss: 0.0634 - val_accuracy: 0.9886\n",
      "Epoch 164/1000\n",
      " 1/80 [..............................] - ETA: 0s - loss: 0.1990 - accuracy: 0.9219\n",
      "Epoch 164: saving model to model/keypoint_classifier\\keypoint_classifier.keras\n",
      "80/80 [==============================] - 0s 998us/step - loss: 0.2551 - accuracy: 0.9074 - val_loss: 0.0621 - val_accuracy: 0.9863\n",
      "Epoch 165/1000\n",
      "80/80 [==============================] - ETA: 0s - loss: 0.2606 - accuracy: 0.8996\n",
      "Epoch 165: saving model to model/keypoint_classifier\\keypoint_classifier.keras\n",
      "80/80 [==============================] - 0s 1ms/step - loss: 0.2606 - accuracy: 0.8996 - val_loss: 0.0661 - val_accuracy: 0.9886\n",
      "Epoch 166/1000\n",
      " 1/80 [..............................] - ETA: 0s - loss: 0.2584 - accuracy: 0.9062\n",
      "Epoch 166: saving model to model/keypoint_classifier\\keypoint_classifier.keras\n",
      "80/80 [==============================] - 0s 988us/step - loss: 0.2435 - accuracy: 0.9141 - val_loss: 0.0615 - val_accuracy: 0.9866\n",
      "Epoch 167/1000\n",
      " 1/80 [..............................] - ETA: 0s - loss: 0.2213 - accuracy: 0.9141\n",
      "Epoch 167: saving model to model/keypoint_classifier\\keypoint_classifier.keras\n",
      "80/80 [==============================] - 0s 1ms/step - loss: 0.2359 - accuracy: 0.9115 - val_loss: 0.0615 - val_accuracy: 0.9851\n",
      "Epoch 168/1000\n",
      "80/80 [==============================] - ETA: 0s - loss: 0.2639 - accuracy: 0.9059\n",
      "Epoch 168: saving model to model/keypoint_classifier\\keypoint_classifier.keras\n",
      "80/80 [==============================] - 0s 1ms/step - loss: 0.2639 - accuracy: 0.9059 - val_loss: 0.0620 - val_accuracy: 0.9859\n",
      "Epoch 169/1000\n",
      " 1/80 [..............................] - ETA: 0s - loss: 0.3079 - accuracy: 0.9141\n",
      "Epoch 169: saving model to model/keypoint_classifier\\keypoint_classifier.keras\n",
      "80/80 [==============================] - 0s 989us/step - loss: 0.2512 - accuracy: 0.9087 - val_loss: 0.0611 - val_accuracy: 0.9859\n",
      "Epoch 170/1000\n",
      " 1/80 [..............................] - ETA: 0s - loss: 0.1811 - accuracy: 0.9453\n",
      "Epoch 170: saving model to model/keypoint_classifier\\keypoint_classifier.keras\n",
      "80/80 [==============================] - 0s 1ms/step - loss: 0.2598 - accuracy: 0.9044 - val_loss: 0.0645 - val_accuracy: 0.9874\n",
      "Epoch 171/1000\n",
      " 1/80 [..............................] - ETA: 0s - loss: 0.2038 - accuracy: 0.9219\n",
      "Epoch 171: saving model to model/keypoint_classifier\\keypoint_classifier.keras\n",
      "80/80 [==============================] - 0s 1ms/step - loss: 0.2468 - accuracy: 0.9068 - val_loss: 0.0652 - val_accuracy: 0.9878\n",
      "Epoch 172/1000\n",
      " 1/80 [..............................] - ETA: 0s - loss: 0.2458 - accuracy: 0.8984\n",
      "Epoch 172: saving model to model/keypoint_classifier\\keypoint_classifier.keras\n",
      "80/80 [==============================] - 0s 1ms/step - loss: 0.2479 - accuracy: 0.9088 - val_loss: 0.0629 - val_accuracy: 0.9882\n",
      "Epoch 173/1000\n",
      " 1/80 [..............................] - ETA: 0s - loss: 0.2901 - accuracy: 0.9141\n",
      "Epoch 173: saving model to model/keypoint_classifier\\keypoint_classifier.keras\n",
      "80/80 [==============================] - 0s 1ms/step - loss: 0.2426 - accuracy: 0.9092 - val_loss: 0.0624 - val_accuracy: 0.9870\n",
      "Epoch 174/1000\n",
      " 1/80 [..............................] - ETA: 0s - loss: 0.2411 - accuracy: 0.8828\n",
      "Epoch 174: saving model to model/keypoint_classifier\\keypoint_classifier.keras\n",
      "80/80 [==============================] - 0s 994us/step - loss: 0.2542 - accuracy: 0.9059 - val_loss: 0.0661 - val_accuracy: 0.9863\n",
      "Epoch 175/1000\n",
      " 1/80 [..............................] - ETA: 0s - loss: 0.2646 - accuracy: 0.8984\n",
      "Epoch 175: saving model to model/keypoint_classifier\\keypoint_classifier.keras\n",
      "80/80 [==============================] - 0s 1ms/step - loss: 0.2500 - accuracy: 0.9083 - val_loss: 0.0622 - val_accuracy: 0.9886\n",
      "Epoch 176/1000\n",
      "71/80 [=========================>....] - ETA: 0s - loss: 0.2367 - accuracy: 0.9094\n",
      "Epoch 176: saving model to model/keypoint_classifier\\keypoint_classifier.keras\n",
      "80/80 [==============================] - 0s 1ms/step - loss: 0.2340 - accuracy: 0.9113 - val_loss: 0.0613 - val_accuracy: 0.9863\n",
      "Epoch 177/1000\n",
      "80/80 [==============================] - ETA: 0s - loss: 0.2438 - accuracy: 0.9112\n",
      "Epoch 177: saving model to model/keypoint_classifier\\keypoint_classifier.keras\n",
      "80/80 [==============================] - 0s 1ms/step - loss: 0.2438 - accuracy: 0.9112 - val_loss: 0.0656 - val_accuracy: 0.9819\n",
      "Epoch 178/1000\n",
      "80/80 [==============================] - ETA: 0s - loss: 0.2527 - accuracy: 0.9073\n",
      "Epoch 178: saving model to model/keypoint_classifier\\keypoint_classifier.keras\n",
      "80/80 [==============================] - 0s 1ms/step - loss: 0.2527 - accuracy: 0.9073 - val_loss: 0.0617 - val_accuracy: 0.9890\n",
      "Epoch 179/1000\n",
      " 1/80 [..............................] - ETA: 0s - loss: 0.2204 - accuracy: 0.9062\n",
      "Epoch 179: saving model to model/keypoint_classifier\\keypoint_classifier.keras\n",
      "80/80 [==============================] - 0s 1ms/step - loss: 0.2546 - accuracy: 0.9042 - val_loss: 0.0628 - val_accuracy: 0.9882\n",
      "Epoch 180/1000\n",
      " 1/80 [..............................] - ETA: 0s - loss: 0.3073 - accuracy: 0.8828\n",
      "Epoch 180: saving model to model/keypoint_classifier\\keypoint_classifier.keras\n",
      "80/80 [==============================] - 0s 1ms/step - loss: 0.2511 - accuracy: 0.9066 - val_loss: 0.0646 - val_accuracy: 0.9870\n",
      "Epoch 181/1000\n",
      "80/80 [==============================] - ETA: 0s - loss: 0.2553 - accuracy: 0.9047\n",
      "Epoch 181: saving model to model/keypoint_classifier\\keypoint_classifier.keras\n",
      "80/80 [==============================] - 0s 1ms/step - loss: 0.2553 - accuracy: 0.9047 - val_loss: 0.0657 - val_accuracy: 0.9882\n",
      "Epoch 182/1000\n",
      " 1/80 [..............................] - ETA: 0s - loss: 0.1829 - accuracy: 0.9453\n",
      "Epoch 182: saving model to model/keypoint_classifier\\keypoint_classifier.keras\n",
      "80/80 [==============================] - 0s 993us/step - loss: 0.2608 - accuracy: 0.9044 - val_loss: 0.0600 - val_accuracy: 0.9859\n",
      "Epoch 183/1000\n",
      " 1/80 [..............................] - ETA: 0s - loss: 0.1965 - accuracy: 0.9453\n",
      "Epoch 183: saving model to model/keypoint_classifier\\keypoint_classifier.keras\n",
      "80/80 [==============================] - 0s 1ms/step - loss: 0.2526 - accuracy: 0.9070 - val_loss: 0.0686 - val_accuracy: 0.9796\n",
      "Epoch 184/1000\n",
      " 1/80 [..............................] - ETA: 0s - loss: 0.3494 - accuracy: 0.8750\n",
      "Epoch 184: saving model to model/keypoint_classifier\\keypoint_classifier.keras\n",
      "80/80 [==============================] - 0s 1ms/step - loss: 0.2465 - accuracy: 0.9111 - val_loss: 0.0627 - val_accuracy: 0.9859\n",
      "Epoch 185/1000\n",
      " 1/80 [..............................] - ETA: 0s - loss: 0.1509 - accuracy: 0.9531\n",
      "Epoch 185: saving model to model/keypoint_classifier\\keypoint_classifier.keras\n",
      "80/80 [==============================] - 0s 1ms/step - loss: 0.2474 - accuracy: 0.9082 - val_loss: 0.0648 - val_accuracy: 0.9874\n",
      "Epoch 186/1000\n",
      " 1/80 [..............................] - ETA: 0s - loss: 0.1709 - accuracy: 0.9531\n",
      "Epoch 186: saving model to model/keypoint_classifier\\keypoint_classifier.keras\n",
      "80/80 [==============================] - 0s 1ms/step - loss: 0.2457 - accuracy: 0.9088 - val_loss: 0.0624 - val_accuracy: 0.9859\n",
      "Epoch 187/1000\n",
      " 1/80 [..............................] - ETA: 0s - loss: 0.2224 - accuracy: 0.9062\n",
      "Epoch 187: saving model to model/keypoint_classifier\\keypoint_classifier.keras\n",
      "80/80 [==============================] - 0s 1ms/step - loss: 0.2462 - accuracy: 0.9108 - val_loss: 0.0619 - val_accuracy: 0.9851\n",
      "Epoch 188/1000\n",
      " 1/80 [..............................] - ETA: 0s - loss: 0.2437 - accuracy: 0.8906\n",
      "Epoch 188: saving model to model/keypoint_classifier\\keypoint_classifier.keras\n",
      "80/80 [==============================] - 0s 1ms/step - loss: 0.2484 - accuracy: 0.9089 - val_loss: 0.0621 - val_accuracy: 0.9870\n",
      "Epoch 189/1000\n",
      "80/80 [==============================] - ETA: 0s - loss: 0.2458 - accuracy: 0.9081\n",
      "Epoch 189: saving model to model/keypoint_classifier\\keypoint_classifier.keras\n",
      "80/80 [==============================] - 0s 1ms/step - loss: 0.2458 - accuracy: 0.9081 - val_loss: 0.0651 - val_accuracy: 0.9863\n",
      "Epoch 190/1000\n",
      "79/80 [============================>.] - ETA: 0s - loss: 0.2470 - accuracy: 0.9079\n",
      "Epoch 190: saving model to model/keypoint_classifier\\keypoint_classifier.keras\n",
      "80/80 [==============================] - 0s 1ms/step - loss: 0.2478 - accuracy: 0.9077 - val_loss: 0.0621 - val_accuracy: 0.9859\n",
      "Epoch 191/1000\n",
      " 1/80 [..............................] - ETA: 0s - loss: 0.2394 - accuracy: 0.8828\n",
      "Epoch 191: saving model to model/keypoint_classifier\\keypoint_classifier.keras\n",
      "80/80 [==============================] - 0s 1ms/step - loss: 0.2485 - accuracy: 0.9072 - val_loss: 0.0618 - val_accuracy: 0.9859\n",
      "Epoch 192/1000\n",
      "72/80 [==========================>...] - ETA: 0s - loss: 0.2373 - accuracy: 0.9134\n",
      "Epoch 192: saving model to model/keypoint_classifier\\keypoint_classifier.keras\n",
      "80/80 [==============================] - 0s 1ms/step - loss: 0.2365 - accuracy: 0.9142 - val_loss: 0.0619 - val_accuracy: 0.9894\n",
      "Epoch 193/1000\n",
      "76/80 [===========================>..] - ETA: 0s - loss: 0.2479 - accuracy: 0.9092\n",
      "Epoch 193: saving model to model/keypoint_classifier\\keypoint_classifier.keras\n",
      "80/80 [==============================] - 0s 1ms/step - loss: 0.2473 - accuracy: 0.9097 - val_loss: 0.0604 - val_accuracy: 0.9863\n",
      "Epoch 194/1000\n",
      " 1/80 [..............................] - ETA: 0s - loss: 0.2411 - accuracy: 0.9141\n",
      "Epoch 194: saving model to model/keypoint_classifier\\keypoint_classifier.keras\n",
      "80/80 [==============================] - 0s 1ms/step - loss: 0.2575 - accuracy: 0.9050 - val_loss: 0.0662 - val_accuracy: 0.9835\n",
      "Epoch 195/1000\n",
      " 1/80 [..............................] - ETA: 0s - loss: 0.1962 - accuracy: 0.9297\n",
      "Epoch 195: saving model to model/keypoint_classifier\\keypoint_classifier.keras\n",
      "80/80 [==============================] - 0s 1ms/step - loss: 0.2476 - accuracy: 0.9101 - val_loss: 0.0630 - val_accuracy: 0.9894\n",
      "Epoch 196/1000\n",
      " 1/80 [..............................] - ETA: 0s - loss: 0.1976 - accuracy: 0.9219\n",
      "Epoch 196: saving model to model/keypoint_classifier\\keypoint_classifier.keras\n",
      "80/80 [==============================] - 0s 1ms/step - loss: 0.2502 - accuracy: 0.9077 - val_loss: 0.0623 - val_accuracy: 0.9886\n",
      "Epoch 197/1000\n",
      " 1/80 [..............................] - ETA: 0s - loss: 0.2462 - accuracy: 0.8984\n",
      "Epoch 197: saving model to model/keypoint_classifier\\keypoint_classifier.keras\n",
      "80/80 [==============================] - 0s 1ms/step - loss: 0.2487 - accuracy: 0.9106 - val_loss: 0.0612 - val_accuracy: 0.9870\n",
      "Epoch 198/1000\n",
      "77/80 [===========================>..] - ETA: 0s - loss: 0.2459 - accuracy: 0.9066\n",
      "Epoch 198: saving model to model/keypoint_classifier\\keypoint_classifier.keras\n",
      "80/80 [==============================] - 0s 1ms/step - loss: 0.2463 - accuracy: 0.9057 - val_loss: 0.0637 - val_accuracy: 0.9863\n",
      "Epoch 199/1000\n",
      "80/80 [==============================] - ETA: 0s - loss: 0.2488 - accuracy: 0.9099\n",
      "Epoch 199: saving model to model/keypoint_classifier\\keypoint_classifier.keras\n",
      "80/80 [==============================] - 0s 1ms/step - loss: 0.2488 - accuracy: 0.9099 - val_loss: 0.0612 - val_accuracy: 0.9859\n",
      "Epoch 200/1000\n",
      "78/80 [============================>.] - ETA: 0s - loss: 0.2490 - accuracy: 0.9099\n",
      "Epoch 200: saving model to model/keypoint_classifier\\keypoint_classifier.keras\n",
      "80/80 [==============================] - 0s 1ms/step - loss: 0.2489 - accuracy: 0.9101 - val_loss: 0.0601 - val_accuracy: 0.9859\n",
      "Epoch 201/1000\n",
      "79/80 [============================>.] - ETA: 0s - loss: 0.2437 - accuracy: 0.9125\n",
      "Epoch 201: saving model to model/keypoint_classifier\\keypoint_classifier.keras\n",
      "80/80 [==============================] - 0s 1ms/step - loss: 0.2436 - accuracy: 0.9125 - val_loss: 0.0636 - val_accuracy: 0.9870\n",
      "Epoch 202/1000\n",
      " 1/80 [..............................] - ETA: 0s - loss: 0.2207 - accuracy: 0.8906\n",
      "Epoch 202: saving model to model/keypoint_classifier\\keypoint_classifier.keras\n",
      "80/80 [==============================] - 0s 1ms/step - loss: 0.2484 - accuracy: 0.9090 - val_loss: 0.0608 - val_accuracy: 0.9863\n",
      "Epoch 202: early stopping\n"
     ]
    }
   ],
   "source": [
    "history = model.fit(\n",
    "    X_train,\n",
    "    y_train,\n",
    "    epochs=1000,\n",
    "    batch_size=128,\n",
    "    validation_data=(X_val, y_val),\n",
    "    callbacks=[cp_callback, es_callback]\n",
    ")"
   ]
  },
  {
   "cell_type": "code",
   "execution_count": 15,
   "metadata": {
    "colab": {
     "base_uri": "https://localhost:8080/"
    },
    "id": "pxvb2Y299hE3",
    "outputId": "59eb3185-2e37-4b9e-bc9d-ab1b8ac29b7f"
   },
   "outputs": [
    {
     "name": "stdout",
     "output_type": "stream",
     "text": [
      "20/20 [==============================] - 0s 526us/step - loss: 0.0608 - accuracy: 0.9863\n"
     ]
    }
   ],
   "source": [
    "# Model evaluation\n",
    "val_loss, val_acc = model.evaluate(X_val, y_val, batch_size=128)"
   ]
  },
  {
   "cell_type": "code",
   "execution_count": 16,
   "metadata": {
    "id": "RBkmDeUW9hE4"
   },
   "outputs": [],
   "source": [
    "# Loading the saved model\n",
    "model = tf.keras.models.load_model(model_save_path)"
   ]
  },
  {
   "cell_type": "code",
   "execution_count": 17,
   "metadata": {
    "colab": {
     "base_uri": "https://localhost:8080/"
    },
    "id": "tFz9Tb0I9hE4",
    "outputId": "1c3b3528-54ae-4ee2-ab04-77429211cbef"
   },
   "outputs": [
    {
     "name": "stdout",
     "output_type": "stream",
     "text": [
      "1/1 [==============================] - 0s 39ms/step\n",
      "[3.6119497e-03 1.4320534e-11 1.7029450e-27 8.6948217e-04 1.4176273e-02\n",
      " 7.8332869e-06 1.4126296e-22 9.8126203e-01 1.5723326e-33 7.2413772e-05]\n",
      "7\n"
     ]
    }
   ],
   "source": [
    "# Inference test\n",
    "predict_result = model.predict(np.array([X_test[0]]))\n",
    "print(np.squeeze(predict_result))\n",
    "print(np.argmax(np.squeeze(predict_result)))\n"
   ]
  },
  {
   "cell_type": "code",
   "execution_count": 18,
   "metadata": {},
   "outputs": [
    {
     "name": "stdout",
     "output_type": "stream",
     "text": [
      "[ 0.          0.         -0.07142857 -0.14732143 -0.04464286 -0.35714287\n",
      "  0.09821428 -0.42410713  0.25892857 -0.375       0.28125    -0.58928573\n",
      "  0.51339287 -0.79910713  0.67410713 -0.90625     0.81696427 -1.\n",
      "  0.39732143 -0.4732143   0.36160713 -0.5089286   0.19642857 -0.40625\n",
      "  0.13839285 -0.35714287  0.45089287 -0.3392857   0.3392857  -0.32589287\n",
      "  0.17410715 -0.25892857  0.12946428 -0.24553572  0.4642857  -0.20089285\n",
      "  0.30357143 -0.17410715  0.16071428 -0.13392857  0.125      -0.13392857]\n",
      "7\n"
     ]
    }
   ],
   "source": [
    "# Checking data and label\n",
    "print(X_test[0])\n",
    "print(y_test[0])"
   ]
  },
  {
   "cell_type": "code",
   "execution_count": 19,
   "metadata": {},
   "outputs": [
    {
     "data": {
      "image/png": "[encoded data removed]",
      "text/plain": [
       "<Figure size 1000x1000 with 2 Axes>"
      ]
     },
     "metadata": {},
     "output_type": "display_data"
    }
   ],
   "source": [
    "from matplotlib import pyplot\n",
    "pyplot.subplots(nrows = 2, ncols = 1, figsize=(10, 10))\n",
    "\n",
    "# Graph to show loss value over time during training (both training set and validating set)\n",
    "pyplot.subplot(2, 1, 1)\n",
    "pyplot.title('Loss')\n",
    "pyplot.xlabel('Epoch')\n",
    "pyplot.plot(history.history['loss'], label='train')\n",
    "pyplot.plot(history.history['val_loss'], label='validate')\n",
    "pyplot.legend()\n",
    "# Graph to show accuracy value over time during training (both training set and validating set)\n",
    "pyplot.subplot(2, 1, 2)\n",
    "pyplot.title('Accuracy')\n",
    "pyplot.xlabel('Epoch')\n",
    "pyplot.plot(history.history['accuracy'], label='train')\n",
    "pyplot.plot(history.history['val_accuracy'], label='validate')\n",
    "pyplot.legend()\n",
    "pyplot.show()"
   ]
  },
  {
   "cell_type": "markdown",
   "metadata": {
    "id": "S3U4yNWx9hE4"
   },
   "source": [
    "# Confusion matrix"
   ]
  },
  {
   "cell_type": "code",
   "execution_count": 30,
   "metadata": {
    "colab": {
     "base_uri": "https://localhost:8080/",
     "height": 582
    },
    "id": "AP1V6SCk9hE5",
    "outputId": "08e41a80-7a4a-4619-8125-ecc371368d19"
   },
   "outputs": [
    {
     "name": "stdout",
     "output_type": "stream",
     "text": [
      "40/40 [==============================] - 0s 359us/step\n"
     ]
    },
    {
     "data": {
      "image/png": "[encoded data removed]",
      "text/plain": [
       "<Figure size 700x600 with 2 Axes>"
      ]
     },
     "metadata": {},
     "output_type": "display_data"
    },
    {
     "name": "stdout",
     "output_type": "stream",
     "text": [
      "Classification Report\n",
      "              precision    recall  f1-score   support\n",
      "\n",
      "           0       1.00      1.00      1.00       159\n",
      "           1       1.00      1.00      1.00       120\n",
      "           2       1.00      1.00      1.00       100\n",
      "           3       1.00      1.00      1.00       120\n",
      "           4       1.00      0.89      0.94       183\n",
      "           5       0.87      1.00      0.93       131\n",
      "           6       1.00      1.00      1.00       145\n",
      "           7       1.00      1.00      1.00       111\n",
      "           8       1.00      1.00      1.00       110\n",
      "           9       1.00      1.00      1.00        94\n",
      "\n",
      "    accuracy                           0.98      1273\n",
      "   macro avg       0.99      0.99      0.99      1273\n",
      "weighted avg       0.99      0.98      0.98      1273\n",
      "\n"
     ]
    }
   ],
   "source": [
    "import pandas as pd\n",
    "import seaborn as sns\n",
    "import matplotlib.pyplot as plt\n",
    "from sklearn.metrics import confusion_matrix, classification_report\n",
    "\n",
    "def print_confusion_matrix(y_true, y_pred, report=True):\n",
    "    labels = sorted(list(set(y_true)))\n",
    "    cmx_data = confusion_matrix(y_true, y_pred, labels=labels)\n",
    "    \n",
    "    df_cmx = pd.DataFrame(cmx_data, index=labels, columns=labels)\n",
    " \n",
    "    fig, ax = plt.subplots(figsize=(7, 6))\n",
    "    sns.heatmap(df_cmx, annot=True, fmt='g' ,square=False)\n",
    "    ax.set_ylim(len(set(y_true)), 0)\n",
    "    plt.show()\n",
    "    \n",
    "    if report:\n",
    "        print('Classification Report')\n",
    "        print(classification_report(y_true, y_pred))\n",
    "\n",
    "Y_pred = model.predict(X_test)\n",
    "y_pred = np.argmax(Y_pred, axis=1)\n",
    "\n",
    "print_confusion_matrix(y_test, y_pred)\n",
    "\n"
   ]
  },
  {
   "cell_type": "code",
   "execution_count": 31,
   "metadata": {},
   "outputs": [
    {
     "name": "stdout",
     "output_type": "stream",
     "text": [
      "80/80 [==============================] - 0s 342us/step\n"
     ]
    },
    {
     "data": {
      "image/png": "[encoded data removed]",
      "text/plain": [
       "<Figure size 700x600 with 2 Axes>"
      ]
     },
     "metadata": {},
     "output_type": "display_data"
    },
    {
     "name": "stdout",
     "output_type": "stream",
     "text": [
      "Classification Report\n",
      "              precision    recall  f1-score   support\n",
      "\n",
      "           0       1.00      1.00      1.00       303\n",
      "           1       1.00      1.00      1.00       241\n",
      "           2       1.00      1.00      1.00       209\n",
      "           3       1.00      1.00      1.00       254\n",
      "           4       1.00      0.90      0.95       351\n",
      "           5       0.88      1.00      0.94       255\n",
      "           6       1.00      1.00      1.00       266\n",
      "           7       1.00      1.00      1.00       221\n",
      "           8       1.00      1.00      1.00       231\n",
      "           9       1.00      1.00      1.00       215\n",
      "\n",
      "    accuracy                           0.99      2546\n",
      "   macro avg       0.99      0.99      0.99      2546\n",
      "weighted avg       0.99      0.99      0.99      2546\n",
      "\n"
     ]
    }
   ],
   "source": [
    "Y_valpred = model.predict(X_val)\n",
    "y_valpred = np.argmax(Y_valpred, axis=1)\n",
    "\n",
    "print_confusion_matrix(y_val, y_valpred)"
   ]
  },
  {
   "cell_type": "markdown",
   "metadata": {
    "id": "FNP6aqzc9hE5"
   },
   "source": [
    "# Convert to model for Tensorflow-Lite"
   ]
  },
  {
   "cell_type": "code",
   "execution_count": 22,
   "metadata": {
    "id": "ODjnYyld9hE6"
   },
   "outputs": [],
   "source": [
    "# Save as a model dedicated to inference\n",
    "# model.save(model_save_path, include_optimizer=False)\n",
    "model.save(model_save_path)"
   ]
  },
  {
   "cell_type": "code",
   "execution_count": 23,
   "metadata": {
    "colab": {
     "base_uri": "https://localhost:8080/"
    },
    "id": "zRfuK8Y59hE6",
    "outputId": "a4ca585c-b5d5-4244-8291-8674063209bb"
   },
   "outputs": [
    {
     "name": "stdout",
     "output_type": "stream",
     "text": [
      "INFO:tensorflow:Assets written to: C:\\Users\\Admin\\AppData\\Local\\Temp\\tmp6xillspz\\assets\n"
     ]
    },
    {
     "name": "stderr",
     "output_type": "stream",
     "text": [
      "INFO:tensorflow:Assets written to: C:\\Users\\Admin\\AppData\\Local\\Temp\\tmp6xillspz\\assets\n"
     ]
    },
    {
     "data": {
      "text/plain": [
       "6808"
      ]
     },
     "execution_count": 23,
     "metadata": {},
     "output_type": "execute_result"
    }
   ],
   "source": [
    "# Transform model (quantization)\n",
    "\n",
    "converter = tf.lite.TFLiteConverter.from_keras_model(model)\n",
    "converter.optimizations = [tf.lite.Optimize.DEFAULT]\n",
    "# converter.target_spec.supported_ops = [\n",
    "#                 tf.lite.OpsSet.TFLITE_BUILTINS,  # enable TensorFlow Lite ops.\n",
    "#                 tf.lite.OpsSet.SELECT_TF_OPS  # enable TensorFlow ops.\n",
    "#             ]\n",
    "tflite_quantized_model = converter.convert()\n",
    "\n",
    "open(tflite_save_path, 'wb').write(tflite_quantized_model)"
   ]
  },
  {
   "cell_type": "markdown",
   "metadata": {
    "id": "CHBPBXdx9hE6"
   },
   "source": [
    "# Inference test"
   ]
  },
  {
   "cell_type": "code",
   "execution_count": 24,
   "metadata": {
    "id": "mGAzLocO9hE7"
   },
   "outputs": [],
   "source": [
    "interpreter = tf.lite.Interpreter(model_path=tflite_save_path)\n",
    "interpreter.allocate_tensors()"
   ]
  },
  {
   "cell_type": "code",
   "execution_count": 25,
   "metadata": {
    "id": "oQuDK8YS9hE7"
   },
   "outputs": [],
   "source": [
    "# Get I / O tensor\n",
    "input_details = interpreter.get_input_details()\n",
    "output_details = interpreter.get_output_details()"
   ]
  },
  {
   "cell_type": "code",
   "execution_count": 26,
   "metadata": {
    "id": "2_ixAf_l9hE7"
   },
   "outputs": [],
   "source": [
    "interpreter.set_tensor(input_details[0]['index'], np.array([X_test[0]]))"
   ]
  },
  {
   "cell_type": "code",
   "execution_count": 27,
   "metadata": {
    "colab": {
     "base_uri": "https://localhost:8080/"
    },
    "id": "s4FoAnuc9hE7",
    "outputId": "91f18257-8d8b-4ef3-c558-e9b5f94fabbf",
    "scrolled": true
   },
   "outputs": [
    {
     "name": "stdout",
     "output_type": "stream",
     "text": [
      "CPU times: total: 0 ns\n",
      "Wall time: 0 ns\n"
     ]
    }
   ],
   "source": [
    "%%time\n",
    "# Inference implementation\n",
    "interpreter.invoke()\n",
    "tflite_results = interpreter.get_tensor(output_details[0]['index'])"
   ]
  },
  {
   "cell_type": "code",
   "execution_count": 28,
   "metadata": {
    "colab": {
     "base_uri": "https://localhost:8080/"
    },
    "id": "vONjp19J9hE8",
    "outputId": "77205e24-fd00-42c4-f7b6-e06e527c2cba"
   },
   "outputs": [
    {
     "name": "stdout",
     "output_type": "stream",
     "text": [
      "[3.6119409e-03 1.4320534e-11 1.7029448e-27 8.6948124e-04 1.4176266e-02\n",
      " 7.8332714e-06 1.4126298e-22 9.8126203e-01 1.5723444e-33 7.2413699e-05]\n",
      "7\n"
     ]
    }
   ],
   "source": [
    "print(np.squeeze(tflite_results))\n",
    "print(np.argmax(np.squeeze(tflite_results)))"
   ]
  }
 ],
 "metadata": {
  "accelerator": "GPU",
  "colab": {
   "collapsed_sections": [],
   "name": "keypoint_classification_EN.ipynb",
   "provenance": [],
   "toc_visible": true
  },
  "kernelspec": {
   "display_name": "Python 3 (ipykernel)",
   "language": "python",
   "name": "python3"
  },
  "language_info": {
   "codemirror_mode": {
    "name": "ipython",
    "version": 3
   },
   "file_extension": ".py",
   "mimetype": "text/x-python",
   "name": "python",
   "nbconvert_exporter": "python",
   "pygments_lexer": "ipython3",
   "version": "3.11.5"
  }
 },
 "nbformat": 4,
 "nbformat_minor": 4
}
