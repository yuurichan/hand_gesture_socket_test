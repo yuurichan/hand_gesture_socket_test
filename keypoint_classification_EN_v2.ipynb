{
 "cells": [
  {
   "cell_type": "code",
   "execution_count": 1,
   "metadata": {
    "id": "igMyGnjE9hEp"
   },
   "outputs": [],
   "source": [
    "import csv\n",
    "\n",
    "import numpy as np\n",
    "import tensorflow as tf\n",
    "from sklearn.model_selection import train_test_split\n",
    "\n",
    "RANDOM_SEED = 42"
   ]
  },
  {
   "cell_type": "code",
   "execution_count": 2,
   "metadata": {},
   "outputs": [
    {
     "data": {
      "text/plain": [
       "'2.13.0'"
      ]
     },
     "execution_count": 2,
     "metadata": {},
     "output_type": "execute_result"
    }
   ],
   "source": [
    "tf.__version__"
   ]
  },
  {
   "cell_type": "markdown",
   "metadata": {
    "id": "t2HDvhIu9hEr"
   },
   "source": [
    "# Specify each path"
   ]
  },
  {
   "cell_type": "code",
   "execution_count": 3,
   "metadata": {
    "id": "9NvZP2Zn9hEy"
   },
   "outputs": [],
   "source": [
    "dataset = 'model/keypoint_classifier/keypoint.csv'\n",
    "model_save_path = 'model/keypoint_classifier/keypoint_classifier.keras'\n",
    "tflite_save_path = 'model/keypoint_classifier/keypoint_classifier.tflite'"
   ]
  },
  {
   "cell_type": "markdown",
   "metadata": {
    "id": "s5oMH7x19hEz"
   },
   "source": [
    "# Set number of classes"
   ]
  },
  {
   "cell_type": "code",
   "execution_count": 4,
   "metadata": {
    "id": "du4kodXL9hEz"
   },
   "outputs": [],
   "source": [
    "NUM_CLASSES = 10"
   ]
  },
  {
   "cell_type": "markdown",
   "metadata": {
    "id": "XjnL0uso9hEz"
   },
   "source": [
    "# Dataset reading\n"
   ]
  },
  {
   "cell_type": "markdown",
   "metadata": {},
   "source": [
    "## Giá trị của dữ liệu"
   ]
  },
  {
   "cell_type": "code",
   "execution_count": 5,
   "metadata": {
    "id": "QT5ZqtEz9hE0"
   },
   "outputs": [],
   "source": [
    "X_dataset = np.loadtxt(dataset, delimiter=',', dtype='float32', usecols=list(range(1, (21 * 2) + 1)))"
   ]
  },
  {
   "cell_type": "markdown",
   "metadata": {},
   "source": [
    "## Nhãn của dữ liệu"
   ]
  },
  {
   "cell_type": "code",
   "execution_count": 6,
   "metadata": {
    "id": "QmoKFsp49hE0"
   },
   "outputs": [],
   "source": [
    "y_dataset = np.loadtxt(dataset, delimiter=',', dtype='int32', usecols=(0))"
   ]
  },
  {
   "cell_type": "markdown",
   "metadata": {},
   "source": [
    "## Chia tập dữ liệu"
   ]
  },
  {
   "cell_type": "code",
   "execution_count": 7,
   "metadata": {
    "id": "xQU7JTZ_9hE0"
   },
   "outputs": [],
   "source": [
    "X_train, X_test, y_train, y_test = train_test_split(X_dataset, y_dataset, train_size=0.75, random_state=RANDOM_SEED)"
   ]
  },
  {
   "cell_type": "markdown",
   "metadata": {
    "id": "mxK_lETT9hE0"
   },
   "source": [
    "# Model building"
   ]
  },
  {
   "cell_type": "code",
   "execution_count": 8,
   "metadata": {
    "id": "vHBmUf1t9hE1"
   },
   "outputs": [],
   "source": [
    "model = tf.keras.models.Sequential([\n",
    "    tf.keras.layers.Input((21 * 2, )),\n",
    "    tf.keras.layers.Dropout(0.2),\n",
    "    tf.keras.layers.Dense(20, activation='relu'),\n",
    "    tf.keras.layers.Dropout(0.4),\n",
    "    tf.keras.layers.Dense(10, activation='relu'),\n",
    "    tf.keras.layers.Dense(NUM_CLASSES, activation='softmax')\n",
    "])"
   ]
  },
  {
   "cell_type": "code",
   "execution_count": 9,
   "metadata": {
    "colab": {
     "base_uri": "https://localhost:8080/"
    },
    "id": "ypqky9tc9hE1",
    "outputId": "5db082bb-30e3-4110-bf63-a1ee777ecd46"
   },
   "outputs": [
    {
     "name": "stdout",
     "output_type": "stream",
     "text": [
      "Model: \"sequential\"\n",
      "_________________________________________________________________\n",
      " Layer (type)                Output Shape              Param #   \n",
      "=================================================================\n",
      " dropout (Dropout)           (None, 42)                0         \n",
      "                                                                 \n",
      " dense (Dense)               (None, 20)                860       \n",
      "                                                                 \n",
      " dropout_1 (Dropout)         (None, 20)                0         \n",
      "                                                                 \n",
      " dense_1 (Dense)             (None, 10)                210       \n",
      "                                                                 \n",
      " dense_2 (Dense)             (None, 10)                110       \n",
      "                                                                 \n",
      "=================================================================\n",
      "Total params: 1180 (4.61 KB)\n",
      "Trainable params: 1180 (4.61 KB)\n",
      "Non-trainable params: 0 (0.00 Byte)\n",
      "_________________________________________________________________\n"
     ]
    }
   ],
   "source": [
    "model.summary()  # tf.keras.utils.plot_model(model, show_shapes=True)"
   ]
  },
  {
   "cell_type": "code",
   "execution_count": 10,
   "metadata": {
    "id": "MbMjOflQ9hE1"
   },
   "outputs": [],
   "source": [
    "# Model checkpoint callback\n",
    "cp_callback = tf.keras.callbacks.ModelCheckpoint(\n",
    "    model_save_path, verbose=1, save_weights_only=False)\n",
    "# Callback for early stopping\n",
    "es_callback = tf.keras.callbacks.EarlyStopping(patience=20, verbose=1)"
   ]
  },
  {
   "cell_type": "code",
   "execution_count": 11,
   "metadata": {
    "id": "c3Dac0M_9hE2"
   },
   "outputs": [],
   "source": [
    "# Model compilation\n",
    "model.compile(\n",
    "    optimizer='adam',\n",
    "    loss='sparse_categorical_crossentropy',\n",
    "    metrics=['accuracy']\n",
    ")"
   ]
  },
  {
   "cell_type": "markdown",
   "metadata": {
    "id": "7XI0j1Iu9hE2"
   },
   "source": [
    "# Model training"
   ]
  },
  {
   "cell_type": "code",
   "execution_count": 12,
   "metadata": {
    "colab": {
     "base_uri": "https://localhost:8080/"
    },
    "id": "WirBl-JE9hE3",
    "outputId": "71b30ca2-8294-4d9d-8aa2-800d90d399de",
    "scrolled": true
   },
   "outputs": [
    {
     "name": "stdout",
     "output_type": "stream",
     "text": [
      "Epoch 1/1000\n",
      "71/73 [============================>.] - ETA: 0s - loss: 2.1274 - accuracy: 0.2596 \n",
      "Epoch 1: saving model to model/keypoint_classifier\\keypoint_classifier.keras\n",
      "73/73 [==============================] - 1s 3ms/step - loss: 2.1258 - accuracy: 0.2601 - val_loss: 1.8411 - val_accuracy: 0.4543\n",
      "Epoch 2/1000\n",
      " 1/73 [..............................] - ETA: 0s - loss: 1.8537 - accuracy: 0.3438\n",
      "Epoch 2: saving model to model/keypoint_classifier\\keypoint_classifier.keras\n",
      "73/73 [==============================] - 0s 1ms/step - loss: 1.7390 - accuracy: 0.3989 - val_loss: 1.3684 - val_accuracy: 0.6889\n",
      "Epoch 3/1000\n",
      " 1/73 [..............................] - ETA: 0s - loss: 1.4707 - accuracy: 0.5391\n",
      "Epoch 3: saving model to model/keypoint_classifier\\keypoint_classifier.keras\n",
      "73/73 [==============================] - 0s 1ms/step - loss: 1.3889 - accuracy: 0.5202 - val_loss: 1.0498 - val_accuracy: 0.7387\n",
      "Epoch 4/1000\n",
      " 1/73 [..............................] - ETA: 0s - loss: 1.4667 - accuracy: 0.4297\n",
      "Epoch 4: saving model to model/keypoint_classifier\\keypoint_classifier.keras\n",
      "73/73 [==============================] - 0s 1ms/step - loss: 1.1913 - accuracy: 0.5656 - val_loss: 0.8373 - val_accuracy: 0.7576\n",
      "Epoch 5/1000\n",
      " 1/73 [..............................] - ETA: 0s - loss: 1.0427 - accuracy: 0.5859\n",
      "Epoch 5: saving model to model/keypoint_classifier\\keypoint_classifier.keras\n",
      "73/73 [==============================] - 0s 1ms/step - loss: 1.0153 - accuracy: 0.6240 - val_loss: 0.6586 - val_accuracy: 0.8627\n",
      "Epoch 6/1000\n",
      " 1/73 [..............................] - ETA: 0s - loss: 1.0079 - accuracy: 0.6406\n",
      "Epoch 6: saving model to model/keypoint_classifier\\keypoint_classifier.keras\n",
      "73/73 [==============================] - 0s 1ms/step - loss: 0.8724 - accuracy: 0.6995 - val_loss: 0.5136 - val_accuracy: 0.8955\n",
      "Epoch 7/1000\n",
      " 1/73 [..............................] - ETA: 0s - loss: 0.8270 - accuracy: 0.6797\n",
      "Epoch 7: saving model to model/keypoint_classifier\\keypoint_classifier.keras\n",
      "73/73 [==============================] - 0s 1ms/step - loss: 0.7538 - accuracy: 0.7284 - val_loss: 0.4043 - val_accuracy: 0.9092\n",
      "Epoch 8/1000\n",
      " 1/73 [..............................] - ETA: 0s - loss: 0.6385 - accuracy: 0.7422\n",
      "Epoch 8: saving model to model/keypoint_classifier\\keypoint_classifier.keras\n",
      "73/73 [==============================] - 0s 1ms/step - loss: 0.6678 - accuracy: 0.7511 - val_loss: 0.3417 - val_accuracy: 0.9050\n",
      "Epoch 9/1000\n",
      " 1/73 [..............................] - ETA: 0s - loss: 0.6528 - accuracy: 0.7734\n",
      "Epoch 9: saving model to model/keypoint_classifier\\keypoint_classifier.keras\n",
      "73/73 [==============================] - 0s 1ms/step - loss: 0.6047 - accuracy: 0.7749 - val_loss: 0.2939 - val_accuracy: 0.9099\n",
      "Epoch 10/1000\n",
      " 1/73 [..............................] - ETA: 0s - loss: 0.5691 - accuracy: 0.8047\n",
      "Epoch 10: saving model to model/keypoint_classifier\\keypoint_classifier.keras\n",
      "73/73 [==============================] - 0s 1ms/step - loss: 0.5609 - accuracy: 0.7880 - val_loss: 0.2626 - val_accuracy: 0.9203\n",
      "Epoch 11/1000\n",
      " 1/73 [..............................] - ETA: 0s - loss: 0.6052 - accuracy: 0.7422\n",
      "Epoch 11: saving model to model/keypoint_classifier\\keypoint_classifier.keras\n",
      "73/73 [==============================] - 0s 1ms/step - loss: 0.5425 - accuracy: 0.7933 - val_loss: 0.2484 - val_accuracy: 0.9212\n",
      "Epoch 12/1000\n",
      " 1/73 [..............................] - ETA: 0s - loss: 0.4732 - accuracy: 0.8047\n",
      "Epoch 12: saving model to model/keypoint_classifier\\keypoint_classifier.keras\n",
      "73/73 [==============================] - 0s 1ms/step - loss: 0.5103 - accuracy: 0.8055 - val_loss: 0.2332 - val_accuracy: 0.9186\n",
      "Epoch 13/1000\n",
      " 1/73 [..............................] - ETA: 0s - loss: 0.4019 - accuracy: 0.8359\n",
      "Epoch 13: saving model to model/keypoint_classifier\\keypoint_classifier.keras\n",
      "73/73 [==============================] - 0s 1ms/step - loss: 0.4857 - accuracy: 0.8141 - val_loss: 0.2217 - val_accuracy: 0.9180\n",
      "Epoch 14/1000\n",
      " 1/73 [..............................] - ETA: 0s - loss: 0.5289 - accuracy: 0.8047\n",
      "Epoch 14: saving model to model/keypoint_classifier\\keypoint_classifier.keras\n",
      "73/73 [==============================] - 0s 1ms/step - loss: 0.4787 - accuracy: 0.8162 - val_loss: 0.2159 - val_accuracy: 0.9212\n",
      "Epoch 15/1000\n",
      " 1/73 [..............................] - ETA: 0s - loss: 0.6253 - accuracy: 0.7656\n",
      "Epoch 15: saving model to model/keypoint_classifier\\keypoint_classifier.keras\n",
      "73/73 [==============================] - 0s 1ms/step - loss: 0.4535 - accuracy: 0.8238 - val_loss: 0.2045 - val_accuracy: 0.9196\n",
      "Epoch 16/1000\n",
      " 1/73 [..............................] - ETA: 0s - loss: 0.4366 - accuracy: 0.8906\n",
      "Epoch 16: saving model to model/keypoint_classifier\\keypoint_classifier.keras\n",
      "73/73 [==============================] - 0s 1ms/step - loss: 0.4406 - accuracy: 0.8304 - val_loss: 0.2007 - val_accuracy: 0.9248\n",
      "Epoch 17/1000\n",
      " 1/73 [..............................] - ETA: 0s - loss: 0.4244 - accuracy: 0.8281\n",
      "Epoch 17: saving model to model/keypoint_classifier\\keypoint_classifier.keras\n",
      "73/73 [==============================] - 0s 1ms/step - loss: 0.4305 - accuracy: 0.8303 - val_loss: 0.1916 - val_accuracy: 0.9287\n",
      "Epoch 18/1000\n",
      " 1/73 [..............................] - ETA: 0s - loss: 0.3805 - accuracy: 0.8203\n",
      "Epoch 18: saving model to model/keypoint_classifier\\keypoint_classifier.keras\n",
      "73/73 [==============================] - 0s 1ms/step - loss: 0.4268 - accuracy: 0.8348 - val_loss: 0.1916 - val_accuracy: 0.9226\n",
      "Epoch 19/1000\n",
      " 1/73 [..............................] - ETA: 0s - loss: 0.2989 - accuracy: 0.8828\n",
      "Epoch 19: saving model to model/keypoint_classifier\\keypoint_classifier.keras\n",
      "73/73 [==============================] - 0s 1ms/step - loss: 0.4060 - accuracy: 0.8399 - val_loss: 0.1869 - val_accuracy: 0.9278\n",
      "Epoch 20/1000\n",
      " 1/73 [..............................] - ETA: 0s - loss: 0.4024 - accuracy: 0.8359\n",
      "Epoch 20: saving model to model/keypoint_classifier\\keypoint_classifier.keras\n",
      "73/73 [==============================] - 0s 1ms/step - loss: 0.4038 - accuracy: 0.8435 - val_loss: 0.1791 - val_accuracy: 0.9336\n",
      "Epoch 21/1000\n",
      " 1/73 [..............................] - ETA: 0s - loss: 0.4349 - accuracy: 0.8359\n",
      "Epoch 21: saving model to model/keypoint_classifier\\keypoint_classifier.keras\n",
      "73/73 [==============================] - 0s 1ms/step - loss: 0.3937 - accuracy: 0.8480 - val_loss: 0.1809 - val_accuracy: 0.9258\n",
      "Epoch 22/1000\n",
      " 1/73 [..............................] - ETA: 0s - loss: 0.3857 - accuracy: 0.8125\n",
      "Epoch 22: saving model to model/keypoint_classifier\\keypoint_classifier.keras\n",
      "73/73 [==============================] - 0s 1ms/step - loss: 0.3742 - accuracy: 0.8487 - val_loss: 0.1664 - val_accuracy: 0.9346\n",
      "Epoch 23/1000\n",
      " 1/73 [..............................] - ETA: 0s - loss: 0.3500 - accuracy: 0.8984\n",
      "Epoch 23: saving model to model/keypoint_classifier\\keypoint_classifier.keras\n",
      "73/73 [==============================] - 0s 1ms/step - loss: 0.3769 - accuracy: 0.8554 - val_loss: 0.1711 - val_accuracy: 0.9349\n",
      "Epoch 24/1000\n",
      " 1/73 [..............................] - ETA: 0s - loss: 0.4411 - accuracy: 0.8203\n",
      "Epoch 24: saving model to model/keypoint_classifier\\keypoint_classifier.keras\n",
      "73/73 [==============================] - 0s 1ms/step - loss: 0.3706 - accuracy: 0.8567 - val_loss: 0.1687 - val_accuracy: 0.9382\n",
      "Epoch 25/1000\n",
      " 1/73 [..............................] - ETA: 0s - loss: 0.3794 - accuracy: 0.8203\n",
      "Epoch 25: saving model to model/keypoint_classifier\\keypoint_classifier.keras\n",
      "73/73 [==============================] - 0s 1ms/step - loss: 0.3667 - accuracy: 0.8555 - val_loss: 0.1649 - val_accuracy: 0.9352\n",
      "Epoch 26/1000\n",
      " 1/73 [..............................] - ETA: 0s - loss: 0.3270 - accuracy: 0.8906\n",
      "Epoch 26: saving model to model/keypoint_classifier\\keypoint_classifier.keras\n",
      "73/73 [==============================] - 0s 1ms/step - loss: 0.3684 - accuracy: 0.8555 - val_loss: 0.1602 - val_accuracy: 0.9421\n",
      "Epoch 27/1000\n",
      " 1/73 [..............................] - ETA: 0s - loss: 0.2640 - accuracy: 0.8750\n",
      "Epoch 27: saving model to model/keypoint_classifier\\keypoint_classifier.keras\n",
      "73/73 [==============================] - 0s 1ms/step - loss: 0.3632 - accuracy: 0.8568 - val_loss: 0.1558 - val_accuracy: 0.9421\n",
      "Epoch 28/1000\n",
      " 1/73 [..............................] - ETA: 0s - loss: 0.2994 - accuracy: 0.8750\n",
      "Epoch 28: saving model to model/keypoint_classifier\\keypoint_classifier.keras\n",
      "73/73 [==============================] - 0s 1ms/step - loss: 0.3544 - accuracy: 0.8619 - val_loss: 0.1595 - val_accuracy: 0.9408\n",
      "Epoch 29/1000\n",
      " 1/73 [..............................] - ETA: 0s - loss: 0.3154 - accuracy: 0.9141\n",
      "Epoch 29: saving model to model/keypoint_classifier\\keypoint_classifier.keras\n",
      "73/73 [==============================] - 0s 1ms/step - loss: 0.3504 - accuracy: 0.8657 - val_loss: 0.1556 - val_accuracy: 0.9437\n",
      "Epoch 30/1000\n",
      " 1/73 [..............................] - ETA: 0s - loss: 0.3492 - accuracy: 0.8516\n",
      "Epoch 30: saving model to model/keypoint_classifier\\keypoint_classifier.keras\n",
      "73/73 [==============================] - 0s 1ms/step - loss: 0.3407 - accuracy: 0.8673 - val_loss: 0.1554 - val_accuracy: 0.9398\n",
      "Epoch 31/1000\n",
      " 1/73 [..............................] - ETA: 0s - loss: 0.2475 - accuracy: 0.9531\n",
      "Epoch 31: saving model to model/keypoint_classifier\\keypoint_classifier.keras\n",
      "73/73 [==============================] - 0s 1ms/step - loss: 0.3455 - accuracy: 0.8672 - val_loss: 0.1523 - val_accuracy: 0.9437\n",
      "Epoch 32/1000\n",
      " 1/73 [..............................] - ETA: 0s - loss: 0.2511 - accuracy: 0.9219\n",
      "Epoch 32: saving model to model/keypoint_classifier\\keypoint_classifier.keras\n",
      "73/73 [==============================] - 0s 1ms/step - loss: 0.3297 - accuracy: 0.8724 - val_loss: 0.1463 - val_accuracy: 0.9502\n",
      "Epoch 33/1000\n",
      " 1/73 [..............................] - ETA: 0s - loss: 0.3750 - accuracy: 0.8125\n",
      "Epoch 33: saving model to model/keypoint_classifier\\keypoint_classifier.keras\n",
      "73/73 [==============================] - 0s 1ms/step - loss: 0.3367 - accuracy: 0.8713 - val_loss: 0.1444 - val_accuracy: 0.9502\n",
      "Epoch 34/1000\n",
      " 1/73 [..............................] - ETA: 0s - loss: 0.3273 - accuracy: 0.8828\n",
      "Epoch 34: saving model to model/keypoint_classifier\\keypoint_classifier.keras\n",
      "73/73 [==============================] - 0s 1ms/step - loss: 0.3210 - accuracy: 0.8734 - val_loss: 0.1381 - val_accuracy: 0.9544\n",
      "Epoch 35/1000\n",
      " 1/73 [..............................] - ETA: 0s - loss: 0.3348 - accuracy: 0.8438\n",
      "Epoch 35: saving model to model/keypoint_classifier\\keypoint_classifier.keras\n",
      "73/73 [==============================] - 0s 1ms/step - loss: 0.3272 - accuracy: 0.8767 - val_loss: 0.1428 - val_accuracy: 0.9515\n",
      "Epoch 36/1000\n",
      " 1/73 [..............................] - ETA: 0s - loss: 0.2194 - accuracy: 0.9219\n",
      "Epoch 36: saving model to model/keypoint_classifier\\keypoint_classifier.keras\n",
      "73/73 [==============================] - 0s 1ms/step - loss: 0.3092 - accuracy: 0.8797 - val_loss: 0.1420 - val_accuracy: 0.9596\n",
      "Epoch 37/1000\n",
      " 1/73 [..............................] - ETA: 0s - loss: 0.3143 - accuracy: 0.8750\n",
      "Epoch 37: saving model to model/keypoint_classifier\\keypoint_classifier.keras\n",
      "73/73 [==============================] - 0s 1ms/step - loss: 0.3164 - accuracy: 0.8787 - val_loss: 0.1351 - val_accuracy: 0.9483\n",
      "Epoch 38/1000\n",
      " 1/73 [..............................] - ETA: 0s - loss: 0.3152 - accuracy: 0.9141\n",
      "Epoch 38: saving model to model/keypoint_classifier\\keypoint_classifier.keras\n",
      "73/73 [==============================] - 0s 1ms/step - loss: 0.3104 - accuracy: 0.8833 - val_loss: 0.1324 - val_accuracy: 0.9531\n",
      "Epoch 39/1000\n",
      " 1/73 [..............................] - ETA: 0s - loss: 0.2580 - accuracy: 0.9297\n",
      "Epoch 39: saving model to model/keypoint_classifier\\keypoint_classifier.keras\n",
      "73/73 [==============================] - 0s 1ms/step - loss: 0.3025 - accuracy: 0.8844 - val_loss: 0.1316 - val_accuracy: 0.9541\n",
      "Epoch 40/1000\n",
      " 1/73 [..............................] - ETA: 0s - loss: 0.4350 - accuracy: 0.8281\n",
      "Epoch 40: saving model to model/keypoint_classifier\\keypoint_classifier.keras\n",
      "73/73 [==============================] - 0s 1ms/step - loss: 0.3244 - accuracy: 0.8772 - val_loss: 0.1302 - val_accuracy: 0.9551\n",
      "Epoch 41/1000\n",
      " 1/73 [..............................] - ETA: 0s - loss: 0.2303 - accuracy: 0.9297\n",
      "Epoch 41: saving model to model/keypoint_classifier\\keypoint_classifier.keras\n",
      "73/73 [==============================] - 0s 1ms/step - loss: 0.3067 - accuracy: 0.8860 - val_loss: 0.1307 - val_accuracy: 0.9590\n",
      "Epoch 42/1000\n",
      " 1/73 [..............................] - ETA: 0s - loss: 0.3974 - accuracy: 0.8594\n",
      "Epoch 42: saving model to model/keypoint_classifier\\keypoint_classifier.keras\n",
      "73/73 [==============================] - 0s 1ms/step - loss: 0.3066 - accuracy: 0.8864 - val_loss: 0.1237 - val_accuracy: 0.9587\n",
      "Epoch 43/1000\n",
      " 1/73 [..............................] - ETA: 0s - loss: 0.2587 - accuracy: 0.9141\n",
      "Epoch 43: saving model to model/keypoint_classifier\\keypoint_classifier.keras\n",
      "73/73 [==============================] - 0s 1ms/step - loss: 0.3040 - accuracy: 0.8821 - val_loss: 0.1265 - val_accuracy: 0.9538\n",
      "Epoch 44/1000\n",
      " 1/73 [..............................] - ETA: 0s - loss: 0.2855 - accuracy: 0.8750\n",
      "Epoch 44: saving model to model/keypoint_classifier\\keypoint_classifier.keras\n",
      "73/73 [==============================] - 0s 1ms/step - loss: 0.2976 - accuracy: 0.8840 - val_loss: 0.1260 - val_accuracy: 0.9587\n",
      "Epoch 45/1000\n",
      " 1/73 [..............................] - ETA: 0s - loss: 0.2375 - accuracy: 0.9219\n",
      "Epoch 45: saving model to model/keypoint_classifier\\keypoint_classifier.keras\n",
      "73/73 [==============================] - 0s 1ms/step - loss: 0.2919 - accuracy: 0.8858 - val_loss: 0.1231 - val_accuracy: 0.9616\n",
      "Epoch 46/1000\n",
      " 1/73 [..............................] - ETA: 0s - loss: 0.2786 - accuracy: 0.8828\n",
      "Epoch 46: saving model to model/keypoint_classifier\\keypoint_classifier.keras\n",
      "73/73 [==============================] - 0s 1ms/step - loss: 0.2926 - accuracy: 0.8897 - val_loss: 0.1203 - val_accuracy: 0.9564\n",
      "Epoch 47/1000\n",
      " 1/73 [..............................] - ETA: 0s - loss: 0.2558 - accuracy: 0.8828\n",
      "Epoch 47: saving model to model/keypoint_classifier\\keypoint_classifier.keras\n",
      "73/73 [==============================] - 0s 1ms/step - loss: 0.2891 - accuracy: 0.8926 - val_loss: 0.1170 - val_accuracy: 0.9632\n",
      "Epoch 48/1000\n",
      " 1/73 [..............................] - ETA: 0s - loss: 0.2546 - accuracy: 0.8906\n",
      "Epoch 48: saving model to model/keypoint_classifier\\keypoint_classifier.keras\n",
      "73/73 [==============================] - 0s 1ms/step - loss: 0.3045 - accuracy: 0.8871 - val_loss: 0.1185 - val_accuracy: 0.9587\n",
      "Epoch 49/1000\n",
      " 1/73 [..............................] - ETA: 0s - loss: 0.3679 - accuracy: 0.8906\n",
      "Epoch 49: saving model to model/keypoint_classifier\\keypoint_classifier.keras\n",
      "73/73 [==============================] - 0s 1ms/step - loss: 0.2928 - accuracy: 0.8877 - val_loss: 0.1199 - val_accuracy: 0.9590\n",
      "Epoch 50/1000\n",
      " 1/73 [..............................] - ETA: 0s - loss: 0.3813 - accuracy: 0.8750\n",
      "Epoch 50: saving model to model/keypoint_classifier\\keypoint_classifier.keras\n",
      "73/73 [==============================] - 0s 1ms/step - loss: 0.3094 - accuracy: 0.8860 - val_loss: 0.1204 - val_accuracy: 0.9727\n",
      "Epoch 51/1000\n",
      " 1/73 [..............................] - ETA: 0s - loss: 0.1864 - accuracy: 0.9531\n",
      "Epoch 51: saving model to model/keypoint_classifier\\keypoint_classifier.keras\n",
      "73/73 [==============================] - 0s 1ms/step - loss: 0.2892 - accuracy: 0.8934 - val_loss: 0.1153 - val_accuracy: 0.9671\n",
      "Epoch 52/1000\n",
      " 1/73 [..............................] - ETA: 0s - loss: 0.3423 - accuracy: 0.8750\n",
      "Epoch 52: saving model to model/keypoint_classifier\\keypoint_classifier.keras\n",
      "73/73 [==============================] - 0s 1ms/step - loss: 0.2964 - accuracy: 0.8937 - val_loss: 0.1212 - val_accuracy: 0.9606\n",
      "Epoch 53/1000\n",
      " 1/73 [..............................] - ETA: 0s - loss: 0.3260 - accuracy: 0.8750\n",
      "Epoch 53: saving model to model/keypoint_classifier\\keypoint_classifier.keras\n",
      "73/73 [==============================] - 0s 1ms/step - loss: 0.2824 - accuracy: 0.8944 - val_loss: 0.1148 - val_accuracy: 0.9746\n",
      "Epoch 54/1000\n",
      " 1/73 [..............................] - ETA: 0s - loss: 0.2430 - accuracy: 0.9062\n",
      "Epoch 54: saving model to model/keypoint_classifier\\keypoint_classifier.keras\n",
      "73/73 [==============================] - 0s 1ms/step - loss: 0.2878 - accuracy: 0.8950 - val_loss: 0.1114 - val_accuracy: 0.9645\n",
      "Epoch 55/1000\n",
      " 1/73 [..............................] - ETA: 0s - loss: 0.2707 - accuracy: 0.8906\n",
      "Epoch 55: saving model to model/keypoint_classifier\\keypoint_classifier.keras\n",
      "73/73 [==============================] - 0s 1ms/step - loss: 0.2890 - accuracy: 0.8956 - val_loss: 0.1131 - val_accuracy: 0.9710\n",
      "Epoch 56/1000\n",
      " 1/73 [..............................] - ETA: 0s - loss: 0.3230 - accuracy: 0.8750\n",
      "Epoch 56: saving model to model/keypoint_classifier\\keypoint_classifier.keras\n",
      "73/73 [==============================] - 0s 1ms/step - loss: 0.2816 - accuracy: 0.8950 - val_loss: 0.1147 - val_accuracy: 0.9701\n",
      "Epoch 57/1000\n",
      " 1/73 [..............................] - ETA: 0s - loss: 0.2752 - accuracy: 0.9062\n",
      "Epoch 57: saving model to model/keypoint_classifier\\keypoint_classifier.keras\n",
      "73/73 [==============================] - 0s 1ms/step - loss: 0.2808 - accuracy: 0.8974 - val_loss: 0.1116 - val_accuracy: 0.9645\n",
      "Epoch 58/1000\n",
      " 1/73 [..............................] - ETA: 0s - loss: 0.3162 - accuracy: 0.8906\n",
      "Epoch 58: saving model to model/keypoint_classifier\\keypoint_classifier.keras\n",
      "73/73 [==============================] - 0s 1ms/step - loss: 0.2705 - accuracy: 0.9006 - val_loss: 0.1094 - val_accuracy: 0.9632\n",
      "Epoch 59/1000\n",
      " 1/73 [..............................] - ETA: 0s - loss: 0.2201 - accuracy: 0.8984\n",
      "Epoch 59: saving model to model/keypoint_classifier\\keypoint_classifier.keras\n",
      "73/73 [==============================] - 0s 1ms/step - loss: 0.2823 - accuracy: 0.8950 - val_loss: 0.1089 - val_accuracy: 0.9665\n",
      "Epoch 60/1000\n",
      " 1/73 [..............................] - ETA: 0s - loss: 0.2850 - accuracy: 0.9141\n",
      "Epoch 60: saving model to model/keypoint_classifier\\keypoint_classifier.keras\n",
      "73/73 [==============================] - 0s 1ms/step - loss: 0.2687 - accuracy: 0.9004 - val_loss: 0.1077 - val_accuracy: 0.9662\n",
      "Epoch 61/1000\n",
      " 1/73 [..............................] - ETA: 0s - loss: 0.3922 - accuracy: 0.8672\n",
      "Epoch 61: saving model to model/keypoint_classifier\\keypoint_classifier.keras\n",
      "73/73 [==============================] - 0s 1ms/step - loss: 0.2720 - accuracy: 0.8961 - val_loss: 0.1091 - val_accuracy: 0.9636\n",
      "Epoch 62/1000\n",
      " 1/73 [..............................] - ETA: 0s - loss: 0.2750 - accuracy: 0.8750\n",
      "Epoch 62: saving model to model/keypoint_classifier\\keypoint_classifier.keras\n",
      "73/73 [==============================] - 0s 1ms/step - loss: 0.2831 - accuracy: 0.8957 - val_loss: 0.1097 - val_accuracy: 0.9772\n",
      "Epoch 63/1000\n",
      " 1/73 [..............................] - ETA: 0s - loss: 0.2132 - accuracy: 0.9297\n",
      "Epoch 63: saving model to model/keypoint_classifier\\keypoint_classifier.keras\n",
      "73/73 [==============================] - 0s 1ms/step - loss: 0.2681 - accuracy: 0.8980 - val_loss: 0.1078 - val_accuracy: 0.9782\n",
      "Epoch 64/1000\n",
      " 1/73 [..............................] - ETA: 0s - loss: 0.1797 - accuracy: 0.9531\n",
      "Epoch 64: saving model to model/keypoint_classifier\\keypoint_classifier.keras\n",
      "73/73 [==============================] - 0s 1ms/step - loss: 0.2734 - accuracy: 0.8998 - val_loss: 0.1033 - val_accuracy: 0.9723\n",
      "Epoch 65/1000\n",
      " 1/73 [..............................] - ETA: 0s - loss: 0.2811 - accuracy: 0.9219\n",
      "Epoch 65: saving model to model/keypoint_classifier\\keypoint_classifier.keras\n",
      "73/73 [==============================] - 0s 1ms/step - loss: 0.2777 - accuracy: 0.9008 - val_loss: 0.1064 - val_accuracy: 0.9756\n",
      "Epoch 66/1000\n",
      " 1/73 [..............................] - ETA: 0s - loss: 0.2625 - accuracy: 0.9062\n",
      "Epoch 66: saving model to model/keypoint_classifier\\keypoint_classifier.keras\n",
      "73/73 [==============================] - 0s 1ms/step - loss: 0.2675 - accuracy: 0.8976 - val_loss: 0.1036 - val_accuracy: 0.9785\n",
      "Epoch 67/1000\n",
      " 1/73 [..............................] - ETA: 0s - loss: 0.3252 - accuracy: 0.8750\n",
      "Epoch 67: saving model to model/keypoint_classifier\\keypoint_classifier.keras\n",
      "73/73 [==============================] - 0s 1ms/step - loss: 0.2721 - accuracy: 0.9024 - val_loss: 0.1036 - val_accuracy: 0.9740\n",
      "Epoch 68/1000\n",
      " 1/73 [..............................] - ETA: 0s - loss: 0.2485 - accuracy: 0.8984\n",
      "Epoch 68: saving model to model/keypoint_classifier\\keypoint_classifier.keras\n",
      "73/73 [==============================] - 0s 1ms/step - loss: 0.2735 - accuracy: 0.8988 - val_loss: 0.1034 - val_accuracy: 0.9782\n",
      "Epoch 69/1000\n",
      " 1/73 [..............................] - ETA: 0s - loss: 0.2477 - accuracy: 0.9453\n",
      "Epoch 69: saving model to model/keypoint_classifier\\keypoint_classifier.keras\n",
      "73/73 [==============================] - 0s 1ms/step - loss: 0.2662 - accuracy: 0.9061 - val_loss: 0.1038 - val_accuracy: 0.9756\n",
      "Epoch 70/1000\n",
      " 1/73 [..............................] - ETA: 0s - loss: 0.3510 - accuracy: 0.8828\n",
      "Epoch 70: saving model to model/keypoint_classifier\\keypoint_classifier.keras\n",
      "73/73 [==============================] - 0s 1ms/step - loss: 0.2656 - accuracy: 0.9014 - val_loss: 0.1024 - val_accuracy: 0.9749\n",
      "Epoch 71/1000\n",
      " 1/73 [..............................] - ETA: 0s - loss: 0.3005 - accuracy: 0.9141\n",
      "Epoch 71: saving model to model/keypoint_classifier\\keypoint_classifier.keras\n",
      "73/73 [==============================] - 0s 1ms/step - loss: 0.2678 - accuracy: 0.9019 - val_loss: 0.1060 - val_accuracy: 0.9645\n",
      "Epoch 72/1000\n",
      " 1/73 [..............................] - ETA: 0s - loss: 0.1973 - accuracy: 0.9297\n",
      "Epoch 72: saving model to model/keypoint_classifier\\keypoint_classifier.keras\n",
      "73/73 [==============================] - 0s 1ms/step - loss: 0.2716 - accuracy: 0.8964 - val_loss: 0.1038 - val_accuracy: 0.9792\n",
      "Epoch 73/1000\n",
      " 1/73 [..............................] - ETA: 0s - loss: 0.2495 - accuracy: 0.8984\n",
      "Epoch 73: saving model to model/keypoint_classifier\\keypoint_classifier.keras\n",
      "73/73 [==============================] - 0s 1ms/step - loss: 0.2623 - accuracy: 0.9041 - val_loss: 0.1036 - val_accuracy: 0.9782\n",
      "Epoch 74/1000\n",
      " 1/73 [..............................] - ETA: 0s - loss: 0.2388 - accuracy: 0.8906\n",
      "Epoch 74: saving model to model/keypoint_classifier\\keypoint_classifier.keras\n",
      "73/73 [==============================] - 0s 1ms/step - loss: 0.2723 - accuracy: 0.8985 - val_loss: 0.1032 - val_accuracy: 0.9792\n",
      "Epoch 75/1000\n",
      " 1/73 [..............................] - ETA: 0s - loss: 0.2935 - accuracy: 0.8750\n",
      "Epoch 75: saving model to model/keypoint_classifier\\keypoint_classifier.keras\n",
      "73/73 [==============================] - 0s 1ms/step - loss: 0.2529 - accuracy: 0.9082 - val_loss: 0.0994 - val_accuracy: 0.9808\n",
      "Epoch 76/1000\n",
      " 1/73 [..............................] - ETA: 0s - loss: 0.2335 - accuracy: 0.9219\n",
      "Epoch 76: saving model to model/keypoint_classifier\\keypoint_classifier.keras\n",
      "73/73 [==============================] - 0s 1ms/step - loss: 0.2633 - accuracy: 0.9081 - val_loss: 0.0989 - val_accuracy: 0.9805\n",
      "Epoch 77/1000\n",
      " 1/73 [..............................] - ETA: 0s - loss: 0.2109 - accuracy: 0.9375\n",
      "Epoch 77: saving model to model/keypoint_classifier\\keypoint_classifier.keras\n",
      "73/73 [==============================] - 0s 1ms/step - loss: 0.2542 - accuracy: 0.9054 - val_loss: 0.0966 - val_accuracy: 0.9818\n",
      "Epoch 78/1000\n",
      " 1/73 [..............................] - ETA: 0s - loss: 0.2872 - accuracy: 0.8828\n",
      "Epoch 78: saving model to model/keypoint_classifier\\keypoint_classifier.keras\n",
      "73/73 [==============================] - 0s 1ms/step - loss: 0.2499 - accuracy: 0.9113 - val_loss: 0.0933 - val_accuracy: 0.9818\n",
      "Epoch 79/1000\n",
      " 1/73 [..............................] - ETA: 0s - loss: 0.3309 - accuracy: 0.9062\n",
      "Epoch 79: saving model to model/keypoint_classifier\\keypoint_classifier.keras\n",
      "73/73 [==============================] - 0s 1ms/step - loss: 0.2619 - accuracy: 0.9070 - val_loss: 0.0953 - val_accuracy: 0.9818\n",
      "Epoch 80/1000\n",
      " 1/73 [..............................] - ETA: 0s - loss: 0.3160 - accuracy: 0.8984\n",
      "Epoch 80: saving model to model/keypoint_classifier\\keypoint_classifier.keras\n",
      "73/73 [==============================] - 0s 1ms/step - loss: 0.2548 - accuracy: 0.9089 - val_loss: 0.0928 - val_accuracy: 0.9824\n",
      "Epoch 81/1000\n",
      " 1/73 [..............................] - ETA: 0s - loss: 0.2452 - accuracy: 0.9453\n",
      "Epoch 81: saving model to model/keypoint_classifier\\keypoint_classifier.keras\n",
      "73/73 [==============================] - 0s 1ms/step - loss: 0.2561 - accuracy: 0.9107 - val_loss: 0.0956 - val_accuracy: 0.9772\n",
      "Epoch 82/1000\n",
      "72/73 [============================>.] - ETA: 0s - loss: 0.2679 - accuracy: 0.9027\n",
      "Epoch 82: saving model to model/keypoint_classifier\\keypoint_classifier.keras\n",
      "73/73 [==============================] - 0s 1ms/step - loss: 0.2679 - accuracy: 0.9027 - val_loss: 0.0978 - val_accuracy: 0.9772\n",
      "Epoch 83/1000\n",
      " 1/73 [..............................] - ETA: 0s - loss: 0.3258 - accuracy: 0.8906\n",
      "Epoch 83: saving model to model/keypoint_classifier\\keypoint_classifier.keras\n",
      "73/73 [==============================] - 0s 1ms/step - loss: 0.2640 - accuracy: 0.9045 - val_loss: 0.0952 - val_accuracy: 0.9815\n",
      "Epoch 84/1000\n",
      " 1/73 [..............................] - ETA: 0s - loss: 0.2697 - accuracy: 0.8906\n",
      "Epoch 84: saving model to model/keypoint_classifier\\keypoint_classifier.keras\n",
      "73/73 [==============================] - 0s 1ms/step - loss: 0.2598 - accuracy: 0.9076 - val_loss: 0.0950 - val_accuracy: 0.9815\n",
      "Epoch 85/1000\n",
      " 1/73 [..............................] - ETA: 0s - loss: 0.3333 - accuracy: 0.9062\n",
      "Epoch 85: saving model to model/keypoint_classifier\\keypoint_classifier.keras\n",
      "73/73 [==============================] - 0s 1ms/step - loss: 0.2550 - accuracy: 0.9096 - val_loss: 0.0934 - val_accuracy: 0.9811\n",
      "Epoch 86/1000\n",
      " 1/73 [..............................] - ETA: 0s - loss: 0.3206 - accuracy: 0.8906\n",
      "Epoch 86: saving model to model/keypoint_classifier\\keypoint_classifier.keras\n",
      "73/73 [==============================] - 0s 1ms/step - loss: 0.2570 - accuracy: 0.9103 - val_loss: 0.0939 - val_accuracy: 0.9828\n",
      "Epoch 87/1000\n",
      " 1/73 [..............................] - ETA: 0s - loss: 0.2474 - accuracy: 0.8750\n",
      "Epoch 87: saving model to model/keypoint_classifier\\keypoint_classifier.keras\n",
      "73/73 [==============================] - 0s 1ms/step - loss: 0.2545 - accuracy: 0.9079 - val_loss: 0.0952 - val_accuracy: 0.9811\n",
      "Epoch 88/1000\n",
      " 1/73 [..............................] - ETA: 0s - loss: 0.2315 - accuracy: 0.9375\n",
      "Epoch 88: saving model to model/keypoint_classifier\\keypoint_classifier.keras\n",
      "73/73 [==============================] - 0s 1ms/step - loss: 0.2461 - accuracy: 0.9126 - val_loss: 0.0915 - val_accuracy: 0.9837\n",
      "Epoch 89/1000\n",
      " 1/73 [..............................] - ETA: 0s - loss: 0.2262 - accuracy: 0.9062\n",
      "Epoch 89: saving model to model/keypoint_classifier\\keypoint_classifier.keras\n",
      "73/73 [==============================] - 0s 1ms/step - loss: 0.2466 - accuracy: 0.9142 - val_loss: 0.0865 - val_accuracy: 0.9834\n",
      "Epoch 90/1000\n",
      " 1/73 [..............................] - ETA: 0s - loss: 0.2329 - accuracy: 0.9219\n",
      "Epoch 90: saving model to model/keypoint_classifier\\keypoint_classifier.keras\n",
      "73/73 [==============================] - 0s 1ms/step - loss: 0.2500 - accuracy: 0.9117 - val_loss: 0.0899 - val_accuracy: 0.9821\n",
      "Epoch 91/1000\n",
      " 1/73 [..............................] - ETA: 0s - loss: 0.1609 - accuracy: 0.9531\n",
      "Epoch 91: saving model to model/keypoint_classifier\\keypoint_classifier.keras\n",
      "73/73 [==============================] - 0s 1ms/step - loss: 0.2445 - accuracy: 0.9120 - val_loss: 0.0895 - val_accuracy: 0.9837\n",
      "Epoch 92/1000\n",
      " 1/73 [..............................] - ETA: 0s - loss: 0.2276 - accuracy: 0.9297\n",
      "Epoch 92: saving model to model/keypoint_classifier\\keypoint_classifier.keras\n",
      "73/73 [==============================] - 0s 1ms/step - loss: 0.2460 - accuracy: 0.9126 - val_loss: 0.0882 - val_accuracy: 0.9818\n",
      "Epoch 93/1000\n",
      " 1/73 [..............................] - ETA: 0s - loss: 0.2278 - accuracy: 0.9453\n",
      "Epoch 93: saving model to model/keypoint_classifier\\keypoint_classifier.keras\n",
      "73/73 [==============================] - 0s 1ms/step - loss: 0.2463 - accuracy: 0.9134 - val_loss: 0.0898 - val_accuracy: 0.9834\n",
      "Epoch 94/1000\n",
      "73/73 [==============================] - ETA: 0s - loss: 0.2402 - accuracy: 0.9129\n",
      "Epoch 94: saving model to model/keypoint_classifier\\keypoint_classifier.keras\n",
      "73/73 [==============================] - 0s 1ms/step - loss: 0.2402 - accuracy: 0.9129 - val_loss: 0.0847 - val_accuracy: 0.9844\n",
      "Epoch 95/1000\n",
      " 1/73 [..............................] - ETA: 0s - loss: 0.1985 - accuracy: 0.9219\n",
      "Epoch 95: saving model to model/keypoint_classifier\\keypoint_classifier.keras\n",
      "73/73 [==============================] - 0s 1ms/step - loss: 0.2399 - accuracy: 0.9167 - val_loss: 0.0851 - val_accuracy: 0.9860\n",
      "Epoch 96/1000\n",
      " 1/73 [..............................] - ETA: 0s - loss: 0.2582 - accuracy: 0.9219\n",
      "Epoch 96: saving model to model/keypoint_classifier\\keypoint_classifier.keras\n",
      "73/73 [==============================] - 0s 1ms/step - loss: 0.2435 - accuracy: 0.9140 - val_loss: 0.0898 - val_accuracy: 0.9844\n",
      "Epoch 97/1000\n",
      " 1/73 [..............................] - ETA: 0s - loss: 0.2214 - accuracy: 0.9375\n",
      "Epoch 97: saving model to model/keypoint_classifier\\keypoint_classifier.keras\n",
      "73/73 [==============================] - 0s 1ms/step - loss: 0.2410 - accuracy: 0.9128 - val_loss: 0.0829 - val_accuracy: 0.9854\n",
      "Epoch 98/1000\n",
      " 1/73 [..............................] - ETA: 0s - loss: 0.1570 - accuracy: 0.9531\n",
      "Epoch 98: saving model to model/keypoint_classifier\\keypoint_classifier.keras\n",
      "73/73 [==============================] - 0s 1ms/step - loss: 0.2538 - accuracy: 0.9101 - val_loss: 0.0851 - val_accuracy: 0.9867\n",
      "Epoch 99/1000\n",
      " 1/73 [..............................] - ETA: 0s - loss: 0.1967 - accuracy: 0.9375\n",
      "Epoch 99: saving model to model/keypoint_classifier\\keypoint_classifier.keras\n",
      "73/73 [==============================] - 0s 1ms/step - loss: 0.2411 - accuracy: 0.9140 - val_loss: 0.0900 - val_accuracy: 0.9857\n",
      "Epoch 100/1000\n",
      " 1/73 [..............................] - ETA: 0s - loss: 0.2307 - accuracy: 0.9062\n",
      "Epoch 100: saving model to model/keypoint_classifier\\keypoint_classifier.keras\n",
      "73/73 [==============================] - 0s 1ms/step - loss: 0.2422 - accuracy: 0.9118 - val_loss: 0.0815 - val_accuracy: 0.9854\n",
      "Epoch 101/1000\n",
      "73/73 [==============================] - ETA: 0s - loss: 0.2448 - accuracy: 0.9104\n",
      "Epoch 101: saving model to model/keypoint_classifier\\keypoint_classifier.keras\n",
      "73/73 [==============================] - 0s 1ms/step - loss: 0.2448 - accuracy: 0.9104 - val_loss: 0.0827 - val_accuracy: 0.9857\n",
      "Epoch 102/1000\n",
      " 1/73 [..............................] - ETA: 0s - loss: 0.2815 - accuracy: 0.8984\n",
      "Epoch 102: saving model to model/keypoint_classifier\\keypoint_classifier.keras\n",
      "73/73 [==============================] - 0s 1ms/step - loss: 0.2379 - accuracy: 0.9127 - val_loss: 0.0790 - val_accuracy: 0.9867\n",
      "Epoch 103/1000\n",
      " 1/73 [..............................] - ETA: 0s - loss: 0.2099 - accuracy: 0.9531\n",
      "Epoch 103: saving model to model/keypoint_classifier\\keypoint_classifier.keras\n",
      "73/73 [==============================] - 0s 1ms/step - loss: 0.2387 - accuracy: 0.9166 - val_loss: 0.0823 - val_accuracy: 0.9863\n",
      "Epoch 104/1000\n",
      " 1/73 [..............................] - ETA: 0s - loss: 0.3697 - accuracy: 0.8594\n",
      "Epoch 104: saving model to model/keypoint_classifier\\keypoint_classifier.keras\n",
      "73/73 [==============================] - 0s 1ms/step - loss: 0.2435 - accuracy: 0.9160 - val_loss: 0.0803 - val_accuracy: 0.9886\n",
      "Epoch 105/1000\n",
      " 1/73 [..............................] - ETA: 0s - loss: 0.1779 - accuracy: 0.9453\n",
      "Epoch 105: saving model to model/keypoint_classifier\\keypoint_classifier.keras\n",
      "73/73 [==============================] - 0s 1ms/step - loss: 0.2433 - accuracy: 0.9112 - val_loss: 0.0836 - val_accuracy: 0.9867\n",
      "Epoch 106/1000\n",
      " 1/73 [..............................] - ETA: 0s - loss: 0.2363 - accuracy: 0.8984\n",
      "Epoch 106: saving model to model/keypoint_classifier\\keypoint_classifier.keras\n",
      "73/73 [==============================] - 0s 1ms/step - loss: 0.2423 - accuracy: 0.9106 - val_loss: 0.0781 - val_accuracy: 0.9883\n",
      "Epoch 107/1000\n",
      " 1/73 [..............................] - ETA: 0s - loss: 0.3096 - accuracy: 0.8594\n",
      "Epoch 107: saving model to model/keypoint_classifier\\keypoint_classifier.keras\n",
      "73/73 [==============================] - 0s 1ms/step - loss: 0.2401 - accuracy: 0.9107 - val_loss: 0.0796 - val_accuracy: 0.9873\n",
      "Epoch 108/1000\n",
      " 1/73 [..............................] - ETA: 0s - loss: 0.3023 - accuracy: 0.9062\n",
      "Epoch 108: saving model to model/keypoint_classifier\\keypoint_classifier.keras\n",
      "73/73 [==============================] - 0s 1ms/step - loss: 0.2374 - accuracy: 0.9133 - val_loss: 0.0745 - val_accuracy: 0.9886\n",
      "Epoch 109/1000\n",
      " 1/73 [..............................] - ETA: 0s - loss: 0.2153 - accuracy: 0.9375\n",
      "Epoch 109: saving model to model/keypoint_classifier\\keypoint_classifier.keras\n",
      "73/73 [==============================] - 0s 1ms/step - loss: 0.2279 - accuracy: 0.9213 - val_loss: 0.0768 - val_accuracy: 0.9893\n",
      "Epoch 110/1000\n",
      " 1/73 [..............................] - ETA: 0s - loss: 0.2016 - accuracy: 0.9141\n",
      "Epoch 110: saving model to model/keypoint_classifier\\keypoint_classifier.keras\n",
      "73/73 [==============================] - 0s 1ms/step - loss: 0.2459 - accuracy: 0.9090 - val_loss: 0.0789 - val_accuracy: 0.9889\n",
      "Epoch 111/1000\n",
      " 1/73 [..............................] - ETA: 0s - loss: 0.2520 - accuracy: 0.9062\n",
      "Epoch 111: saving model to model/keypoint_classifier\\keypoint_classifier.keras\n",
      "73/73 [==============================] - 0s 1ms/step - loss: 0.2341 - accuracy: 0.9169 - val_loss: 0.0769 - val_accuracy: 0.9893\n",
      "Epoch 112/1000\n",
      " 1/73 [..............................] - ETA: 0s - loss: 0.2660 - accuracy: 0.8984\n",
      "Epoch 112: saving model to model/keypoint_classifier\\keypoint_classifier.keras\n",
      "73/73 [==============================] - 0s 1ms/step - loss: 0.2344 - accuracy: 0.9146 - val_loss: 0.0817 - val_accuracy: 0.9896\n",
      "Epoch 113/1000\n",
      " 1/73 [..............................] - ETA: 0s - loss: 0.2518 - accuracy: 0.9219\n",
      "Epoch 113: saving model to model/keypoint_classifier\\keypoint_classifier.keras\n",
      "73/73 [==============================] - 0s 1ms/step - loss: 0.2363 - accuracy: 0.9144 - val_loss: 0.0769 - val_accuracy: 0.9889\n",
      "Epoch 114/1000\n",
      " 1/73 [..............................] - ETA: 0s - loss: 0.2574 - accuracy: 0.9219\n",
      "Epoch 114: saving model to model/keypoint_classifier\\keypoint_classifier.keras\n",
      "73/73 [==============================] - 0s 1ms/step - loss: 0.2372 - accuracy: 0.9155 - val_loss: 0.0738 - val_accuracy: 0.9880\n",
      "Epoch 115/1000\n",
      " 1/73 [..............................] - ETA: 0s - loss: 0.1382 - accuracy: 0.9609\n",
      "Epoch 115: saving model to model/keypoint_classifier\\keypoint_classifier.keras\n",
      "73/73 [==============================] - 0s 1ms/step - loss: 0.2289 - accuracy: 0.9195 - val_loss: 0.0743 - val_accuracy: 0.9880\n",
      "Epoch 116/1000\n",
      " 1/73 [..............................] - ETA: 0s - loss: 0.3005 - accuracy: 0.8984\n",
      "Epoch 116: saving model to model/keypoint_classifier\\keypoint_classifier.keras\n",
      "73/73 [==============================] - 0s 1ms/step - loss: 0.2294 - accuracy: 0.9205 - val_loss: 0.0751 - val_accuracy: 0.9873\n",
      "Epoch 117/1000\n",
      " 1/73 [..............................] - ETA: 0s - loss: 0.2226 - accuracy: 0.9297\n",
      "Epoch 117: saving model to model/keypoint_classifier\\keypoint_classifier.keras\n",
      "73/73 [==============================] - 0s 1ms/step - loss: 0.2263 - accuracy: 0.9185 - val_loss: 0.0757 - val_accuracy: 0.9870\n",
      "Epoch 118/1000\n",
      " 1/73 [..............................] - ETA: 0s - loss: 0.2644 - accuracy: 0.8984\n",
      "Epoch 118: saving model to model/keypoint_classifier\\keypoint_classifier.keras\n",
      "73/73 [==============================] - 0s 1ms/step - loss: 0.2393 - accuracy: 0.9171 - val_loss: 0.0788 - val_accuracy: 0.9857\n",
      "Epoch 119/1000\n",
      " 1/73 [..............................] - ETA: 0s - loss: 0.2264 - accuracy: 0.9141\n",
      "Epoch 119: saving model to model/keypoint_classifier\\keypoint_classifier.keras\n",
      "73/73 [==============================] - 0s 1ms/step - loss: 0.2304 - accuracy: 0.9171 - val_loss: 0.0750 - val_accuracy: 0.9883\n",
      "Epoch 120/1000\n",
      " 1/73 [..............................] - ETA: 0s - loss: 0.2191 - accuracy: 0.9219\n",
      "Epoch 120: saving model to model/keypoint_classifier\\keypoint_classifier.keras\n",
      "73/73 [==============================] - 0s 1ms/step - loss: 0.2307 - accuracy: 0.9177 - val_loss: 0.0777 - val_accuracy: 0.9906\n",
      "Epoch 121/1000\n",
      "71/73 [============================>.] - ETA: 0s - loss: 0.2392 - accuracy: 0.9177\n",
      "Epoch 121: saving model to model/keypoint_classifier\\keypoint_classifier.keras\n",
      "73/73 [==============================] - 0s 1ms/step - loss: 0.2385 - accuracy: 0.9180 - val_loss: 0.0760 - val_accuracy: 0.9893\n",
      "Epoch 122/1000\n",
      " 1/73 [..............................] - ETA: 0s - loss: 0.1710 - accuracy: 0.9453\n",
      "Epoch 122: saving model to model/keypoint_classifier\\keypoint_classifier.keras\n",
      "73/73 [==============================] - 0s 1ms/step - loss: 0.2327 - accuracy: 0.9167 - val_loss: 0.0685 - val_accuracy: 0.9906\n",
      "Epoch 123/1000\n",
      " 1/73 [..............................] - ETA: 0s - loss: 0.2682 - accuracy: 0.8984\n",
      "Epoch 123: saving model to model/keypoint_classifier\\keypoint_classifier.keras\n",
      "73/73 [==============================] - 0s 1ms/step - loss: 0.2346 - accuracy: 0.9163 - val_loss: 0.0748 - val_accuracy: 0.9893\n",
      "Epoch 124/1000\n",
      " 1/73 [..............................] - ETA: 0s - loss: 0.2004 - accuracy: 0.9141\n",
      "Epoch 124: saving model to model/keypoint_classifier\\keypoint_classifier.keras\n",
      "73/73 [==============================] - 0s 1ms/step - loss: 0.2193 - accuracy: 0.9236 - val_loss: 0.0695 - val_accuracy: 0.9896\n",
      "Epoch 125/1000\n",
      " 1/73 [..............................] - ETA: 0s - loss: 0.2602 - accuracy: 0.9375\n",
      "Epoch 125: saving model to model/keypoint_classifier\\keypoint_classifier.keras\n",
      "73/73 [==============================] - 0s 1ms/step - loss: 0.2332 - accuracy: 0.9193 - val_loss: 0.0746 - val_accuracy: 0.9893\n",
      "Epoch 126/1000\n",
      " 1/73 [..............................] - ETA: 0s - loss: 0.3116 - accuracy: 0.9141\n",
      "Epoch 126: saving model to model/keypoint_classifier\\keypoint_classifier.keras\n",
      "73/73 [==============================] - 0s 1ms/step - loss: 0.2307 - accuracy: 0.9185 - val_loss: 0.0691 - val_accuracy: 0.9909\n",
      "Epoch 127/1000\n",
      " 1/73 [..............................] - ETA: 0s - loss: 0.2413 - accuracy: 0.9375\n",
      "Epoch 127: saving model to model/keypoint_classifier\\keypoint_classifier.keras\n",
      "73/73 [==============================] - 0s 1ms/step - loss: 0.2400 - accuracy: 0.9129 - val_loss: 0.0766 - val_accuracy: 0.9922\n",
      "Epoch 128/1000\n",
      " 1/73 [..............................] - ETA: 0s - loss: 0.2902 - accuracy: 0.9062\n",
      "Epoch 128: saving model to model/keypoint_classifier\\keypoint_classifier.keras\n",
      "73/73 [==============================] - 0s 1ms/step - loss: 0.2340 - accuracy: 0.9194 - val_loss: 0.0748 - val_accuracy: 0.9902\n",
      "Epoch 129/1000\n",
      " 1/73 [..............................] - ETA: 0s - loss: 0.2563 - accuracy: 0.9062\n",
      "Epoch 129: saving model to model/keypoint_classifier\\keypoint_classifier.keras\n",
      "73/73 [==============================] - 0s 1ms/step - loss: 0.2293 - accuracy: 0.9182 - val_loss: 0.0721 - val_accuracy: 0.9889\n",
      "Epoch 130/1000\n",
      " 1/73 [..............................] - ETA: 0s - loss: 0.3077 - accuracy: 0.8906\n",
      "Epoch 130: saving model to model/keypoint_classifier\\keypoint_classifier.keras\n",
      "73/73 [==============================] - 0s 1ms/step - loss: 0.2338 - accuracy: 0.9174 - val_loss: 0.0701 - val_accuracy: 0.9883\n",
      "Epoch 131/1000\n",
      " 1/73 [..............................] - ETA: 0s - loss: 0.2370 - accuracy: 0.9375\n",
      "Epoch 131: saving model to model/keypoint_classifier\\keypoint_classifier.keras\n",
      "73/73 [==============================] - 0s 1ms/step - loss: 0.2340 - accuracy: 0.9178 - val_loss: 0.0709 - val_accuracy: 0.9899\n",
      "Epoch 132/1000\n",
      " 1/73 [..............................] - ETA: 0s - loss: 0.4926 - accuracy: 0.9297\n",
      "Epoch 132: saving model to model/keypoint_classifier\\keypoint_classifier.keras\n",
      "73/73 [==============================] - 0s 1ms/step - loss: 0.2409 - accuracy: 0.9165 - val_loss: 0.0742 - val_accuracy: 0.9909\n",
      "Epoch 133/1000\n",
      " 1/73 [..............................] - ETA: 0s - loss: 0.2314 - accuracy: 0.9219\n",
      "Epoch 133: saving model to model/keypoint_classifier\\keypoint_classifier.keras\n",
      "73/73 [==============================] - 0s 1ms/step - loss: 0.2412 - accuracy: 0.9141 - val_loss: 0.0790 - val_accuracy: 0.9876\n",
      "Epoch 134/1000\n",
      " 1/73 [..............................] - ETA: 0s - loss: 0.2972 - accuracy: 0.8594\n",
      "Epoch 134: saving model to model/keypoint_classifier\\keypoint_classifier.keras\n",
      "73/73 [==============================] - 0s 1ms/step - loss: 0.2367 - accuracy: 0.9153 - val_loss: 0.0687 - val_accuracy: 0.9899\n",
      "Epoch 135/1000\n",
      " 1/73 [..............................] - ETA: 0s - loss: 0.2793 - accuracy: 0.8906\n",
      "Epoch 135: saving model to model/keypoint_classifier\\keypoint_classifier.keras\n",
      "73/73 [==============================] - 0s 1ms/step - loss: 0.2240 - accuracy: 0.9224 - val_loss: 0.0691 - val_accuracy: 0.9902\n",
      "Epoch 136/1000\n",
      " 1/73 [..............................] - ETA: 0s - loss: 0.2793 - accuracy: 0.8828\n",
      "Epoch 136: saving model to model/keypoint_classifier\\keypoint_classifier.keras\n",
      "73/73 [==============================] - 0s 1ms/step - loss: 0.2260 - accuracy: 0.9220 - val_loss: 0.0678 - val_accuracy: 0.9915\n",
      "Epoch 137/1000\n",
      " 1/73 [..............................] - ETA: 0s - loss: 0.3021 - accuracy: 0.8906\n",
      "Epoch 137: saving model to model/keypoint_classifier\\keypoint_classifier.keras\n",
      "73/73 [==============================] - 0s 1ms/step - loss: 0.2335 - accuracy: 0.9184 - val_loss: 0.0681 - val_accuracy: 0.9906\n",
      "Epoch 138/1000\n",
      " 1/73 [..............................] - ETA: 0s - loss: 0.1813 - accuracy: 0.9453\n",
      "Epoch 138: saving model to model/keypoint_classifier\\keypoint_classifier.keras\n",
      "73/73 [==============================] - 0s 1ms/step - loss: 0.2319 - accuracy: 0.9158 - val_loss: 0.0697 - val_accuracy: 0.9886\n",
      "Epoch 139/1000\n",
      " 1/73 [..............................] - ETA: 0s - loss: 0.2057 - accuracy: 0.9375\n",
      "Epoch 139: saving model to model/keypoint_classifier\\keypoint_classifier.keras\n",
      "73/73 [==============================] - 0s 1ms/step - loss: 0.2177 - accuracy: 0.9206 - val_loss: 0.0650 - val_accuracy: 0.9912\n",
      "Epoch 140/1000\n",
      " 1/73 [..............................] - ETA: 0s - loss: 0.2223 - accuracy: 0.9219\n",
      "Epoch 140: saving model to model/keypoint_classifier\\keypoint_classifier.keras\n",
      "73/73 [==============================] - 0s 1ms/step - loss: 0.2301 - accuracy: 0.9174 - val_loss: 0.0686 - val_accuracy: 0.9909\n",
      "Epoch 141/1000\n",
      " 1/73 [..............................] - ETA: 0s - loss: 0.2856 - accuracy: 0.8828\n",
      "Epoch 141: saving model to model/keypoint_classifier\\keypoint_classifier.keras\n",
      "73/73 [==============================] - 0s 1ms/step - loss: 0.2258 - accuracy: 0.9223 - val_loss: 0.0646 - val_accuracy: 0.9915\n",
      "Epoch 142/1000\n",
      " 1/73 [..............................] - ETA: 0s - loss: 0.2589 - accuracy: 0.9141\n",
      "Epoch 142: saving model to model/keypoint_classifier\\keypoint_classifier.keras\n",
      "73/73 [==============================] - 0s 1ms/step - loss: 0.2398 - accuracy: 0.9130 - val_loss: 0.0693 - val_accuracy: 0.9938\n",
      "Epoch 143/1000\n",
      " 1/73 [..............................] - ETA: 0s - loss: 0.3158 - accuracy: 0.9062\n",
      "Epoch 143: saving model to model/keypoint_classifier\\keypoint_classifier.keras\n",
      "73/73 [==============================] - 0s 1ms/step - loss: 0.2266 - accuracy: 0.9180 - val_loss: 0.0713 - val_accuracy: 0.9915\n",
      "Epoch 144/1000\n",
      " 1/73 [..............................] - ETA: 0s - loss: 0.2542 - accuracy: 0.8906\n",
      "Epoch 144: saving model to model/keypoint_classifier\\keypoint_classifier.keras\n",
      "73/73 [==============================] - 0s 1ms/step - loss: 0.2231 - accuracy: 0.9223 - val_loss: 0.0658 - val_accuracy: 0.9912\n",
      "Epoch 145/1000\n",
      " 1/73 [..............................] - ETA: 0s - loss: 0.2207 - accuracy: 0.9141\n",
      "Epoch 145: saving model to model/keypoint_classifier\\keypoint_classifier.keras\n",
      "73/73 [==============================] - 0s 1ms/step - loss: 0.2162 - accuracy: 0.9218 - val_loss: 0.0725 - val_accuracy: 0.9899\n",
      "Epoch 146/1000\n",
      " 1/73 [..............................] - ETA: 0s - loss: 0.1975 - accuracy: 0.9375\n",
      "Epoch 146: saving model to model/keypoint_classifier\\keypoint_classifier.keras\n",
      "73/73 [==============================] - 0s 1ms/step - loss: 0.2240 - accuracy: 0.9223 - val_loss: 0.0685 - val_accuracy: 0.9906\n",
      "Epoch 147/1000\n",
      " 1/73 [..............................] - ETA: 0s - loss: 0.1375 - accuracy: 0.9453\n",
      "Epoch 147: saving model to model/keypoint_classifier\\keypoint_classifier.keras\n",
      "73/73 [==============================] - 0s 1ms/step - loss: 0.2259 - accuracy: 0.9205 - val_loss: 0.0642 - val_accuracy: 0.9912\n",
      "Epoch 148/1000\n",
      " 1/73 [..............................] - ETA: 0s - loss: 0.2062 - accuracy: 0.9062\n",
      "Epoch 148: saving model to model/keypoint_classifier\\keypoint_classifier.keras\n",
      "73/73 [==============================] - 0s 1ms/step - loss: 0.2112 - accuracy: 0.9219 - val_loss: 0.0691 - val_accuracy: 0.9928\n",
      "Epoch 149/1000\n",
      " 1/73 [..............................] - ETA: 0s - loss: 0.2273 - accuracy: 0.9297\n",
      "Epoch 149: saving model to model/keypoint_classifier\\keypoint_classifier.keras\n",
      "73/73 [==============================] - 0s 1ms/step - loss: 0.2181 - accuracy: 0.9216 - val_loss: 0.0647 - val_accuracy: 0.9915\n",
      "Epoch 150/1000\n",
      " 1/73 [..............................] - ETA: 0s - loss: 0.2635 - accuracy: 0.9062\n",
      "Epoch 150: saving model to model/keypoint_classifier\\keypoint_classifier.keras\n",
      "73/73 [==============================] - 0s 1ms/step - loss: 0.2243 - accuracy: 0.9216 - val_loss: 0.0619 - val_accuracy: 0.9919\n",
      "Epoch 151/1000\n",
      " 1/73 [..............................] - ETA: 0s - loss: 0.1525 - accuracy: 0.9531\n",
      "Epoch 151: saving model to model/keypoint_classifier\\keypoint_classifier.keras\n",
      "73/73 [==============================] - 0s 1ms/step - loss: 0.2220 - accuracy: 0.9192 - val_loss: 0.0607 - val_accuracy: 0.9909\n",
      "Epoch 152/1000\n",
      " 1/73 [..............................] - ETA: 0s - loss: 0.2428 - accuracy: 0.8906\n",
      "Epoch 152: saving model to model/keypoint_classifier\\keypoint_classifier.keras\n",
      "73/73 [==============================] - 0s 1ms/step - loss: 0.2266 - accuracy: 0.9208 - val_loss: 0.0632 - val_accuracy: 0.9948\n",
      "Epoch 153/1000\n",
      " 1/73 [..............................] - ETA: 0s - loss: 0.2319 - accuracy: 0.9062\n",
      "Epoch 153: saving model to model/keypoint_classifier\\keypoint_classifier.keras\n",
      "73/73 [==============================] - 0s 1ms/step - loss: 0.2273 - accuracy: 0.9170 - val_loss: 0.0661 - val_accuracy: 0.9925\n",
      "Epoch 154/1000\n",
      " 1/73 [..............................] - ETA: 0s - loss: 0.2441 - accuracy: 0.8828\n",
      "Epoch 154: saving model to model/keypoint_classifier\\keypoint_classifier.keras\n",
      "73/73 [==============================] - 0s 1ms/step - loss: 0.2207 - accuracy: 0.9213 - val_loss: 0.0680 - val_accuracy: 0.9941\n",
      "Epoch 155/1000\n",
      " 1/73 [..............................] - ETA: 0s - loss: 0.2045 - accuracy: 0.9688\n",
      "Epoch 155: saving model to model/keypoint_classifier\\keypoint_classifier.keras\n",
      "73/73 [==============================] - 0s 1ms/step - loss: 0.2044 - accuracy: 0.9291 - val_loss: 0.0605 - val_accuracy: 0.9941\n",
      "Epoch 156/1000\n",
      " 1/73 [..............................] - ETA: 0s - loss: 0.1779 - accuracy: 0.9531\n",
      "Epoch 156: saving model to model/keypoint_classifier\\keypoint_classifier.keras\n",
      "73/73 [==============================] - 0s 1ms/step - loss: 0.2105 - accuracy: 0.9250 - val_loss: 0.0583 - val_accuracy: 0.9938\n",
      "Epoch 157/1000\n",
      " 1/73 [..............................] - ETA: 0s - loss: 0.2280 - accuracy: 0.9062\n",
      "Epoch 157: saving model to model/keypoint_classifier\\keypoint_classifier.keras\n",
      "73/73 [==============================] - 0s 1ms/step - loss: 0.2121 - accuracy: 0.9248 - val_loss: 0.0622 - val_accuracy: 0.9925\n",
      "Epoch 158/1000\n",
      " 1/73 [..............................] - ETA: 0s - loss: 0.2298 - accuracy: 0.9141\n",
      "Epoch 158: saving model to model/keypoint_classifier\\keypoint_classifier.keras\n",
      "73/73 [==============================] - 0s 1ms/step - loss: 0.2157 - accuracy: 0.9246 - val_loss: 0.0632 - val_accuracy: 0.9948\n",
      "Epoch 159/1000\n",
      " 1/73 [..............................] - ETA: 0s - loss: 0.1992 - accuracy: 0.9219\n",
      "Epoch 159: saving model to model/keypoint_classifier\\keypoint_classifier.keras\n",
      "73/73 [==============================] - 0s 1ms/step - loss: 0.2238 - accuracy: 0.9227 - val_loss: 0.0668 - val_accuracy: 0.9948\n",
      "Epoch 160/1000\n",
      " 1/73 [..............................] - ETA: 0s - loss: 0.3283 - accuracy: 0.8750\n",
      "Epoch 160: saving model to model/keypoint_classifier\\keypoint_classifier.keras\n",
      "73/73 [==============================] - 0s 1ms/step - loss: 0.2223 - accuracy: 0.9173 - val_loss: 0.0727 - val_accuracy: 0.9941\n",
      "Epoch 161/1000\n",
      " 1/73 [..............................] - ETA: 0s - loss: 0.2005 - accuracy: 0.9375\n",
      "Epoch 161: saving model to model/keypoint_classifier\\keypoint_classifier.keras\n",
      "73/73 [==============================] - 0s 1ms/step - loss: 0.2254 - accuracy: 0.9196 - val_loss: 0.0641 - val_accuracy: 0.9925\n",
      "Epoch 162/1000\n",
      " 1/73 [..............................] - ETA: 0s - loss: 0.1706 - accuracy: 0.9375\n",
      "Epoch 162: saving model to model/keypoint_classifier\\keypoint_classifier.keras\n",
      "73/73 [==============================] - 0s 1ms/step - loss: 0.2166 - accuracy: 0.9245 - val_loss: 0.0547 - val_accuracy: 0.9941\n",
      "Epoch 163/1000\n",
      " 1/73 [..............................] - ETA: 0s - loss: 0.2473 - accuracy: 0.8906\n",
      "Epoch 163: saving model to model/keypoint_classifier\\keypoint_classifier.keras\n",
      "73/73 [==============================] - 0s 1ms/step - loss: 0.2191 - accuracy: 0.9218 - val_loss: 0.0636 - val_accuracy: 0.9919\n",
      "Epoch 164/1000\n",
      " 1/73 [..............................] - ETA: 0s - loss: 0.1390 - accuracy: 0.9609\n",
      "Epoch 164: saving model to model/keypoint_classifier\\keypoint_classifier.keras\n",
      "73/73 [==============================] - 0s 1ms/step - loss: 0.2206 - accuracy: 0.9218 - val_loss: 0.0607 - val_accuracy: 0.9922\n",
      "Epoch 165/1000\n",
      " 1/73 [..............................] - ETA: 0s - loss: 0.1922 - accuracy: 0.9297\n",
      "Epoch 165: saving model to model/keypoint_classifier\\keypoint_classifier.keras\n",
      "73/73 [==============================] - 0s 1ms/step - loss: 0.2188 - accuracy: 0.9215 - val_loss: 0.0614 - val_accuracy: 0.9922\n",
      "Epoch 166/1000\n",
      " 1/73 [..............................] - ETA: 0s - loss: 0.1689 - accuracy: 0.9453\n",
      "Epoch 166: saving model to model/keypoint_classifier\\keypoint_classifier.keras\n",
      "73/73 [==============================] - 0s 1ms/step - loss: 0.2075 - accuracy: 0.9278 - val_loss: 0.0577 - val_accuracy: 0.9919\n",
      "Epoch 167/1000\n",
      " 1/73 [..............................] - ETA: 0s - loss: 0.1881 - accuracy: 0.9297\n",
      "Epoch 167: saving model to model/keypoint_classifier\\keypoint_classifier.keras\n",
      "73/73 [==============================] - 0s 1ms/step - loss: 0.2069 - accuracy: 0.9284 - val_loss: 0.0704 - val_accuracy: 0.9912\n",
      "Epoch 168/1000\n",
      "72/73 [============================>.] - ETA: 0s - loss: 0.2207 - accuracy: 0.9208\n",
      "Epoch 168: saving model to model/keypoint_classifier\\keypoint_classifier.keras\n",
      "73/73 [==============================] - 0s 1ms/step - loss: 0.2206 - accuracy: 0.9208 - val_loss: 0.0633 - val_accuracy: 0.9928\n",
      "Epoch 169/1000\n",
      " 1/73 [..............................] - ETA: 0s - loss: 0.2136 - accuracy: 0.9375\n",
      "Epoch 169: saving model to model/keypoint_classifier\\keypoint_classifier.keras\n",
      "73/73 [==============================] - 0s 1ms/step - loss: 0.2126 - accuracy: 0.9221 - val_loss: 0.0565 - val_accuracy: 0.9935\n",
      "Epoch 170/1000\n",
      " 1/73 [..............................] - ETA: 0s - loss: 0.2040 - accuracy: 0.9297\n",
      "Epoch 170: saving model to model/keypoint_classifier\\keypoint_classifier.keras\n",
      "73/73 [==============================] - 0s 1ms/step - loss: 0.2246 - accuracy: 0.9211 - val_loss: 0.0595 - val_accuracy: 0.9922\n",
      "Epoch 171/1000\n",
      " 1/73 [..............................] - ETA: 0s - loss: 0.2197 - accuracy: 0.9219\n",
      "Epoch 171: saving model to model/keypoint_classifier\\keypoint_classifier.keras\n",
      "73/73 [==============================] - 0s 1ms/step - loss: 0.2201 - accuracy: 0.9203 - val_loss: 0.0575 - val_accuracy: 0.9945\n",
      "Epoch 172/1000\n",
      " 1/73 [..............................] - ETA: 0s - loss: 0.1717 - accuracy: 0.9531\n",
      "Epoch 172: saving model to model/keypoint_classifier\\keypoint_classifier.keras\n",
      "73/73 [==============================] - 0s 1ms/step - loss: 0.2084 - accuracy: 0.9243 - val_loss: 0.0620 - val_accuracy: 0.9919\n",
      "Epoch 173/1000\n",
      " 1/73 [..............................] - ETA: 0s - loss: 0.3134 - accuracy: 0.8828\n",
      "Epoch 173: saving model to model/keypoint_classifier\\keypoint_classifier.keras\n",
      "73/73 [==============================] - 0s 1ms/step - loss: 0.2141 - accuracy: 0.9211 - val_loss: 0.0569 - val_accuracy: 0.9928\n",
      "Epoch 174/1000\n",
      " 1/73 [..............................] - ETA: 0s - loss: 0.2491 - accuracy: 0.8984\n",
      "Epoch 174: saving model to model/keypoint_classifier\\keypoint_classifier.keras\n",
      "73/73 [==============================] - 0s 1ms/step - loss: 0.2179 - accuracy: 0.9243 - val_loss: 0.0627 - val_accuracy: 0.9935\n",
      "Epoch 175/1000\n",
      " 1/73 [..............................] - ETA: 0s - loss: 0.2838 - accuracy: 0.9141\n",
      "Epoch 175: saving model to model/keypoint_classifier\\keypoint_classifier.keras\n",
      "73/73 [==============================] - 0s 1ms/step - loss: 0.2060 - accuracy: 0.9273 - val_loss: 0.0556 - val_accuracy: 0.9935\n",
      "Epoch 176/1000\n",
      " 1/73 [..............................] - ETA: 0s - loss: 0.1053 - accuracy: 0.9688\n",
      "Epoch 176: saving model to model/keypoint_classifier\\keypoint_classifier.keras\n",
      "73/73 [==============================] - 0s 1ms/step - loss: 0.2095 - accuracy: 0.9260 - val_loss: 0.0548 - val_accuracy: 0.9922\n",
      "Epoch 177/1000\n",
      " 1/73 [..............................] - ETA: 0s - loss: 0.1490 - accuracy: 0.9531\n",
      "Epoch 177: saving model to model/keypoint_classifier\\keypoint_classifier.keras\n",
      "73/73 [==============================] - 0s 1ms/step - loss: 0.2142 - accuracy: 0.9215 - val_loss: 0.0581 - val_accuracy: 0.9935\n",
      "Epoch 178/1000\n",
      " 1/73 [..............................] - ETA: 0s - loss: 0.1555 - accuracy: 0.9375\n",
      "Epoch 178: saving model to model/keypoint_classifier\\keypoint_classifier.keras\n",
      "73/73 [==============================] - 0s 1ms/step - loss: 0.2099 - accuracy: 0.9263 - val_loss: 0.0577 - val_accuracy: 0.9938\n",
      "Epoch 179/1000\n",
      " 1/73 [..............................] - ETA: 0s - loss: 0.2496 - accuracy: 0.9141\n",
      "Epoch 179: saving model to model/keypoint_classifier\\keypoint_classifier.keras\n",
      "73/73 [==============================] - 0s 1ms/step - loss: 0.2128 - accuracy: 0.9237 - val_loss: 0.0593 - val_accuracy: 0.9928\n",
      "Epoch 180/1000\n",
      " 1/73 [..............................] - ETA: 0s - loss: 0.1628 - accuracy: 0.9453\n",
      "Epoch 180: saving model to model/keypoint_classifier\\keypoint_classifier.keras\n",
      "73/73 [==============================] - 0s 1ms/step - loss: 0.2073 - accuracy: 0.9266 - val_loss: 0.0612 - val_accuracy: 0.9938\n",
      "Epoch 181/1000\n",
      " 1/73 [..............................] - ETA: 0s - loss: 0.1780 - accuracy: 0.9453\n",
      "Epoch 181: saving model to model/keypoint_classifier\\keypoint_classifier.keras\n",
      "73/73 [==============================] - 0s 1ms/step - loss: 0.2130 - accuracy: 0.9211 - val_loss: 0.0580 - val_accuracy: 0.9941\n",
      "Epoch 182/1000\n",
      " 1/73 [..............................] - ETA: 0s - loss: 0.1884 - accuracy: 0.9297\n",
      "Epoch 182: saving model to model/keypoint_classifier\\keypoint_classifier.keras\n",
      "73/73 [==============================] - 0s 1ms/step - loss: 0.2099 - accuracy: 0.9248 - val_loss: 0.0570 - val_accuracy: 0.9945\n",
      "Epoch 182: early stopping\n"
     ]
    },
    {
     "data": {
      "text/plain": [
       "<keras.src.callbacks.History at 0x1a1825dcad0>"
      ]
     },
     "execution_count": 12,
     "metadata": {},
     "output_type": "execute_result"
    }
   ],
   "source": [
    "model.fit(\n",
    "    X_train,\n",
    "    y_train,\n",
    "    epochs=1000,\n",
    "    batch_size=128,\n",
    "    validation_data=(X_test, y_test),\n",
    "    callbacks=[cp_callback, es_callback]\n",
    ")"
   ]
  },
  {
   "cell_type": "code",
   "execution_count": 13,
   "metadata": {
    "colab": {
     "base_uri": "https://localhost:8080/"
    },
    "id": "pxvb2Y299hE3",
    "outputId": "59eb3185-2e37-4b9e-bc9d-ab1b8ac29b7f"
   },
   "outputs": [
    {
     "name": "stdout",
     "output_type": "stream",
     "text": [
      "25/25 [==============================] - 0s 500us/step - loss: 0.0570 - accuracy: 0.9945\n"
     ]
    }
   ],
   "source": [
    "# Model evaluation\n",
    "val_loss, val_acc = model.evaluate(X_test, y_test, batch_size=128)"
   ]
  },
  {
   "cell_type": "code",
   "execution_count": 14,
   "metadata": {
    "id": "RBkmDeUW9hE4"
   },
   "outputs": [],
   "source": [
    "# Loading the saved model\n",
    "model = tf.keras.models.load_model(model_save_path)"
   ]
  },
  {
   "cell_type": "code",
   "execution_count": 15,
   "metadata": {
    "colab": {
     "base_uri": "https://localhost:8080/"
    },
    "id": "tFz9Tb0I9hE4",
    "outputId": "1c3b3528-54ae-4ee2-ab04-77429211cbef"
   },
   "outputs": [
    {
     "name": "stdout",
     "output_type": "stream",
     "text": [
      "1/1 [==============================] - 0s 42ms/step\n",
      "[2.2425025e-25 1.5744855e-24 0.0000000e+00 9.9984682e-01 3.7851944e-09\n",
      " 1.2797032e-13 8.5231285e-30 1.4722129e-04 1.1818164e-30 5.9415224e-06]\n",
      "3\n"
     ]
    }
   ],
   "source": [
    "# Inference test\n",
    "predict_result = model.predict(np.array([X_test[0]]))\n",
    "print(np.squeeze(predict_result))\n",
    "print(np.argmax(np.squeeze(predict_result)))"
   ]
  },
  {
   "cell_type": "markdown",
   "metadata": {
    "id": "S3U4yNWx9hE4"
   },
   "source": [
    "# Confusion matrix"
   ]
  },
  {
   "cell_type": "code",
   "execution_count": 16,
   "metadata": {
    "colab": {
     "base_uri": "https://localhost:8080/",
     "height": 582
    },
    "id": "AP1V6SCk9hE5",
    "outputId": "08e41a80-7a4a-4619-8125-ecc371368d19"
   },
   "outputs": [
    {
     "name": "stdout",
     "output_type": "stream",
     "text": [
      "97/97 [==============================] - 0s 359us/step\n"
     ]
    },
    {
     "data": {
      "image/png": "[encoded data removed]",
      "text/plain": [
       "<Figure size 700x600 with 2 Axes>"
      ]
     },
     "metadata": {},
     "output_type": "display_data"
    },
    {
     "name": "stdout",
     "output_type": "stream",
     "text": [
      "Classification Report\n",
      "              precision    recall  f1-score   support\n",
      "\n",
      "           0       1.00      1.00      1.00       376\n",
      "           1       0.99      1.00      1.00       286\n",
      "           2       1.00      1.00      1.00       281\n",
      "           3       1.00      1.00      1.00       265\n",
      "           4       0.99      0.98      0.98       456\n",
      "           5       0.97      0.99      0.98       285\n",
      "           6       1.00      1.00      1.00       298\n",
      "           7       1.00      1.00      1.00       257\n",
      "           8       1.00      1.00      1.00       301\n",
      "           9       1.00      1.00      1.00       268\n",
      "\n",
      "    accuracy                           0.99      3073\n",
      "   macro avg       0.99      1.00      0.99      3073\n",
      "weighted avg       0.99      0.99      0.99      3073\n",
      "\n"
     ]
    }
   ],
   "source": [
    "import pandas as pd\n",
    "import seaborn as sns\n",
    "import matplotlib.pyplot as plt\n",
    "from sklearn.metrics import confusion_matrix, classification_report\n",
    "\n",
    "def print_confusion_matrix(y_true, y_pred, report=True):\n",
    "    labels = sorted(list(set(y_true)))\n",
    "    cmx_data = confusion_matrix(y_true, y_pred, labels=labels)\n",
    "    \n",
    "    df_cmx = pd.DataFrame(cmx_data, index=labels, columns=labels)\n",
    " \n",
    "    fig, ax = plt.subplots(figsize=(7, 6))\n",
    "    sns.heatmap(df_cmx, annot=True, fmt='g' ,square=False)\n",
    "    ax.set_ylim(len(set(y_true)), 0)\n",
    "    plt.show()\n",
    "    \n",
    "    if report:\n",
    "        print('Classification Report')\n",
    "        print(classification_report(y_test, y_pred))\n",
    "\n",
    "Y_pred = model.predict(X_test)\n",
    "y_pred = np.argmax(Y_pred, axis=1)\n",
    "\n",
    "print_confusion_matrix(y_test, y_pred)"
   ]
  },
  {
   "cell_type": "markdown",
   "metadata": {
    "id": "FNP6aqzc9hE5"
   },
   "source": [
    "# Convert to model for Tensorflow-Lite"
   ]
  },
  {
   "cell_type": "code",
   "execution_count": 17,
   "metadata": {
    "id": "ODjnYyld9hE6"
   },
   "outputs": [],
   "source": [
    "# Save as a model dedicated to inference\n",
    "# model.save(model_save_path, include_optimizer=False)\n",
    "model.save(model_save_path)"
   ]
  },
  {
   "cell_type": "code",
   "execution_count": 18,
   "metadata": {
    "colab": {
     "base_uri": "https://localhost:8080/"
    },
    "id": "zRfuK8Y59hE6",
    "outputId": "a4ca585c-b5d5-4244-8291-8674063209bb"
   },
   "outputs": [
    {
     "name": "stdout",
     "output_type": "stream",
     "text": [
      "INFO:tensorflow:Assets written to: C:\\Users\\Admin\\AppData\\Local\\Temp\\tmp7ob74vz6\\assets\n"
     ]
    },
    {
     "name": "stderr",
     "output_type": "stream",
     "text": [
      "INFO:tensorflow:Assets written to: C:\\Users\\Admin\\AppData\\Local\\Temp\\tmp7ob74vz6\\assets\n"
     ]
    },
    {
     "data": {
      "text/plain": [
       "6808"
      ]
     },
     "execution_count": 18,
     "metadata": {},
     "output_type": "execute_result"
    }
   ],
   "source": [
    "# Transform model (quantization)\n",
    "\n",
    "converter = tf.lite.TFLiteConverter.from_keras_model(model)\n",
    "converter.optimizations = [tf.lite.Optimize.DEFAULT]\n",
    "# converter.target_spec.supported_ops = [\n",
    "#                 tf.lite.OpsSet.TFLITE_BUILTINS,  # enable TensorFlow Lite ops.\n",
    "#                 tf.lite.OpsSet.SELECT_TF_OPS  # enable TensorFlow ops.\n",
    "#             ]\n",
    "tflite_quantized_model = converter.convert()\n",
    "\n",
    "open(tflite_save_path, 'wb').write(tflite_quantized_model)"
   ]
  },
  {
   "cell_type": "markdown",
   "metadata": {
    "id": "CHBPBXdx9hE6"
   },
   "source": [
    "# Inference test"
   ]
  },
  {
   "cell_type": "code",
   "execution_count": 19,
   "metadata": {
    "id": "mGAzLocO9hE7"
   },
   "outputs": [],
   "source": [
    "interpreter = tf.lite.Interpreter(model_path=tflite_save_path)\n",
    "interpreter.allocate_tensors()"
   ]
  },
  {
   "cell_type": "code",
   "execution_count": 20,
   "metadata": {
    "id": "oQuDK8YS9hE7"
   },
   "outputs": [],
   "source": [
    "# Get I / O tensor\n",
    "input_details = interpreter.get_input_details()\n",
    "output_details = interpreter.get_output_details()"
   ]
  },
  {
   "cell_type": "code",
   "execution_count": 21,
   "metadata": {
    "id": "2_ixAf_l9hE7"
   },
   "outputs": [],
   "source": [
    "interpreter.set_tensor(input_details[0]['index'], np.array([X_test[0]]))"
   ]
  },
  {
   "cell_type": "code",
   "execution_count": 22,
   "metadata": {
    "colab": {
     "base_uri": "https://localhost:8080/"
    },
    "id": "s4FoAnuc9hE7",
    "outputId": "91f18257-8d8b-4ef3-c558-e9b5f94fabbf",
    "scrolled": true
   },
   "outputs": [
    {
     "name": "stdout",
     "output_type": "stream",
     "text": [
      "CPU times: total: 0 ns\n",
      "Wall time: 0 ns\n"
     ]
    }
   ],
   "source": [
    "%%time\n",
    "# Inference implementation\n",
    "interpreter.invoke()\n",
    "tflite_results = interpreter.get_tensor(output_details[0]['index'])"
   ]
  },
  {
   "cell_type": "code",
   "execution_count": 23,
   "metadata": {
    "colab": {
     "base_uri": "https://localhost:8080/"
    },
    "id": "vONjp19J9hE8",
    "outputId": "77205e24-fd00-42c4-f7b6-e06e527c2cba"
   },
   "outputs": [
    {
     "name": "stdout",
     "output_type": "stream",
     "text": [
      "[2.2425109e-25 1.5744855e-24 0.0000000e+00 9.9984682e-01 3.7852086e-09\n",
      " 1.2797055e-13 8.5231939e-30 1.4722184e-04 1.1818075e-30 5.9415224e-06]\n",
      "3\n"
     ]
    }
   ],
   "source": [
    "print(np.squeeze(tflite_results))\n",
    "print(np.argmax(np.squeeze(tflite_results)))"
   ]
  }
 ],
 "metadata": {
  "accelerator": "GPU",
  "colab": {
   "collapsed_sections": [],
   "name": "keypoint_classification_EN.ipynb",
   "provenance": [],
   "toc_visible": true
  },
  "kernelspec": {
   "display_name": "Python 3 (ipykernel)",
   "language": "python",
   "name": "python3"
  },
  "language_info": {
   "codemirror_mode": {
    "name": "ipython",
    "version": 3
   },
   "file_extension": ".py",
   "mimetype": "text/x-python",
   "name": "python",
   "nbconvert_exporter": "python",
   "pygments_lexer": "ipython3",
   "version": "3.11.5"
  }
 },
 "nbformat": 4,
 "nbformat_minor": 4
}
